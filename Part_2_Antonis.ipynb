{
 "cells": [
  {
   "cell_type": "markdown",
   "metadata": {},
   "source": [
    "# Part 2"
   ]
  },
  {
   "cell_type": "code",
   "execution_count": 1,
   "metadata": {},
   "outputs": [],
   "source": [
    "import os\n",
    "import time\n",
    "import numpy as np\n",
    "import matplotlib.pyplot as plt \n",
    "import scipy\n",
    "import scipy.io as spio\n",
    "import pandas as pd\n",
    "from sklearn.model_selection import KFold\n",
    "from sklearn.model_selection import train_test_split\n",
    "import math\n",
    "import urllib\n",
    "from urllib.request import urlopen\n",
    "%matplotlib inline\n",
    "import urllib.request\n",
    "import datetime as dt\n",
    "from datetime import datetime\n",
    "from sklearn.model_selection import KFold\n",
    "from sklearn.model_selection import train_test_split\n",
    "import pandas as pd"
   ]
  },
  {
   "cell_type": "code",
   "execution_count": 2,
   "metadata": {},
   "outputs": [],
   "source": [
    "def generate_data(m,n,winnow=False):\n",
    "    if winnow:\n",
    "        data = np.random.randint(2, size=(m,(n+1)))\n",
    "        data = np.sign(data)\n",
    "    else:\n",
    "        data = np.random.uniform(low=-1, high=1, size=(m,(n+1)))\n",
    "        data = np.sign(data)\n",
    "    x = data\n",
    "    y = data[:,0]\n",
    "    return x,y\n",
    "\n",
    "def generate_data_winnow(m,n):\n",
    "    data = np.random.randint(2, size=(m,(n+1)))\n",
    "    data = np.sign(data)\n",
    "    return data\n",
    "\n",
    "def add_bias(x):\n",
    "    x_with_bias = np.ones((x.shape[0],x.shape[1]+1))\n",
    "    x_with_bias[:,:-1] = x\n",
    "    return x_with_bias"
   ]
  },
  {
   "cell_type": "markdown",
   "metadata": {},
   "source": [
    "## Binary Perceptron"
   ]
  },
  {
   "cell_type": "code",
   "execution_count": 3,
   "metadata": {},
   "outputs": [],
   "source": [
    "# Binary perceptron algorithm \n",
    "# Learning rate? \n",
    "def perceptron_train(x,y,max_epoch=20, tol=0.01, learning_rate=1,random_select=False):\n",
    "    m_train = x.shape[0] #number of examples\n",
    "    n = x.shape[1] #number of features\n",
    "    x = add_bias(x)\n",
    "    error_per_epoch = np.zeros(max_epoch)\n",
    "    errors = np.zeros(m_train)\n",
    "    W = np.zeros(n+1)\n",
    "    \n",
    "    num_errors = 0 \n",
    "    \n",
    "    if random_select:\n",
    "        max_epoch =1\n",
    "        m = np.random.randint(low=0, high=m_train) #select random number of times to train the perceptron. \n",
    "    else:\n",
    "        m = m_train\n",
    "        \n",
    "    for epoch in range(max_epoch):\n",
    "        #print('epoch=',epoch)\n",
    "        errors = np.zeros(m)\n",
    "        num_errors = 0 #This should be bounded..? Maybe calculate the bound in the explanation\n",
    "    \n",
    "        #iterate through training set\n",
    "        for t in range(m):\n",
    "            x_t = x[t,:]\n",
    "            y_t = y[t]\n",
    "            pred_t = np.sign(W@x_t) #0 to begin with \n",
    "    \n",
    "            if pred_t*y_t<=0:\n",
    "                #print('t=',t)\n",
    "                #print('error! y_lab=', y_t)\n",
    "                num_errors +=1\n",
    "                W = W + learning_rate*x_t.T*y_t\n",
    "                errors[t] = num_errors \n",
    "                #print('W=',W)\n",
    "                \n",
    "        error_per_epoch[epoch] = num_errors\n",
    "        #print(epoch, 'error=',errors[-1])\n",
    "        \n",
    "        #print('current_error_rate', error_per_epoch)\n",
    "        \n",
    "        if epoch>1:\n",
    "            #print('old_error=',error_per_epoch[epoch-1])\n",
    "            #print('new_error=',error_per_epoch[epoch])\n",
    "            diff_rates = (error_per_epoch[epoch-1] - error_per_epoch[epoch])/m\n",
    " \n",
    "            #Stop if the error rate has increased, \n",
    "            #or the difference in error rate between the previous one and the current one < tolerance. \n",
    "            if error_per_epoch[epoch]/m < 0.05:\n",
    "                print('error rate< 10%')\n",
    "                if diff_rates<tol:\n",
    "                    print('converging')\n",
    "                    break\n",
    "                elif diff_rates<0:\n",
    "                    print('error increased')\n",
    "                    break\n",
    "                elif error_per_epoch[epoch]==0:\n",
    "                    print('no error')\n",
    "                    break\n",
    "        \n",
    "    return W, error_per_epoch[:epoch+1]\n",
    "\n",
    "\n",
    "def perceptron_test(x_test,y_test,W):\n",
    "    x_test = add_bias(x_test)\n",
    "    m_test = x_test.shape[0]\n",
    "    pred = np.sign(x_test@W) #(n,1) x (m_test,n)\n",
    "    diff = pred - y_test\n",
    "    mistakes = len(diff[diff!=0])   \n",
    "    return mistakes,pred"
   ]
  },
  {
   "cell_type": "code",
   "execution_count": 4,
   "metadata": {},
   "outputs": [
    {
     "name": "stdout",
     "output_type": "stream",
     "text": [
      "error rate< 10%\n",
      "no error\n"
     ]
    }
   ],
   "source": [
    "x,y = generate_data(20,30)\n",
    "W, error_per_epoch = perceptron_train(x,y,max_epoch=30, tol=0.01, learning_rate=1)"
   ]
  },
  {
   "cell_type": "code",
   "execution_count": 5,
   "metadata": {},
   "outputs": [],
   "source": [
    "mistakes,pred = perceptron_test(x[:10],y[:10],W)"
   ]
  },
  {
   "cell_type": "code",
   "execution_count": 6,
   "metadata": {},
   "outputs": [
    {
     "data": {
      "text/plain": [
       "array([8., 3., 2., 0.])"
      ]
     },
     "execution_count": 6,
     "metadata": {},
     "output_type": "execute_result"
    }
   ],
   "source": [
    "error_per_epoch\n",
    "### Does not seem to converge for some combination of x and y. "
   ]
  },
  {
   "cell_type": "markdown",
   "metadata": {},
   "source": [
    "## Winnow"
   ]
  },
  {
   "cell_type": "code",
   "execution_count": 42,
   "metadata": {},
   "outputs": [],
   "source": [
    "def winnow_train(x,y,max_epoch=20,tol=0.01, learning_rate=1):\n",
    "    m = x.shape[0] #number of examples\n",
    "    n = x.shape[1] #number of features\n",
    "    error_per_epoch = np.zeros(max_epoch)\n",
    "    errors = np.zeros(m)\n",
    "    W = np.ones(n)\n",
    "    #x = add_bias(x)\n",
    "    gamma_bound = n/2\n",
    "    mistake_bound = (n/gamma_bound)**2\n",
    "    #print(mistake_bound)\n",
    "    num_errors = 0 \n",
    "    \n",
    "    #for epoch in range(max_epoch):\n",
    "    epoch = 0\n",
    "    while epoch < max_epoch:   \n",
    "        errors = np.zeros(m)\n",
    "        num_errors = 0 #This should be bounded..? Maybe calculate the bound in the explanation\n",
    "        #print('epoch=',epoch)\n",
    "        #iterate through training set\n",
    "        for t in range(m):\n",
    "            \n",
    "            x_t = x[t,:]\n",
    "            y_t = y[t]\n",
    "            gamma = W@x_t\n",
    "            \n",
    "            if gamma>= gamma_bound:\n",
    "                pred_t = 1\n",
    "            else:\n",
    "                pred_t = 0\n",
    "            \n",
    "            if pred_t != y_t:\n",
    "#                 print('error!')\n",
    "                #print('pred=',pred_t)\n",
    "#                 print('y_t=',y_t)\n",
    "                num_errors+=1\n",
    "                #print('x_t=',x_t)\n",
    "                #print('y_t=',y_t)\n",
    "                power = (y_t - pred_t)*x_t/1.0 #1 when error made on positive class, -1 when error made on negative class\n",
    "                #print('ratio of update of W',power)\n",
    "                W = W*(2**power) #element wise multiplication, and element wise power\n",
    "                #print('W=',W)\n",
    "                #Once weight>n, it should no longer change. \n",
    "                W[W>n] = n\n",
    "#                 print(W)\n",
    "                errors[t] = num_errors\n",
    "#                 print('current error',num_errors)\n",
    "                #print('W=',W)\n",
    "                \n",
    "        error_per_epoch[epoch] = num_errors\n",
    "        \n",
    "        if epoch>1:\n",
    "            diff_rates = (error_per_epoch[epoch-1] - error_per_epoch[epoch])/m\n",
    "            #print(\"Error rate is now \", error_per_epoch[epoch]/m )\n",
    "            #Stop if the error rate has increased, \n",
    "            #or the difference in error rate between the previous one and the current one < tolerance. \n",
    "            if error_per_epoch[epoch]/m < 0.05:\n",
    "                #print('error rate< 5%')\n",
    "                if diff_rates<tol:\n",
    "                    print('converging')\n",
    "                    break\n",
    "                elif diff_rates<0:\n",
    "                    print('error increased')\n",
    "                    break\n",
    "                elif error_per_epoch[epoch]==0:\n",
    "                    print('no error')  \n",
    "                    break\n",
    "        epoch += 1\n",
    "    return W, error_per_epoch[:epoch+1]\n",
    "\n",
    "\n",
    "def winnow_test(x_test,y_test,W):\n",
    "    m_test = x_test.shape[0]\n",
    "    n = x_test.shape[1]\n",
    "    gamma = x_test@W\n",
    "    pred = np.zeros(m_test)\n",
    "    pred[gamma>=n/2] = 1\n",
    "    diff = pred - y_test\n",
    "    print(diff)\n",
    "    mistakes = len(diff[diff!=0])  \n",
    "    return mistakes,pred"
   ]
  },
  {
   "cell_type": "code",
   "execution_count": 43,
   "metadata": {},
   "outputs": [
    {
     "name": "stdout",
     "output_type": "stream",
     "text": [
      "no error\n",
      "[0. 0. 0. 0. 0. 0. 0. 0. 0. 0. 0. 0. 0. 0. 0. 0. 0. 0. 0. 0.]\n"
     ]
    },
    {
     "data": {
      "text/plain": [
       "0"
      ]
     },
     "execution_count": 43,
     "metadata": {},
     "output_type": "execute_result"
    }
   ],
   "source": [
    "x,y = generate_data(40,20,winnow=True)\n",
    "W, error_per_epoch = winnow_train(x,y,max_epoch=15,tol=0.01, learning_rate=1)\n",
    "mistakes,pred = winnow_test(x[:20],y[:20],W)\n",
    "mistakes"
   ]
  },
  {
   "cell_type": "code",
   "execution_count": 9,
   "metadata": {},
   "outputs": [],
   "source": [
    "# Least Squares Regression"
   ]
  },
  {
   "cell_type": "code",
   "execution_count": 51,
   "metadata": {},
   "outputs": [
    {
     "data": {
      "text/plain": [
       "0"
      ]
     },
     "execution_count": 51,
     "metadata": {},
     "output_type": "execute_result"
    }
   ],
   "source": [
    "def compute_primal(X, Y):\n",
    "    \"\"\"\n",
    "    Computes vector omega, which is called the primal form of the linear regression.\n",
    "    :param X: the feature map vector\n",
    "    :param Y: the target values of the data points\n",
    "    :return: the vector omega\n",
    "    \"\"\"\n",
    "    omega = np.linalg.pinv(X.T @ X) @ X.T @ Y\n",
    "    return omega\n",
    "\n",
    "def linear_predict(X_test, y_test, omega):\n",
    "    f = X_test @ omega\n",
    "    pred = np.where(f < 0, -1, 1)\n",
    "    diff = pred - y_test\n",
    "    mistakes = len(diff[diff!=0])\n",
    "    return mistakes, pred\n",
    "\n",
    "x,y = generate_data(40,20)\n",
    "W = compute_primal(x,y)\n",
    "mistakes,pred = linear_predict(x[:10], y[:10], W)\n",
    "mistakes"
   ]
  },
  {
   "cell_type": "code",
   "execution_count": 11,
   "metadata": {},
   "outputs": [],
   "source": [
    "# 1 Nearest Neighbors"
   ]
  },
  {
   "cell_type": "code",
   "execution_count": 73,
   "metadata": {},
   "outputs": [],
   "source": [
    "def pairwise_distance_double(X1,X2): # distances of X training data, double matrices, X1 and X2\n",
    "    X1_pow = (X1**2).sum(axis=1).reshape(X1.shape[0],1) #sum the rows, size m1 array\n",
    "    X2_pow = (X2**2).sum(axis=1).reshape(X2.shape[0],1) #sum the rows, size m2 array\n",
    "    G = np.matmul(X1,X2.T)\n",
    "    m1,m2 =G.shape[0],G.shape[1] \n",
    "    distances_sq = np.matmul(X1_pow,np.ones((m2,1)).T)+ np.matmul(np.ones((m1,1)),X2_pow.T)-2.0*G\n",
    "    return distances_sq\n",
    "\n",
    "def knn_test(x_test, y_test, x_train, y_train):\n",
    "    distances = pairwise_distance_double(x_test, x_train)\n",
    "    pred = np.zeros(x_test.shape[0])\n",
    "    if x_test.shape[0] == 1:\n",
    "        return 0, y_train\n",
    "    \n",
    "    sorted_distances = np.argsort(distances)[:,:1]\n",
    "    pred = y_train[sorted_distances].flatten()\n",
    "#     for i in range(x_test.shape[0]):\n",
    "#         sorted_distances = np.argsort(distances[i])\n",
    "#         nearest_j = sorted_distances[0]\n",
    "#         pred[i] = y_train[nearest_j]\n",
    "\n",
    "    diff = pred - y_test\n",
    "    mistakes = len(diff[diff!=0])  \n",
    "    \n",
    "    return mistakes,pred"
   ]
  },
  {
   "cell_type": "code",
   "execution_count": 74,
   "metadata": {},
   "outputs": [
    {
     "data": {
      "text/plain": [
       "0"
      ]
     },
     "execution_count": 74,
     "metadata": {},
     "output_type": "execute_result"
    }
   ],
   "source": [
    "x,y = generate_data(40,20,winnow=False)\n",
    "mistakes,pred = knn_test(x[:20], y[:20], x, y)\n",
    "mistakes"
   ]
  },
  {
   "cell_type": "markdown",
   "metadata": {},
   "source": [
    "## Estimate Sample Complexity"
   ]
  },
  {
   "cell_type": "markdown",
   "metadata": {},
   "source": [
    "Justifying the choice of sample size: when n < log_2(1000), there is a possbility that the sample contains all possible combinations of n agents' outcomes. Igore this "
   ]
  },
  {
   "cell_type": "code",
   "execution_count": 22,
   "metadata": {},
   "outputs": [],
   "source": [
    "#Compute by brute force, the sample complexity of each training algorithms\n",
    "#Might derive a lower bound for m for a fixed n. Refer to lecture notes. \n",
    "\n",
    "def calculate_gen_error(m, n, x_test, y_test, function_choice):\n",
    "    x,y = generate_data(m,n,function_choice=='winnow')\n",
    "    if function_choice=='winnow':\n",
    "        W, _ = winnow_train(x,y,max_epoch=1,tol=0.01, learning_rate=1)\n",
    "        test_mistakes,_ = winnow_test(x_test,y_test,W)\n",
    "    elif function_choice == 'perceptron':\n",
    "        W, _ = perceptron_train(x,y,max_epoch=1, tol=0.01, learning_rate=1,random_select=True)\n",
    "        test_mistakes,_= perceptron_test(x_test,y_test,W)\n",
    "    elif function_choice == 'linear':\n",
    "        W = compute_primal(x,y)\n",
    "        test_mistakes,_ = linear_predict(x_test, y_test, W)\n",
    "    elif function_choice == '1nn':\n",
    "        test_mistakes,_ = knn_test(x_test, y_test, x, y)\n",
    "    return (1.0/ y_test.shape[0]) * test_mistakes\n",
    "\n",
    "def estimate_sample_complexity(max_m,max_n,function_choice):\n",
    "    number_of_runs = 20\n",
    "    sample_complexity = np.zeros((max_n, number_of_runs))\n",
    "    iterations_per_n = np.zeros(max_n)\n",
    "    for n in np.arange(1,max_n):\n",
    "        #research for a better test size, curse of dimensionality\n",
    "        test_size = 2**n\n",
    "        test_size = test_size if test_size > 0 and test_size < 10000 else 10000\n",
    "        print(\"Now n=\", n, \"............\", end='\\r')\n",
    "        \n",
    "        #Repeat for number_of_runs runs. \n",
    "        for run in range(number_of_runs):\n",
    "            x_test,y_test = generate_data(test_size,n,function_choice=='winnow')\n",
    "            \n",
    "            # These are our \"pivotal\" elements. We start by examining the (1,n) interval and then we will refine it\n",
    "            m_left = 1\n",
    "            error_left = calculate_gen_error(m_left, n, x_test, y_test, function_choice)\n",
    "            m_right = n\n",
    "            error_right = calculate_gen_error(m_right, n, x_test, y_test, function_choice)\n",
    "            \n",
    "            min_m_per_run = n\n",
    "            min_error_per_run = 1\n",
    "            m_current = n\n",
    "            iterations = 1\n",
    "            \n",
    "            while True:\n",
    "                # Try the mean to see what kind of error we get\n",
    "                m = int((m_left + m_right) / 2)\n",
    "                \n",
    "                # Generalisation error is upper bound of training mistakes over total number of observations in D\n",
    "                gen_error = calculate_gen_error(m, n, x_test, y_test, function_choice)\n",
    "                \n",
    "#                 print(\"m_left: \", m_left, \", m_right: \", m_right, \", m: \", m, \", error: \", gen_error)\n",
    "                # If we're at the case with only two elements, then converge\n",
    "                if m_right == m_left + 1:\n",
    "                    min_m_per_run = m_left if error_left < error_right else m_right\n",
    "                    break\n",
    "                \n",
    "                # We check if it's smaller than 0.1. If it is then we're going to focus on (m_left, m) interval\n",
    "                # Otherwise we will check (m, m_right)\n",
    "                if gen_error < 0.1:\n",
    "                    # If we have a better \n",
    "                    if m < min_m_per_run:\n",
    "#                         print(\"Kicking off \", min_m_per_run, \" (\", min_error_per_run,\") in favour of \", m, \"(\",gen_error,\")\")\n",
    "                        min_m_per_run = m\n",
    "                        min_error_per_run = gen_error\n",
    "                        \n",
    "                    m_right = m            \n",
    "                    error_right = calculate_gen_error(m_right, n, x_test, y_test, function_choice)\n",
    "                else:\n",
    "                    m_left = m\n",
    "                    error_left = calculate_gen_error(m_left, n, x_test, y_test, function_choice)\n",
    "                            \n",
    "                m_current = m\n",
    "                if m_left == m_right:\n",
    "                    break\n",
    "                iterations += 1\n",
    "#             print(\"FINAL: \", min_m_per_run)\n",
    "            sample_complexity[n, run] = min_m_per_run\n",
    "            iterations_per_n[n] += iterations\n",
    "#             print(\"Found m=\", min_m_per_run, \" for n=\", n, \" with \", iterations, \" iterations\")\n",
    "        iterations_per_n[n] /= number_of_runs\n",
    "        \n",
    "    return sample_complexity, iterations_per_n"
   ]
  },
  {
   "cell_type": "code",
   "execution_count": 25,
   "metadata": {
    "scrolled": false
   },
   "outputs": [],
   "source": [
    "def plot_sample_complexity(sample_complexity):\n",
    "    means = np.mean(sample_complexity, axis=1)\n",
    "    errors = np.std(sample_complexity, axis=1)\n",
    "    plt.errorbar(np.arange(1,sample_complexity.shape[0]+1), means, errors, marker='^')"
   ]
  },
  {
   "cell_type": "code",
   "execution_count": 77,
   "metadata": {},
   "outputs": [
    {
     "name": "stdout",
     "output_type": "stream",
     "text": [
      "Now n= 99 ............\r"
     ]
    },
    {
     "data": {
      "image/png": "[encoded data removed]",
      "text/plain": [
       "<Figure size 432x288 with 1 Axes>"
      ]
     },
     "metadata": {
      "needs_background": "light"
     },
     "output_type": "display_data"
    }
   ],
   "source": [
    "sample_complexity, iterations = estimate_sample_complexity(100,100,'perceptron')\n",
    "plot_sample_complexity(sample_complexity)"
   ]
  },
  {
   "cell_type": "code",
   "execution_count": 179,
   "metadata": {},
   "outputs": [
    {
     "name": "stdout",
     "output_type": "stream",
     "text": [
      "Now n= 99 ............\r"
     ]
    },
    {
     "data": {
      "image/png": "[encoded data removed]",
      "text/plain": [
       "<Figure size 432x288 with 1 Axes>"
      ]
     },
     "metadata": {
      "needs_background": "light"
     },
     "output_type": "display_data"
    }
   ],
   "source": [
    "sample_complexity, iterations = estimate_sample_complexity(100,100,'winnow') #a bit slower, for some reason. \n",
    "plot_sample_complexity(sample_complexity)"
   ]
  },
  {
   "cell_type": "code",
   "execution_count": 53,
   "metadata": {},
   "outputs": [
    {
     "name": "stdout",
     "output_type": "stream",
     "text": [
      "Now n= 99 ............\r"
     ]
    },
    {
     "data": {
      "image/png": "[encoded data removed]",
      "text/plain": [
       "<Figure size 432x288 with 1 Axes>"
      ]
     },
     "metadata": {
      "needs_background": "light"
     },
     "output_type": "display_data"
    }
   ],
   "source": [
    "sample_complexity, iterations = estimate_sample_complexity(100,100,'linear') #a bit slower, for some reason. \n",
    "plot_sample_complexity(sample_complexity)"
   ]
  },
  {
   "cell_type": "code",
   "execution_count": null,
   "metadata": {
    "collapsed": true
   },
   "outputs": [],
   "source": [
    "## Could potentially use Binary search method"
   ]
  },
  {
   "cell_type": "code",
   "execution_count": null,
   "metadata": {
    "collapsed": true
   },
   "outputs": [],
   "source": [
    "#m <= nplog(H_size/delta)/epsilon\n",
    "#H_size restricted on S <= 2^m "
   ]
  },
  {
   "cell_type": "code",
   "execution_count": 76,
   "metadata": {},
   "outputs": [
    {
     "name": "stdout",
     "output_type": "stream",
     "text": [
      "Now n= 99 ............\r"
     ]
    },
    {
     "data": {
      "image/png": "[encoded data removed]",
      "text/plain": [
       "<Figure size 432x288 with 1 Axes>"
      ]
     },
     "metadata": {
      "needs_background": "light"
     },
     "output_type": "display_data"
    }
   ],
   "source": [
    "sample_complexity, iterations = estimate_sample_complexity(100,100,'1nn')\n",
    "plot_sample_complexity(sample_complexity)"
   ]
  }
 ],
 "metadata": {
  "kernelspec": {
   "display_name": "Python 3",
   "language": "python",
   "name": "python3"
  },
  "language_info": {
   "codemirror_mode": {
    "name": "ipython",
    "version": 3
   },
   "file_extension": ".py",
   "mimetype": "text/x-python",
   "name": "python",
   "nbconvert_exporter": "python",
   "pygments_lexer": "ipython3",
   "version": "3.6.6"
  }
 },
 "nbformat": 4,
 "nbformat_minor": 2
}
