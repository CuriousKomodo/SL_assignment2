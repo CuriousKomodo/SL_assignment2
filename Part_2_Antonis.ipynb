{
 "cells": [
  {
   "cell_type": "markdown",
   "metadata": {},
   "source": [
    "# Part 2"
   ]
  },
  {
   "cell_type": "code",
   "execution_count": 1,
   "metadata": {
    "collapsed": true
   },
   "outputs": [],
   "source": [
    "import os\n",
    "import time\n",
    "import numpy as np\n",
    "import matplotlib.pyplot as plt \n",
    "import scipy\n",
    "import scipy.io as spio\n",
    "import pandas as pd\n",
    "from sklearn.model_selection import KFold\n",
    "from sklearn.model_selection import train_test_split\n",
    "import math\n",
    "import urllib\n",
    "from urllib.request import urlopen\n",
    "%matplotlib inline\n",
    "import urllib.request\n",
    "import datetime as dt\n",
    "from datetime import datetime\n",
    "from sklearn.model_selection import KFold\n",
    "from sklearn.model_selection import train_test_split\n",
    "import pandas as pd"
   ]
  },
  {
   "cell_type": "code",
   "execution_count": 2,
   "metadata": {
    "collapsed": true
   },
   "outputs": [],
   "source": [
    "def generate_data(m,n,winnow=False):\n",
    "    if winnow:\n",
    "        data = np.random.randint(2, size=(m,(n+1)))\n",
    "        data = np.sign(data)\n",
    "    else:\n",
    "        data = np.random.uniform(low=-1, high=1, size=(m,(n+1)))\n",
    "        data = np.sign(data)\n",
    "    x = data\n",
    "    y = data[:,0]\n",
    "    return x,y\n",
    "\n",
    "def generate_data_winnow(m,n):\n",
    "    data = np.random.randint(2, size=(m,(n+1)))\n",
    "    data = np.sign(data)\n",
    "    return data\n",
    "\n",
    "def add_bias(x):\n",
    "    x_with_bias = np.ones((x.shape[0],x.shape[1]+1))\n",
    "    x_with_bias[:,:-1] = x\n",
    "    return x_with_bias"
   ]
  },
  {
   "cell_type": "markdown",
   "metadata": {},
   "source": [
    "## Binary Perceptron"
   ]
  },
  {
   "cell_type": "code",
   "execution_count": 3,
   "metadata": {
    "collapsed": true
   },
   "outputs": [],
   "source": [
    "# Binary perceptron algorithm \n",
    "# Learning rate? \n",
    "def perceptron_train(x,y,max_epoch=20, tol=0.01, learning_rate=1,random_select=False):\n",
    "    m_train = x.shape[0] #number of examples\n",
    "    n = x.shape[1] #number of features\n",
    "    x = add_bias(x)\n",
    "    error_per_epoch = np.zeros(max_epoch)\n",
    "    errors = np.zeros(m_train)\n",
    "    W = np.zeros(n+1)\n",
    "    \n",
    "    num_errors = 0 \n",
    "    \n",
    "    if random_select:\n",
    "        max_epoch =1\n",
    "        m = np.random.randint(low=0, high=m_train) #select random number of times to train the perceptron. \n",
    "    else:\n",
    "        m = m_train\n",
    "        \n",
    "    for epoch in range(max_epoch):\n",
    "        #print('epoch=',epoch)\n",
    "        errors = np.zeros(m)\n",
    "        num_errors = 0 #This should be bounded..? Maybe calculate the bound in the explanation\n",
    "    \n",
    "        #iterate through training set\n",
    "        for t in range(m):\n",
    "            x_t = x[t,:]\n",
    "            y_t = y[t]\n",
    "            pred_t = np.sign(W@x_t) #0 to begin with \n",
    "    \n",
    "            if pred_t*y_t<=0:\n",
    "                #print('t=',t)\n",
    "                #print('error! y_lab=', y_t)\n",
    "                num_errors +=1\n",
    "                W = W + learning_rate*x_t.T*y_t\n",
    "                errors[t] = num_errors \n",
    "                #print('W=',W)\n",
    "                \n",
    "        error_per_epoch[epoch] = num_errors\n",
    "        #print(epoch, 'error=',errors[-1])\n",
    "        \n",
    "        #print('current_error_rate', error_per_epoch)\n",
    "        \n",
    "        if epoch>1:\n",
    "            #print('old_error=',error_per_epoch[epoch-1])\n",
    "            #print('new_error=',error_per_epoch[epoch])\n",
    "            diff_rates = (error_per_epoch[epoch-1] - error_per_epoch[epoch])/m\n",
    " \n",
    "            #Stop if the error rate has increased, \n",
    "            #or the difference in error rate between the previous one and the current one < tolerance. \n",
    "            if error_per_epoch[epoch]/m < 0.05:\n",
    "                print('error rate< 10%')\n",
    "                if diff_rates<tol:\n",
    "                    print('converging')\n",
    "                    break\n",
    "                elif diff_rates<0:\n",
    "                    print('error increased')\n",
    "                    break\n",
    "                elif error_per_epoch[epoch]==0:\n",
    "                    print('no error')\n",
    "                    break\n",
    "        \n",
    "    return W, error_per_epoch[:epoch+1]\n",
    "\n",
    "\n",
    "def perceptron_test(x_test,y_test,W):\n",
    "    x_test = add_bias(x_test)\n",
    "    m_test = x_test.shape[0]\n",
    "    pred = np.sign(x_test@W) #(n,1) x (m_test,n)\n",
    "    diff = pred - y_test\n",
    "    mistakes = len(diff[diff!=0])   \n",
    "    return mistakes,pred"
   ]
  },
  {
   "cell_type": "code",
   "execution_count": 6,
   "metadata": {
    "collapsed": false
   },
   "outputs": [
    {
     "name": "stdout",
     "output_type": "stream",
     "text": [
      "error rate< 10%\n",
      "no error\n"
     ]
    }
   ],
   "source": [
    "x,y = generate_data(20,30)\n",
    "W, error_per_epoch = perceptron_train(x,y,max_epoch=30, tol=0.01, learning_rate=1)"
   ]
  },
  {
   "cell_type": "code",
   "execution_count": 5,
   "metadata": {
    "collapsed": true
   },
   "outputs": [],
   "source": [
    "mistakes,pred = perceptron_test(x[:10],y[:10],W)"
   ]
  },
  {
   "cell_type": "code",
   "execution_count": 6,
   "metadata": {
    "collapsed": false
   },
   "outputs": [
    {
     "data": {
      "text/plain": [
       "array([8., 3., 2., 0.])"
      ]
     },
     "execution_count": 6,
     "metadata": {},
     "output_type": "execute_result"
    }
   ],
   "source": [
    "error_per_epoch\n",
    "### Does not seem to converge for some combination of x and y. "
   ]
  },
  {
   "cell_type": "markdown",
   "metadata": {},
   "source": [
    "## Winnow"
   ]
  },
  {
   "cell_type": "code",
   "execution_count": 4,
   "metadata": {
    "collapsed": true
   },
   "outputs": [],
   "source": [
    "def winnow_train(x,y,max_epoch=20,tol=0.01, learning_rate=1):\n",
    "    m = x.shape[0] #number of examples\n",
    "    n = x.shape[1] #number of features\n",
    "    error_per_epoch = np.zeros(max_epoch)\n",
    "    errors = np.zeros(m)\n",
    "    W = np.ones(n)\n",
    "    #x = add_bias(x)\n",
    "    gamma_bound = n/2\n",
    "    mistake_bound = (n/gamma_bound)**2\n",
    "    #print(mistake_bound)\n",
    "    num_errors = 0 \n",
    "    \n",
    "    #for epoch in range(max_epoch):\n",
    "    epoch = 0\n",
    "    while epoch < max_epoch:   \n",
    "        errors = np.zeros(m)\n",
    "        num_errors = 0 #This should be bounded..? Maybe calculate the bound in the explanation\n",
    "        #print('epoch=',epoch)\n",
    "        #iterate through training set\n",
    "        for t in range(m):\n",
    "            \n",
    "            x_t = x[t,:]\n",
    "            y_t = y[t]\n",
    "            gamma = W@x_t\n",
    "            \n",
    "            if gamma>= gamma_bound:\n",
    "                pred_t = 1\n",
    "            else:\n",
    "                pred_t = 0\n",
    "            \n",
    "            if pred_t != y_t:\n",
    "#                 print('error!')\n",
    "                #print('pred=',pred_t)\n",
    "#                 print('y_t=',y_t)\n",
    "                num_errors+=1\n",
    "                #print('x_t=',x_t)\n",
    "                #print('y_t=',y_t)\n",
    "                power = (y_t - pred_t)*x_t/1.0 #1 when error made on positive class, -1 when error made on negative class\n",
    "                #print('ratio of update of W',power)\n",
    "                W = W*(2**power) #element wise multiplication, and element wise power\n",
    "                #print('W=',W)\n",
    "                #Once weight>n, it should no longer change. \n",
    "                W[W>n] = n\n",
    "#                 print(W)\n",
    "                errors[t] = num_errors\n",
    "#                 print('current error',num_errors)\n",
    "                #print('W=',W)\n",
    "                \n",
    "        error_per_epoch[epoch] = num_errors\n",
    "        \n",
    "        if epoch>1:\n",
    "            diff_rates = (error_per_epoch[epoch-1] - error_per_epoch[epoch])/m\n",
    "            #print(\"Error rate is now \", error_per_epoch[epoch]/m )\n",
    "            #Stop if the error rate has increased, \n",
    "            #or the difference in error rate between the previous one and the current one < tolerance. \n",
    "            if error_per_epoch[epoch]/m < 0.05:\n",
    "                #print('error rate< 5%')\n",
    "                if diff_rates<tol:\n",
    "                    print('converging')\n",
    "                    break\n",
    "                elif diff_rates<0:\n",
    "                    print('error increased')\n",
    "                    break\n",
    "                elif error_per_epoch[epoch]==0:\n",
    "                    print('no error')  \n",
    "                    break\n",
    "        epoch += 1\n",
    "    return W, error_per_epoch[:epoch+1]\n",
    "\n",
    "\n",
    "def winnow_test(x_test,y_test,W):\n",
    "    m_test = x_test.shape[0]\n",
    "    n = x_test.shape[1]\n",
    "    gamma = x_test@W\n",
    "    pred = np.zeros(m_test)\n",
    "    pred[gamma>=n/2] = 1\n",
    "    diff = pred - y_test\n",
    "    #print(diff)\n",
    "    mistakes = len(diff[diff!=0])  \n",
    "    return mistakes,pred"
   ]
  },
  {
   "cell_type": "code",
   "execution_count": 43,
   "metadata": {
    "collapsed": false
   },
   "outputs": [
    {
     "name": "stdout",
     "output_type": "stream",
     "text": [
      "no error\n",
      "[0. 0. 0. 0. 0. 0. 0. 0. 0. 0. 0. 0. 0. 0. 0. 0. 0. 0. 0. 0.]\n"
     ]
    },
    {
     "data": {
      "text/plain": [
       "0"
      ]
     },
     "execution_count": 43,
     "metadata": {},
     "output_type": "execute_result"
    }
   ],
   "source": [
    "x,y = generate_data(40,20,winnow=True)\n",
    "W, error_per_epoch = winnow_train(x,y,max_epoch=15,tol=0.01, learning_rate=1)\n",
    "mistakes,pred = winnow_test(x[:20],y[:20],W)\n",
    "mistakes"
   ]
  },
  {
   "cell_type": "markdown",
   "metadata": {},
   "source": [
    "## Least Squares Regression"
   ]
  },
  {
   "cell_type": "code",
   "execution_count": 5,
   "metadata": {
    "collapsed": false
   },
   "outputs": [
    {
     "data": {
      "text/plain": [
       "0"
      ]
     },
     "execution_count": 5,
     "metadata": {},
     "output_type": "execute_result"
    }
   ],
   "source": [
    "def compute_primal(X, Y):\n",
    "    \"\"\"\n",
    "    Computes vector omega, which is called the primal form of the linear regression.\n",
    "    :param X: the feature map vector\n",
    "    :param Y: the target values of the data points\n",
    "    :return: the vector omega\n",
    "    \"\"\"\n",
    "    omega = np.linalg.pinv(X.T @ X) @ X.T @ Y\n",
    "    return omega\n",
    "\n",
    "def linear_predict(X_test, y_test, omega):\n",
    "    f = X_test @ omega\n",
    "    pred = np.where(f < 0, -1, 1)\n",
    "    diff = pred - y_test\n",
    "    mistakes = len(diff[diff!=0])\n",
    "    return mistakes, pred\n",
    "\n",
    "x,y = generate_data(40,20)\n",
    "W = compute_primal(x,y)\n",
    "mistakes,pred = linear_predict(x[:10], y[:10], W)\n",
    "mistakes"
   ]
  },
  {
   "cell_type": "code",
   "execution_count": 11,
   "metadata": {
    "collapsed": true
   },
   "outputs": [],
   "source": [
    "# 1 Nearest Neighbors"
   ]
  },
  {
   "cell_type": "code",
   "execution_count": 6,
   "metadata": {
    "collapsed": true
   },
   "outputs": [],
   "source": [
    "def pairwise_distance_double(X1,X2): # distances of X training data, double matrices, X1 and X2\n",
    "    X1_pow = (X1**2).sum(axis=1).reshape(X1.shape[0],1) #sum the rows, size m1 array\n",
    "    X2_pow = (X2**2).sum(axis=1).reshape(X2.shape[0],1) #sum the rows, size m2 array\n",
    "    G = np.matmul(X1,X2.T)\n",
    "    m1,m2 =G.shape[0],G.shape[1] \n",
    "    distances_sq = np.matmul(X1_pow,np.ones((m2,1)).T)+ np.matmul(np.ones((m1,1)),X2_pow.T)-2.0*G\n",
    "    return distances_sq\n",
    "\n",
    "def knn_test(x_test, y_test, x_train, y_train):\n",
    "    \n",
    "    distances = pairwise_distance_double(x_test, x_train)\n",
    "    pred = np.zeros(x_test.shape[0])\n",
    "    if x_test.shape[0] == 1:\n",
    "        return 0, y_train\n",
    "    \n",
    "    #sorted_distances = np.argsort(distances)[:,:1]\n",
    "    pred = y_train[distances.argmin(axis=1)]\n",
    "#     for i in range(x_test.shape[0]):\n",
    "#         sorted_distances = np.argsort(distances[i])\n",
    "#         nearest_j = sorted_distances[0]\n",
    "#         pred[i] = y_train[nearest_j]\n",
    "\n",
    "    diff = pred - y_test\n",
    "    mistakes = len(diff[diff!=0])  \n",
    "    \n",
    "    return mistakes,pred"
   ]
  },
  {
   "cell_type": "code",
   "execution_count": 240,
   "metadata": {
    "collapsed": false
   },
   "outputs": [
    {
     "data": {
      "text/plain": [
       "0"
      ]
     },
     "execution_count": 240,
     "metadata": {},
     "output_type": "execute_result"
    }
   ],
   "source": [
    "x,y = generate_data(40,20,winnow=False)\n",
    "mistakes,pred = knn_test(x[:20], y[:20], x, y)\n",
    "mistakes"
   ]
  },
  {
   "cell_type": "markdown",
   "metadata": {},
   "source": [
    "## Estimate Sample Complexity"
   ]
  },
  {
   "cell_type": "markdown",
   "metadata": {},
   "source": [
    "Justifying the choice of sample size: when n < log_2(1000), there is a possbility that the sample contains all possible combinations of n agents' outcomes. Igore this "
   ]
  },
  {
   "cell_type": "code",
   "execution_count": 34,
   "metadata": {
    "collapsed": false
   },
   "outputs": [],
   "source": [
    "#Compute by brute force, the sample complexity of each training algorithms\n",
    "#Might derive a lower bound for m for a fixed n. Refer to lecture notes. \n",
    "\n",
    "def calculate_gen_error(m, n, x_test, y_test, function_choice):\n",
    "    if function_choice=='winnow':\n",
    "        x,y = generate_data(m,n,winnow=True)\n",
    "        W, _ = winnow_train(x,y,max_epoch=1,tol=0.01, learning_rate=1)\n",
    "        test_mistakes,_ = winnow_test(x_test,y_test,W)\n",
    "    elif function_choice == 'perceptron':\n",
    "        x,y = generate_data(m,n)\n",
    "        W, _ = perceptron_train(x,y,max_epoch=1, tol=0.01, learning_rate=1,random_select=True)\n",
    "        test_mistakes,_= perceptron_test(x_test,y_test,W)\n",
    "    elif function_choice == 'linear':\n",
    "        x,y = generate_data(m,n)\n",
    "        W = compute_primal(x,y)\n",
    "        test_mistakes,_ = linear_predict(x_test, y_test, W)\n",
    "    elif function_choice == '1nn':\n",
    "        x,y = generate_data(m,n)\n",
    "        test_mistakes,_ = knn_test(x_test, y_test, x, y)\n",
    "    return (1.0/ y_test.shape[0]) * test_mistakes\n",
    "\n",
    "\n",
    "def estimate_sample_complexity(max_m,max_n,function_choice,step_size=1, number_of_runs=20):\n",
    "    sample_complexity = np.zeros((max_n+1, number_of_runs))\n",
    "    iterations_per_n = np.zeros(max_n+1)\n",
    "    gen_errors_matrix= np.zeros((max_n+1, number_of_runs))\n",
    "    \n",
    "    for n in np.arange(1,max_n+1,step_size):\n",
    "        #research for a better test size, curse of dimensionality\n",
    "        test_size = 10000\n",
    "        #test_size = test_size if test_size > 0 and test_size < 10000 else 10000\n",
    "        print(\"Now n=\", n, \"............\", end='\\r')\n",
    "        \n",
    "        \n",
    "        #Repeat for number_of_runs runs. \n",
    "        for run in range(number_of_runs):\n",
    "            print('run=',run)\n",
    "            if function_choice == 'winnow':\n",
    "                x_test,y_test = generate_data(test_size,n,winnow=True)\n",
    "            else:\n",
    "                x_test,y_test = generate_data(test_size,n)\n",
    "            \n",
    "            m_left, m_right = bound_m(n,function_choice)\n",
    "            print('range of m=',m_left,' and ', m_right)\n",
    "            \n",
    "            error_left = calculate_gen_error(m_left, n, x_test, y_test, function_choice)\n",
    "            error_right = calculate_gen_error(m_right, n, x_test, y_test, function_choice)\n",
    "            \n",
    "            min_m_per_run = 1\n",
    "            min_error_per_run = 1\n",
    "            m_current = n\n",
    "            iterations = 1\n",
    "            #print('run=',run)\n",
    "            found_m = False\n",
    "            while found_m==False:\n",
    "                # Try the mean to see what kind of error we get\n",
    "                m = int((m_left + m_right) / 2)\n",
    "                # Generalisation error is upper bound of training mistakes over total number of observations in D\n",
    "                gen_error = calculate_gen_error(m, n, x_test, y_test, function_choice)\n",
    "                print(\"m_left: \", m_left, \", m_right: \", m_right, \", m: \", m, \", error: \", gen_error)\n",
    "                # If we're at the case with only two elements, then converge\n",
    "                \n",
    "                if (m_right == m_left + 1):\n",
    "                        min_m_per_run = m_left if error_left < error_right else m_right\n",
    "                        if gen_error>0.1:\n",
    "                            \n",
    "                            found_m = True\n",
    "                            break\n",
    "                        else:\n",
    "                            print('NOOOOOOOO')\n",
    "                            raise ValueError('gen error > 0.1 at converge point')\n",
    "                # We check if it's smaller than 0.1. If it is then we're going to focus on (m_left, m) interval\n",
    "                # Otherwise we will check (m, m_right)\n",
    "                if gen_error < 0.1:\n",
    "                    if m < min_m_per_run:\n",
    "#                        print(\"Kicking off \", min_m_per_run, \" (\", min_error_per_run,\") in favour of \", m, \"(\",gen_error,\")\")\n",
    "                        min_m_per_run = m\n",
    "                        min_error_per_run = gen_error\n",
    "                        \n",
    "                    m_right = m            \n",
    "                    error_right = calculate_gen_error(m_right, n, x_test, y_test, function_choice)\n",
    "                        \n",
    "                else:\n",
    "                    m_left = m\n",
    "                    error_left = calculate_gen_error(m_left, n, x_test, y_test, function_choice)\n",
    "                \n",
    "                \n",
    "                m_current = m\n",
    "                \n",
    "                if m_left == m_right:\n",
    "                    if error_left<0.1:\n",
    "                        print('finally narrowed down to one m!,m=',m)\n",
    "                        print('gen_error=',error_right)\n",
    "                        found_m = True\n",
    "                        break\n",
    "                    \n",
    "                    else:\n",
    "                        print('NOOOOOOOO')\n",
    "                        raise ValueError('gen error > 0.1 at converge point')\n",
    "                        \n",
    "                iterations += 1\n",
    "                print('iterations=',iterations)\n",
    "                #print(\"FINAL: \", min_m_per_run)\n",
    "            gen_errors_matrix[n, run] = gen_error #This is just to check if errors<0.1\n",
    "            sample_complexity[n, run] = min_m_per_run\n",
    "            iterations_per_n[n] += iterations\n",
    "#             print(\"Found m=\", min_m_per_run, \" for n=\", n, \" with \", iterations, \" iterations\")\n",
    "        iterations_per_n[n] /= number_of_runs\n",
    "        \n",
    "    return sample_complexity, iterations_per_n"
   ]
  },
  {
   "cell_type": "code",
   "execution_count": 22,
   "metadata": {
    "collapsed": true
   },
   "outputs": [],
   "source": [
    "def bound_m(n,function_choice):\n",
    "    if function_choice=='winnow':\n",
    "        m_left=1\n",
    "        m_right=n\n",
    "        \n",
    "    elif function_choice =='perceptron':\n",
    "        m_left = n*2\n",
    "        m_right = n*10\n",
    "    \n",
    "    elif function_choice =='linear':\n",
    "        m_left = 1\n",
    "        m_right = n*2\n",
    "        \n",
    "    elif function_choice =='1nn':\n",
    "        m_left = int(2*n**1) \n",
    "        m_right = int(3*n**1)\n",
    "        \n",
    "    return m_left, m_right"
   ]
  },
  {
   "cell_type": "code",
   "execution_count": 9,
   "metadata": {
    "collapsed": true,
    "scrolled": false
   },
   "outputs": [],
   "source": [
    "def plot_sample_complexity(sample_complexity):\n",
    "    means = np.mean(sample_complexity, axis=1)\n",
    "    errors = np.std(sample_complexity, axis=1)\n",
    "    plt.errorbar(np.arange(1,sample_complexity.shape[0]+1), means, errors, marker='^')\n",
    "    plt.xlabel('n')\n",
    "    plt.ylabel('sample complexity')"
   ]
  },
  {
   "cell_type": "code",
   "execution_count": 239,
   "metadata": {
    "collapsed": false
   },
   "outputs": [
    {
     "name": "stdout",
     "output_type": "stream",
     "text": [
      "Now n= 100 ............\r"
     ]
    },
    {
     "data": {
      "image/png": "[encoded data removed]",
      "text/plain": [
       "<Figure size 432x288 with 1 Axes>"
      ]
     },
     "metadata": {
      "needs_background": "light"
     },
     "output_type": "display_data"
    }
   ],
   "source": [
    "sample_complexity, iterations = estimate_sample_complexity(100,100,'perceptron')\n",
    "plot_sample_complexity(sample_complexity)"
   ]
  },
  {
   "cell_type": "code",
   "execution_count": 89,
   "metadata": {
    "collapsed": false
   },
   "outputs": [
    {
     "name": "stdout",
     "output_type": "stream",
     "text": [
      "Now n= 99 ............\r"
     ]
    },
    {
     "data": {
      "image/png": "[encoded data removed]",
      "text/plain": [
       "<Figure size 432x288 with 1 Axes>"
      ]
     },
     "metadata": {
      "needs_background": "light"
     },
     "output_type": "display_data"
    }
   ],
   "source": [
    "sample_complexity, iterations = estimate_sample_complexity(100,100,'winnow') #a bit slower, for some reason. \n",
    "plot_sample_complexity(sample_complexity)"
   ]
  },
  {
   "cell_type": "code",
   "execution_count": 18,
   "metadata": {
    "collapsed": false
   },
   "outputs": [
    {
     "name": "stdout",
     "output_type": "stream",
     "text": [
      "Now n= 99 ............\r"
     ]
    },
    {
     "data": {
      "image/png": "[encoded data removed]",
      "text/plain": [
       "<Figure size 432x288 with 1 Axes>"
      ]
     },
     "metadata": {
      "needs_background": "light"
     },
     "output_type": "display_data"
    }
   ],
   "source": [
    "sample_complexity, iterations = estimate_sample_complexity(100,100,'linear') #a bit slower, for some reason. \n",
    "plot_sample_complexity(sample_complexity)"
   ]
  },
  {
   "cell_type": "code",
   "execution_count": 17,
   "metadata": {
    "collapsed": false
   },
   "outputs": [
    {
     "data": {
      "text/plain": [
       "7.880804344674901"
      ]
     },
     "execution_count": 17,
     "metadata": {},
     "output_type": "execute_result"
    }
   ],
   "source": [
    "np.log(4410-1764)"
   ]
  },
  {
   "cell_type": "code",
   "execution_count": 35,
   "metadata": {
    "collapsed": false
   },
   "outputs": [
    {
     "name": "stdout",
     "output_type": "stream",
     "text": [
      "run= 0\n",
      "range of m= 2  and  3\n",
      "m_left:  2 , m_right:  3 , m:  2 , error:  0.4994\n",
      "run= 0\n",
      "range of m= 42  and  63\n",
      "m_left:  42 , m_right:  63 , m:  52 , error:  0.26130000000000003\n",
      "iterations= 2\n",
      "m_left:  52 , m_right:  63 , m:  57 , error:  0.27690000000000003\n",
      "iterations= 3\n",
      "m_left:  57 , m_right:  63 , m:  60 , error:  0.2561\n",
      "iterations= 4\n",
      "m_left:  60 , m_right:  63 , m:  61 , error:  0.253\n",
      "iterations= 5\n",
      "m_left:  61 , m_right:  63 , m:  62 , error:  0.24910000000000002\n",
      "iterations= 6\n",
      "m_left:  62 , m_right:  63 , m:  62 , error:  0.2541\n",
      "run= 0\n",
      "range of m= 82  and  123\n",
      "m_left:  82 , m_right:  123 , m:  102 , error:  0.3088\n",
      "iterations= 2\n",
      "m_left:  102 , m_right:  123 , m:  112 , error:  0.3195\n",
      "iterations= 3\n",
      "m_left:  112 , m_right:  123 , m:  117 , error:  0.3052\n",
      "iterations= 4\n",
      "m_left:  117 , m_right:  123 , m:  120 , error:  0.30970000000000003\n",
      "iterations= 5\n",
      "m_left:  120 , m_right:  123 , m:  121 , error:  0.29600000000000004\n",
      "iterations= 6\n",
      "m_left:  121 , m_right:  123 , m:  122 , error:  0.298\n",
      "iterations= 7\n",
      "m_left:  122 , m_right:  123 , m:  122 , error:  0.30110000000000003\n",
      "run= 0\n",
      "range of m= 122  and  183\n",
      "m_left:  122 , m_right:  183 , m:  152 , error:  0.3265\n",
      "iterations= 2\n",
      "m_left:  152 , m_right:  183 , m:  167 , error:  0.3267\n",
      "iterations= 3\n",
      "m_left:  167 , m_right:  183 , m:  175 , error:  0.32880000000000004\n",
      "iterations= 4\n",
      "m_left:  175 , m_right:  183 , m:  179 , error:  0.3291\n",
      "iterations= 5\n",
      "m_left:  179 , m_right:  183 , m:  181 , error:  0.33680000000000004\n",
      "iterations= 6\n",
      "m_left:  181 , m_right:  183 , m:  182 , error:  0.33030000000000004\n",
      "iterations= 7\n",
      "m_left:  182 , m_right:  183 , m:  182 , error:  0.32370000000000004\n",
      "run= 0\n",
      "range of m= 162  and  243\n",
      "m_left:  162 , m_right:  243 , m:  202 , error:  0.35350000000000004\n",
      "iterations= 2\n",
      "m_left:  202 , m_right:  243 , m:  222 , error:  0.3377\n",
      "iterations= 3\n",
      "m_left:  222 , m_right:  243 , m:  232 , error:  0.3462\n",
      "iterations= 4\n",
      "m_left:  232 , m_right:  243 , m:  237 , error:  0.3411\n",
      "iterations= 5\n",
      "m_left:  237 , m_right:  243 , m:  240 , error:  0.3427\n",
      "iterations= 6\n",
      "m_left:  240 , m_right:  243 , m:  241 , error:  0.3519\n",
      "iterations= 7\n",
      "m_left:  241 , m_right:  243 , m:  242 , error:  0.3528\n",
      "iterations= 8\n",
      "m_left:  242 , m_right:  243 , m:  242 , error:  0.35050000000000003\n"
     ]
    },
    {
     "data": {
      "image/png": "[encoded data removed]",
      "text/plain": [
       "<Figure size 432x288 with 1 Axes>"
      ]
     },
     "metadata": {
      "needs_background": "light"
     },
     "output_type": "display_data"
    }
   ],
   "source": [
    "sample_complexity, iterations = estimate_sample_complexity(100,100,'1nn',step_size=20,number_of_runs = 1)\n",
    "plot_sample_complexity(sample_complexity)"
   ]
  },
  {
   "cell_type": "code",
   "execution_count": 274,
   "metadata": {
    "collapsed": true
   },
   "outputs": [],
   "source": [
    "#gen_errors_matrix "
   ]
  },
  {
   "cell_type": "code",
   "execution_count": 198,
   "metadata": {
    "collapsed": false
   },
   "outputs": [
    {
     "data": {
      "text/plain": [
       "array([  0.  ,   6.6 ,  20.15,  37.15,  64.8 , 100.55, 144.55, 196.4 ,\n",
       "       256.5 , 324.4 , 400.5 ])"
      ]
     },
     "execution_count": 198,
     "metadata": {},
     "output_type": "execute_result"
    }
   ],
   "source": [
    "sample_complexity.mean(axis=1)"
   ]
  },
  {
   "cell_type": "code",
   "execution_count": 204,
   "metadata": {
    "collapsed": true
   },
   "outputs": [],
   "source": [
    "#sample_complexity"
   ]
  },
  {
   "cell_type": "code",
   "execution_count": 194,
   "metadata": {
    "collapsed": true
   },
   "outputs": [],
   "source": [
    "from pylab import * \n",
    "\n",
    "x = np.arange(0,11) \n",
    "y = sample_complexity.mean(axis=1)\n",
    "z = polyfit(x, y, 2) "
   ]
  },
  {
   "cell_type": "code",
   "execution_count": 195,
   "metadata": {
    "collapsed": false
   },
   "outputs": [
    {
     "data": {
      "text/plain": [
       "array([1.09428904, 0.34074592, 5.18251748])"
      ]
     },
     "execution_count": 195,
     "metadata": {},
     "output_type": "execute_result"
    }
   ],
   "source": [
    "z"
   ]
  },
  {
   "cell_type": "markdown",
   "metadata": {},
   "source": [
    "## Q1b)"
   ]
  },
  {
   "cell_type": "markdown",
   "metadata": {},
   "source": [
    "## Discuss accuracy, computational time\n",
    "\n",
    "### Procedure: \n",
    "\n",
    "Given a range of n, we estimate the sample complexity using Sampling and Binary Search algorithm. \n",
    "\n",
    "For each fixed n, we define the lower bound and upper bound of m values, depending on the algorithm.\n",
    "\n",
    "Binary search is then applied onto the interval of m values, to find minimum m that satisfies $\\epsilon_{test}(m)<0.1$. This step is repeated 20 times. \n",
    "\n",
    "$m_{left}$ is initialized to be the lower bound of m, $m_{right}$ is initialized to be the upper bound of m, and m_current is initialized to be n. \n",
    "\n",
    "Randomly sample training dataset of size($m_{left}$,n) and size($m_{right}$,n) from uniform distribution, train the chosen algorithm on these two training sets respectively, and test on a random test dataset of size(10000,n). \n",
    "\n",
    "Use the test error of each case as an estimator of generalization error. If $\\epsilon_{test}(m_{left}) <\\epsilon_{test}(m_{right})$, take the right half of this interval. Repeat the step till we find the minimum m such that $\\epsilon_{test}(m)<0.1$. \n",
    "\n",
    "\n",
    "\n",
    "### Explaning the choice of training set size\n",
    "The test set size = 10000 for all n in the test. But the total number of combinations of labels = $2^n$, meaning that the test set covers drastically less proportion of data points as n increases. The maximum proportion of input space represented by the test set   $\\leq \\frac{10000}{2^n}$, which is smaller than 1% when n=20. \n",
    "\n",
    "Similarly, the maximum proportion of input space represented by the training set $\\leq \\frac{m}{2^n}$, which is even smaller. \n",
    "\n",
    "### Explaining choosing the lower bound and upper bound of m\n",
    "\n",
    "\n",
    "### Computational time of Sample Complexity Estimation\n",
    "Suppose we want to estimate the sample complexity up to n_max, and repeat binary search for 20 runs, we will need to do the binary search procedure for $20 \\times n_{max}$ times.  \n",
    "\n",
    "Let the range of m considered in the binary search be M, $M = m_{left} - m_{right}$. M can be also treated as a function of n, since it is dependent on function choice. \n",
    "\n",
    "Fix n,m and inside each run, the maximum number of times we apply the function calculate_test_error is $O(log_2(M))$.\n",
    "\n",
    "Let the computational time of the chosen training algorithm to be $f(m,n)$, test algorithm to be $g(m,n)$. \n",
    "\n",
    "Overall, the expected computational time of this sample complexity estimation is:\n",
    "\n",
    "for each fixed n, it takes the following steps to find sample complexity: \n",
    "flops = $20 \\times O(log_2(M(n)) \\times g(m,n) + f(m,n)$\n",
    "\n",
    "\n",
    "#### Perceptron\n",
    "g(m,n) = \n",
    "\n",
    "f(m,n) = \n",
    "\n",
    "M(n) =\n",
    "\n",
    "flops(n) = \n",
    "\n",
    "#### Winnow\n",
    "g(m,n) = \n",
    "\n",
    "f(m,n) = \n",
    "\n",
    "M(n) = \n",
    "\n",
    "flops(n) = \n",
    "\n",
    "#### Linear Regression\n",
    "g(m,n) = \n",
    "\n",
    "f(m,n) = \n",
    "\n",
    "M(n) = \n",
    "\n",
    "flops(n) = \n",
    "\n",
    "#### 1-NN\n",
    "g(m,n) = \n",
    "\n",
    "f(m,n) = \n",
    "\n",
    "M(n) = \n",
    "\n",
    "flops(n) = \n"
   ]
  },
  {
   "cell_type": "code",
   "execution_count": null,
   "metadata": {
    "collapsed": true
   },
   "outputs": [],
   "source": [
    "# Trade-off"
   ]
  },
  {
   "cell_type": "code",
   "execution_count": null,
   "metadata": {
    "collapsed": true
   },
   "outputs": [],
   "source": [
    "# Biases  "
   ]
  },
  {
   "cell_type": "markdown",
   "metadata": {},
   "source": [
    "## Q1 c)"
   ]
  },
  {
   "cell_type": "code",
   "execution_count": null,
   "metadata": {
    "collapsed": true
   },
   "outputs": [],
   "source": []
  },
  {
   "cell_type": "code",
   "execution_count": null,
   "metadata": {
    "collapsed": true
   },
   "outputs": [],
   "source": []
  },
  {
   "cell_type": "code",
   "execution_count": null,
   "metadata": {
    "collapsed": true
   },
   "outputs": [],
   "source": []
  },
  {
   "cell_type": "code",
   "execution_count": null,
   "metadata": {
    "collapsed": true
   },
   "outputs": [],
   "source": []
  }
 ],
 "metadata": {
  "anaconda-cloud": {},
  "kernelspec": {
   "display_name": "Python [conda env:py36]",
   "language": "python",
   "name": "conda-env-py36-py"
  },
  "language_info": {
   "codemirror_mode": {
    "name": "ipython",
    "version": 3
   },
   "file_extension": ".py",
   "mimetype": "text/x-python",
   "name": "python",
   "nbconvert_exporter": "python",
   "pygments_lexer": "ipython3",
   "version": "3.6.6"
  }
 },
 "nbformat": 4,
 "nbformat_minor": 2
}
