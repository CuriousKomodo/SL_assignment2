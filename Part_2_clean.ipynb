{
 "cells": [
  {
   "cell_type": "markdown",
   "metadata": {},
   "source": [
    "# Part 2"
   ]
  },
  {
   "cell_type": "code",
   "execution_count": 2,
   "metadata": {
    "collapsed": true
   },
   "outputs": [],
   "source": [
    "import os\n",
    "import time\n",
    "import numpy as np\n",
    "import matplotlib.pyplot as plt \n",
    "import scipy\n",
    "import scipy.io as spio\n",
    "import pandas as pd\n",
    "from sklearn.model_selection import KFold\n",
    "from sklearn.model_selection import train_test_split\n",
    "import math\n",
    "import urllib\n",
    "from urllib.request import urlopen\n",
    "%matplotlib inline\n",
    "import urllib.request\n",
    "import datetime as dt\n",
    "from datetime import datetime\n",
    "from sklearn.model_selection import KFold\n",
    "from sklearn.model_selection import train_test_split\n",
    "import pandas as pd\n",
    "from pylab import * "
   ]
  },
  {
   "cell_type": "code",
   "execution_count": 3,
   "metadata": {
    "collapsed": true
   },
   "outputs": [],
   "source": [
    "def generate_data(m,n,winnow=False):\n",
    "    \"\"\"\n",
    "    Given a combination of m and n, it generates a random data matrix X of dimensions (m x (n+1)).\n",
    "    Each cell of this matrix will randomly be either -1 or 1.\n",
    "    It also computes a corresponding X matrix of size (m x 1), which is the first column of X.\n",
    "    :param m: the number of rows.\n",
    "    :param n: the number of columns\n",
    "    :param winnow: if this flag is set to true, cell values will be in the {0, 1} set instead of {-1, 1}\n",
    "    :return: the generated x and y matrices\n",
    "    \"\"\"\n",
    "    if winnow:\n",
    "        data = np.random.randint(2, size=(m,(n+1)))\n",
    "        data = np.sign(data)\n",
    "    else:\n",
    "        data = np.random.uniform(low=-1, high=1, size=(m,(n+1)))\n",
    "        data = np.sign(data)\n",
    "    x = data\n",
    "    y = data[:,0]\n",
    "    return x,y\n",
    "\n",
    "\n",
    "def add_bias(x):\n",
    "    \"\"\"\n",
    "    Transforms x by adding an extra column of \"1\", i.e. bias.\n",
    "    :param x: a matrix of m examples and n columns\n",
    "    :return: the transformed matrix x_with_bias, of m examples and n+1 columns\n",
    "    \"\"\"\n",
    "    x_with_bias = np.ones((x.shape[0],x.shape[1]+1))\n",
    "    x_with_bias[:,:-1] = x\n",
    "    return x_with_bias"
   ]
  },
  {
   "cell_type": "markdown",
   "metadata": {},
   "source": [
    "## Binary Perceptron"
   ]
  },
  {
   "cell_type": "code",
   "execution_count": 4,
   "metadata": {
    "collapsed": true
   },
   "outputs": [],
   "source": [
    "\n",
    "def perceptron_train(x,y,max_epoch=20, tol=0.01, learning_rate=1,random_select=False,eta=0.00):\n",
    "    \n",
    "    \"\"\"\n",
    "    It trains a perceptron classifier over multiple epochs.\n",
    "    :param x: a matrix of observations\n",
    "    :param y: the corresponding labels\n",
    "    :param max_epoch: the maximum epochs to perform over the data\n",
    "    :param tol: a tolerance value, used as a convergence criterion for the error rate.\n",
    "    :param learning_rate: the learning rate parameter of the perceptron\n",
    "    :param random_select: whether or not to select a random number of times to train the perceptron\n",
    "    :param eta: used as a threshold value to determine when to update weights\n",
    "    :return: a set of weights W and the errors made in the last iteration\n",
    "    \"\"\"\n",
    "    \n",
    "    m_train = x.shape[0] #number of examples\n",
    "    n = x.shape[1] #number of features\n",
    "    x = add_bias(x)\n",
    "    error_per_epoch = np.zeros(max_epoch)\n",
    "    errors = np.zeros(m_train)\n",
    "    W = np.zeros(n+1)\n",
    "    R = np.sqrt(n+1) #max norm\n",
    "    error_bound = (R/eta)**2 #maximum number of mistakes it makes before convergence. \n",
    "    num_errors = 0 \n",
    "    \n",
    "    if random_select:\n",
    "        max_epoch =1\n",
    "        m = np.random.randint(low=0, high=m_train) #select random number of times to train the perceptron. \n",
    "    else:\n",
    "        m = m_train\n",
    "        \n",
    "    for epoch in range(max_epoch):\n",
    "        errors = np.zeros(m)\n",
    "        num_errors = 0 \n",
    "    \n",
    "        #iterate through training set\n",
    "        for t in range(m):\n",
    "            x_t = x[t,:]\n",
    "            y_t = y[t]\n",
    "            pred_t = W @ x_t \n",
    "            \n",
    "            if pred_t* y_t < eta:\n",
    "                num_errors +=1\n",
    "                W = W + learning_rate*x_t.T*y_t\n",
    "                errors[t] = num_errors \n",
    "                if num_errors>= error_bound:\n",
    "                    break\n",
    "                \n",
    "        error_per_epoch[epoch] = num_errors\n",
    "        \n",
    "        if epoch>1:\n",
    "            diff_rates = (error_per_epoch[epoch-1] - error_per_epoch[epoch])/m\n",
    " \n",
    "            #Stop if the error rate has increased, \n",
    "            #or the difference in error rate between the previous one and the current one < tolerance. \n",
    "            if error_per_epoch[epoch]/m < 0.05:\n",
    "                print('error rate< 10%')\n",
    "                if diff_rates<tol:\n",
    "                    print('converging')\n",
    "                    break\n",
    "                elif diff_rates<0:\n",
    "                    print('error increased')\n",
    "                    break\n",
    "                elif error_per_epoch[epoch]==0:\n",
    "                    print('no error')\n",
    "                    break\n",
    "        \n",
    "    return W, error_per_epoch[:epoch+1]\n",
    "\n",
    "\n",
    "def perceptron_test(x_test,y_test,W):\n",
    "    \"\"\"\n",
    "    Given a set of weights W, it calculates the perceptron predictions over an unlabelled set of data x_test \n",
    "    as well as the number of mistakes.\n",
    "    :param x_test: an unlabelled set of data observations\n",
    "    :param y_test: their corresponding labels\n",
    "    :param W: the perceptron's wegight\n",
    "    :return: the number of mistakes and the predictions over x_test\n",
    "    \"\"\"\n",
    "    x_test = add_bias(x_test)\n",
    "    m_test = x_test.shape[0]\n",
    "    pred = np.sign(x_test@W) \n",
    "    diff = pred - y_test\n",
    "    mistakes = len(diff[diff!=0])   \n",
    "    return mistakes,pred"
   ]
  },
  {
   "cell_type": "markdown",
   "metadata": {},
   "source": [
    "## Winnow"
   ]
  },
  {
   "cell_type": "code",
   "execution_count": 6,
   "metadata": {
    "collapsed": true
   },
   "outputs": [],
   "source": [
    "def winnow_train(x,y,max_epoch=20,tol=0.01, learning_rate=1):\n",
    "    \"\"\"\n",
    "    Trains a winnow classifier over a set of observations x and their corresponding labels y\n",
    "    :param x: a matrix of observations \n",
    "    :param y: their corresponding labels\n",
    "    :param max_epoch: the maximum number of epochs to perform over the data\n",
    "    :param tol: a tolerance value, used as a convergence criterion for error rate\n",
    "    :param learning_rate: the learning rate of the classifier\n",
    "    :return: the vector of weights W, and the number of mistakes made in the last iteration\n",
    "    \"\"\"\n",
    "    m = x.shape[0] \n",
    "    n = x.shape[1] \n",
    "    error_per_epoch = np.zeros(max_epoch)\n",
    "    errors = np.zeros(m)\n",
    "    W = np.ones(n+1)\n",
    "    x = add_bias(x)\n",
    "    gamma_bound = n/2\n",
    "    mistake_bound = (n/gamma_bound)**2\n",
    "    num_errors = 0 \n",
    "    \n",
    "    #for epoch in range(max_epoch):\n",
    "    epoch = 0\n",
    "    while epoch < max_epoch:   \n",
    "        errors = np.zeros(m)\n",
    "        num_errors = 0 #This should be bounded..? Maybe calculate the bound in the explanation\n",
    "        #iterate through training set\n",
    "        for t in range(m):\n",
    "            x_t = x[t,:]\n",
    "            y_t = y[t]\n",
    "            gamma = W @ x_t\n",
    "            \n",
    "            if gamma>= gamma_bound:\n",
    "                pred_t = 1\n",
    "            else:\n",
    "                pred_t = 0\n",
    "            \n",
    "            if pred_t != y_t:\n",
    "                num_errors+=1\n",
    "                power = (y_t - pred_t)*x_t/1.0 #1 when error made on positive class, -1 when error made on negative class\n",
    "                W = W*(2**power) #element wise multiplication, and element wise power\n",
    "                W[W>n] = n #Once weight>n, it should no longer change. \n",
    "                errors[t] = num_errors\n",
    "                \n",
    "        error_per_epoch[epoch] = num_errors\n",
    "        \n",
    "        if epoch>1:\n",
    "            diff_rates = (error_per_epoch[epoch-1] - error_per_epoch[epoch])/m\n",
    "            #Stop if the error rate has increased, \n",
    "            #or the difference in error rate between the previous one and the current one < tolerance. \n",
    "            if error_per_epoch[epoch]/m < 0.05:\n",
    "                #print('error rate< 5%')\n",
    "                if diff_rates<tol:\n",
    "                    print('converging')\n",
    "                    break\n",
    "                elif diff_rates<0:\n",
    "                    print('error increased')\n",
    "                    break\n",
    "                elif error_per_epoch[epoch]==0:\n",
    "                    print('no error')  \n",
    "                    break\n",
    "        epoch += 1\n",
    "    return W, error_per_epoch[:epoch+1]\n",
    "\n",
    "def winnow_test(x_test,y_test,W):\n",
    "    \"\"\"\n",
    "    Given a set of unlabelled data x_test and a trained winnow classifier (its weights W), it predicts the labels\n",
    "    for x_test and calculates the mistakes made.\n",
    "    :param x_test: an unknown set of data\n",
    "    :param y_test: their corresponding labels\n",
    "    :param W: the weights matrix for the winnow algorithm\n",
    "    :return: the number of mistakes made and the predictions for x_test\n",
    "    \"\"\"\n",
    "    x_test = add_bias(x_test)\n",
    "    m_test = x_test.shape[0]\n",
    "    n = x_test.shape[1]\n",
    "    gamma = x_test@W\n",
    "    pred = np.zeros(m_test)\n",
    "    pred[gamma>=n/2] = 1\n",
    "    diff = pred - y_test\n",
    "    mistakes = len(diff[diff!=0])  \n",
    "    return mistakes,pred"
   ]
  },
  {
   "cell_type": "markdown",
   "metadata": {},
   "source": [
    "## Least Squares Regression"
   ]
  },
  {
   "cell_type": "code",
   "execution_count": 192,
   "metadata": {
    "collapsed": false
   },
   "outputs": [],
   "source": [
    "def compute_primal(X, Y):\n",
    "    \"\"\"\n",
    "    Computes vector omega, which is called the primal form of the linear regression.\n",
    "    :param X: the feature map vector\n",
    "    :param Y: the target values of the data points\n",
    "    :return: the vector omega\n",
    "    \"\"\"\n",
    "    omega = np.linalg.pinv(X.T @ X) @ X.T @ Y\n",
    "    return omega\n",
    "\n",
    "def linear_predict(X_test, y_test, omega):\n",
    "    \"\"\"\n",
    "    Given a set of unlabelled data x_test and a trained linear classifier (its weights omega), it predicts the labels\n",
    "    for x_test and calculates the mistakes made.\n",
    "    :param X_test: an unknown set of data\n",
    "    :param y_test: their corresponding labels\n",
    "    :param omega: the weights matrix for the linear regression\n",
    "    :return: the number of mistakes made and the predictions for x_test\n",
    "    \"\"\"\n",
    "    f = X_test @ omega\n",
    "    pred = np.where(f < 0, -1, 1)\n",
    "    diff = pred - y_test\n",
    "    mistakes = len(diff[diff!=0])\n",
    "    return mistakes, pred\n"
   ]
  },
  {
   "cell_type": "markdown",
   "metadata": {
    "collapsed": true
   },
   "source": [
    "## 1 Nearest Neighbors"
   ]
  },
  {
   "cell_type": "code",
   "execution_count": 8,
   "metadata": {
    "collapsed": true
   },
   "outputs": [],
   "source": [
    "def pairwise_distance_double(X1,X2): \n",
    "    \"\"\"\n",
    "    Computes the pairwise distance for two matrices X1 and X2\n",
    "    :param X1: the first matrix\n",
    "    :param X2: the second matrix\n",
    "    :return: the pairwise distances matrix\n",
    "    \"\"\"\n",
    "    \n",
    "    X1_pow = (X1**2).sum(axis=1).reshape(X1.shape[0],1) #sum the rows, size m1 array\n",
    "    X2_pow = (X2**2).sum(axis=1).reshape(X2.shape[0],1) #sum the rows, size m2 array\n",
    "    G = np.matmul(X1,X2.T)\n",
    "    m1,m2 =G.shape[0],G.shape[1] \n",
    "    distances_sq = np.matmul(X1_pow,np.ones((m2,1)).T)+ np.matmul(np.ones((m1,1)),X2_pow.T)-2.0*G\n",
    "    return distances_sq\n",
    "\n",
    "def knn_test(x_test, y_test, x_train, y_train):\n",
    "    \"\"\"\n",
    "    In the k-NN algorithm, given a set of unknown data x_test, we try to predict their corresponding labels by\n",
    "    looking at the k nearest neighbours as seen in the training set x_train. This function is an implementation of \n",
    "    1nn in particular and it calculates the set of pairwise distances of x_test and x_train and then predicts the \n",
    "    labels of x_test using the label of the nearest neighbour.\n",
    "    :param x_test: an unknown set of data\n",
    "    :param y_test: their corresponding labels\n",
    "    :param x_train: an array of observations, used as a training set\n",
    "    :param y_train: their corresponding labels\n",
    "    :return: the number of mistakes made and the predictions for x_test\n",
    "    \"\"\"\n",
    "    distances = pairwise_distance_double(x_test, x_train)\n",
    "    pred = np.zeros(x_test.shape[0])\n",
    "    if x_test.shape[0] == 1:\n",
    "        return 0, y_train\n",
    "    \n",
    "    pred = y_train[distances.argmin(axis=1)]\n",
    "    diff = pred - y_test\n",
    "    mistakes = len(diff[diff!=0])  \n",
    "    \n",
    "    return mistakes,pred\n"
   ]
  },
  {
   "cell_type": "markdown",
   "metadata": {},
   "source": [
    "## Estimate Sample Complexity"
   ]
  },
  {
   "cell_type": "markdown",
   "metadata": {},
   "source": [
    "Justifying the choice of sample size: when n < log_2(1000), there is a possbility that the sample contains all possible combinations of n agents' outcomes. Igore this "
   ]
  },
  {
   "cell_type": "code",
   "execution_count": 159,
   "metadata": {
    "collapsed": false
   },
   "outputs": [],
   "source": [
    "#Compute by brute force, the sample complexity of each training algorithms\n",
    "#Might derive a lower bound for m for a fixed n. Refer to lecture notes. \n",
    "\n",
    "def calculate_gen_error(m, n, x_test, y_test, function_choice):\n",
    "    \"\"\"\n",
    "\n",
    "    \"\"\"\n",
    "    if function_choice=='winnow':\n",
    "        x,y = generate_data(m,n,winnow=True)\n",
    "        W, _ = winnow_train(x,y,max_epoch=1,tol=0.01, learning_rate=1)\n",
    "        test_mistakes,_ = winnow_test(x_test,y_test,W)\n",
    "    elif function_choice == 'perceptron':\n",
    "        x,y = generate_data(m,n)\n",
    "        W, _ = perceptron_train(x,y,max_epoch=1, tol=0.01, learning_rate=1,random_select=True)\n",
    "        test_mistakes,_= perceptron_test(x_test,y_test,W)\n",
    "    elif function_choice == 'linear':\n",
    "        x,y = generate_data(m,n)\n",
    "        W = compute_primal(x,y)\n",
    "        test_mistakes,_ = linear_predict(x_test, y_test, W)\n",
    "        \n",
    "    elif function_choice == '1nn':\n",
    "        x,y = generate_data(m,n)\n",
    "        test_mistakes,_ = knn_test(x_test, y_test, x, y)\n",
    "        \n",
    "    mean_test_error = (1.0/ y_test.shape[0]) * test_mistakes\n",
    "    \n",
    "    return mean_test_error\n",
    "\n",
    "\n",
    "\n",
    "def estimate_generalization_error(m,n,number_of_samples,function_choice,test_size):\n",
    "    \"\"\"\n",
    "\n",
    "    \"\"\"\n",
    "    test_errors=np.zeros(number_of_samples)\n",
    "    \n",
    "    for run in range(number_of_samples):\n",
    "        if function_choice == 'winnow':\n",
    "            x_test,y_test = generate_data(test_size,n,winnow=True)\n",
    "        else:\n",
    "            x_test,y_test = generate_data(test_size,n)\n",
    "            \n",
    "        test_error = calculate_gen_error(m, n, x_test, y_test, function_choice)\n",
    "        test_errors[run] = test_error          \n",
    "    gen_error = test_errors.mean()   \n",
    "    \n",
    "    return gen_error\n",
    "\n",
    "\n",
    "\n",
    "def estimate_sample_complexity(max_n,function_choice,step_size=1, number_of_runs=10, number_of_samples=10):\n",
    "    \"\"\"\n",
    "    Binary Search to find the sample complexity\n",
    "    :param max_n: an unknown set of data\n",
    "    :param function_choice: their corresponding labels\n",
    "    :param step_size: an array of observations, used as a training set\n",
    "    :param number_of_runs: their corresponding labels\n",
    "    :param number_of_samples: their corresponding labels\n",
    "    :return: sample_complexity, 2D array that records the sample complexity computed for each n in each run\n",
    "    :return: iterations_per_n, 1D array that records the number of m iterated for each n\n",
    "    \"\"\"\n",
    "    sample_complexity = np.zeros((max_n, number_of_runs))\n",
    "    iterations_per_n = np.zeros(max_n)\n",
    "    gen_errors_matrix= np.zeros((max_n, number_of_runs))\n",
    "    \n",
    "    for n in np.arange(1,max_n+1,step_size):\n",
    "        test_size = 10000\n",
    "        print(\"Now n=\", n, \"............\", end='\\r')\n",
    "        m_last = 0 \n",
    "        #Repeat for number_of_runs runs. \n",
    "        for run in range(number_of_runs):\n",
    "            if function_choice == 'winnow':\n",
    "                x_test,y_test = generate_data(test_size,n,winnow=True)\n",
    "            else:\n",
    "                x_test,y_test = generate_data(test_size,n)\n",
    "            \n",
    "            m_left, m_right = bound_m(n,function_choice)\n",
    "            \n",
    "            error_left = estimate_generalization_error(m_left,n,number_of_samples,function_choice,test_size)\n",
    "            error_right = estimate_generalization_error(m_right,n,number_of_samples,function_choice,test_size)\n",
    "            \n",
    "            min_m_per_run = 1\n",
    "            min_error_per_run = 1\n",
    "            m_current = n\n",
    "            iterations = 1\n",
    "\n",
    "            found_m = False\n",
    "            while found_m==False:\n",
    "                m = int((m_left + m_right) / 2)\n",
    "                # Generalisation error is upper bound of training mistakes over total number of observations in D\n",
    "                gen_error = estimate_generalization_error(m,n,number_of_samples,function_choice,test_size)\n",
    "                # If we're at the case with only two elements, then converge\n",
    "                if (m_right == m_left + 1):\n",
    "                    min_m_per_run = m_left if error_left <= error_right else m_right\n",
    "                    gen_error = error_left if error_left <= error_right else error_right\n",
    "                    \n",
    "                    if (gen_error<0.1):\n",
    "                        found_m = True\n",
    "                        break\n",
    "                    else:\n",
    "                        m = m_last\n",
    "                        raise ValueError('gen error > 0.1 at converge point, m_left = m_right-1')\n",
    "                        break\n",
    "                        \n",
    "                # We check if it's smaller than 0.1. If it is then we're going to focus on (m_left, m) interval\n",
    "                # Otherwise we will check (m, m_right)\n",
    "                if gen_error < 0.1:\n",
    "                    m_last = m #store the latest m where this bound is achieved, gives more stability.\n",
    "                    if m < min_m_per_run:\n",
    "                   \n",
    "                        min_m_per_run = m\n",
    "                        min_error_per_run = gen_error\n",
    "                        \n",
    "                    m_right = m            \n",
    "                    error_right = estimate_generalization_error(m_right,n,number_of_samples,function_choice,test_size)\n",
    "                        \n",
    "                else:\n",
    "                    m_left = m\n",
    "                    error_left = estimate_generalization_error(m_left,n,number_of_samples,function_choice,test_size)\n",
    "                \n",
    "                m_current = m\n",
    "                \n",
    "                if m_left == m_right:\n",
    "                    found_m = True\n",
    "                    if (gen_error <0.1):\n",
    "                        break\n",
    "                    else:\n",
    "                        m = m_last\n",
    "                        raise ValueError('gen error > 0.1 at converge point')\n",
    "                        break\n",
    "                        \n",
    "                iterations += 1\n",
    " \n",
    "            gen_errors_matrix[n-1, run] = gen_error \n",
    "            sample_complexity[n-1, run] = min_m_per_run\n",
    "            iterations_per_n[n-1] += iterations\n",
    "        iterations_per_n[n-1] /= number_of_runs\n",
    "        \n",
    "    return sample_complexity, iterations_per_n"
   ]
  },
  {
   "cell_type": "code",
   "execution_count": 10,
   "metadata": {
    "collapsed": true
   },
   "outputs": [],
   "source": [
    "def bound_m(n,function_choice):\n",
    "    if function_choice=='winnow':\n",
    "        m_left=1\n",
    "        m_right=n\n",
    "        \n",
    "    elif function_choice =='perceptron':\n",
    "        m_left = n*2\n",
    "        m_right = n*10+10\n",
    "    \n",
    "    elif function_choice =='linear':\n",
    "        m_left = 1\n",
    "        m_right = n+10\n",
    "        \n",
    "    elif function_choice =='1nn':\n",
    "        m_left = 1\n",
    "        m_right = int(3*n**3)+30\n",
    "        \n",
    "    return m_left, m_right"
   ]
  },
  {
   "cell_type": "code",
   "execution_count": 163,
   "metadata": {
    "collapsed": false,
    "scrolled": false
   },
   "outputs": [],
   "source": [
    "def plot_sample_complexity(sample_complexity,step_size,function_choice):\n",
    "    means = np.mean(sample_complexity, axis=1)\n",
    "    means_crop = means[means>0]\n",
    "    errors = np.std(sample_complexity, axis=1)\n",
    "    errors_crop = errors[means>0]\n",
    "    plt.errorbar(np.arange(1,sample_complexity.shape[0]+1,step_size), means_crop, errors_crop, marker='^')\n",
    "    plt.xlabel('n')\n",
    "    plt.ylabel('sample complexity')\n",
    "    plt.title('Estimated sample complexity for '+str(function_choice))"
   ]
  },
  {
   "cell_type": "code",
   "execution_count": 81,
   "metadata": {
    "collapsed": false
   },
   "outputs": [
    {
     "data": {
      "image/png": "[encoded data removed]",
      "text/plain": [
       "<Figure size 432x288 with 1 Axes>"
      ]
     },
     "metadata": {
      "needs_background": "light"
     },
     "output_type": "display_data"
    }
   ],
   "source": [
    "#Perceptron\n",
    "sample_complexity_perceptron, iterations = estimate_sample_complexity(100,'perceptron',step_size=5,number_of_runs=10,number_of_samples=10)\n",
    "plot_sample_complexity(sample_complexity_perceptron,step_size=5,function_choice='perceptron')"
   ]
  },
  {
   "cell_type": "code",
   "execution_count": 105,
   "metadata": {
    "collapsed": true
   },
   "outputs": [],
   "source": [
    "pd.DataFrame(sample_complexity_perceptron).to_pickle('sample_complexity_perceptron') "
   ]
  },
  {
   "cell_type": "code",
   "execution_count": 102,
   "metadata": {
    "collapsed": false
   },
   "outputs": [
    {
     "data": {
      "image/png": "[encoded data removed]",
      "text/plain": [
       "<Figure size 432x288 with 1 Axes>"
      ]
     },
     "metadata": {
      "needs_background": "light"
     },
     "output_type": "display_data"
    }
   ],
   "source": [
    "#Winnow\n",
    "sample_complexity_winnow, iterations = estimate_sample_complexity(100,'winnow', step_size = 5, number_of_runs=10,number_of_samples=10) #a bit slower, for some reason. \n",
    "plot_sample_complexity(sample_complexity_winnow,step_size=5,function_choice='winnow')"
   ]
  },
  {
   "cell_type": "code",
   "execution_count": 106,
   "metadata": {
    "collapsed": true
   },
   "outputs": [],
   "source": [
    "pd.DataFrame(sample_complexity_winnow).to_pickle('sample_complexity_winnow') "
   ]
  },
  {
   "cell_type": "code",
   "execution_count": 104,
   "metadata": {
    "collapsed": false
   },
   "outputs": [
    {
     "name": "stdout",
     "output_type": "stream",
     "text": []
    },
    {
     "data": {
      "image/png": "[encoded data removed]",
      "text/plain": [
       "<Figure size 432x288 with 1 Axes>"
      ]
     },
     "metadata": {
      "needs_background": "light"
     },
     "output_type": "display_data"
    }
   ],
   "source": [
    "sample_complexity_linear, iterations = estimate_sample_complexity(100,'linear',step_size=5,number_of_runs=10,number_of_samples=10) #a bit slower, for some reason. \n",
    "plot_sample_complexity(sample_complexity_linear,step_size=5,function_choice='linear')"
   ]
  },
  {
   "cell_type": "code",
   "execution_count": 107,
   "metadata": {
    "collapsed": true
   },
   "outputs": [],
   "source": [
    "pd.DataFrame(sample_complexity_linear).to_pickle('sample_complexity_linear') "
   ]
  },
  {
   "cell_type": "code",
   "execution_count": 165,
   "metadata": {
    "collapsed": false
   },
   "outputs": [
    {
     "data": {
      "image/png": "[encoded data removed]",
      "text/plain": [
       "<Figure size 432x288 with 1 Axes>"
      ]
     },
     "metadata": {
      "needs_background": "light"
     },
     "output_type": "display_data"
    }
   ],
   "source": [
    "#1NN\n",
    "sample_complexity_1nn, iterations = estimate_sample_complexity(20,'1nn',step_size=1,number_of_runs = 5,number_of_samples=5)\n",
    "plot_sample_complexity(sample_complexity_1nn,step_size=1,function_choice='1NN')"
   ]
  },
  {
   "cell_type": "code",
   "execution_count": 166,
   "metadata": {
    "collapsed": true
   },
   "outputs": [],
   "source": [
    "pd.DataFrame(sample_complexity_1nn).to_pickle('sample_complexity_1nn') "
   ]
  },
  {
   "cell_type": "markdown",
   "metadata": {},
   "source": [
    "## Q1 c) Estimate m(n)"
   ]
  },
  {
   "cell_type": "code",
   "execution_count": 176,
   "metadata": {
    "collapsed": true
   },
   "outputs": [],
   "source": [
    "def fitting(sample_complexity, step_size,n_max,fitting_type='linear',function_type='Perceptron'):\n",
    "    x_domain = np.arange(1,n_max,step_size)\n",
    "    means = np.mean(sample_complexity, axis=1)\n",
    "    means_crop = means[means>0]\n",
    "    \n",
    "    if fitting_type=='linear':\n",
    "        m,b = polyfit(x_domain,means_crop,1)\n",
    "        fit =  [b + m*x  for x in x_domain]\n",
    "        print('estimated ϴ(m(n))=',round(b,2),'+ ',round(m,2),'n')\n",
    "        \n",
    "    \n",
    "    elif fitting_type=='exponential':\n",
    "        m,b = polyfit(x_domain,np.log(means_crop),1)\n",
    "        fit =  [np.exp(b + m*x)  for x in x_domain]\n",
    "        print('estimated ϴ(m(n))=',round(np.exp(b),2),'exp(',round(m,2),'n)')\n",
    "       \n",
    "      \n",
    "    elif fitting_type=='log':\n",
    "        m,b = polyfit(np.log(x_domain),means_crop,1)\n",
    "        fit = [b + m*np.log(x)  for x in np.arange(1,100,step_size)]\n",
    "        print('estimated ϴ(m(n))=',round(b,2),'+',round(m,2),'log(n)')\n",
    "        \n",
    "    plt.plot(x_domain,fit,color='r',label='fitted')\n",
    "    plt.plot(x_domain,means_crop,color='b',label='actual')\n",
    "    plt.title('Sample Complexity with ' + fitting_type +' fitting for '+ function_type)\n",
    "    plt.ylabel('sample complexity')\n",
    "    plt.xlabel('n')\n",
    "    plt.show()"
   ]
  },
  {
   "cell_type": "markdown",
   "metadata": {},
   "source": [
    "### Perceptron"
   ]
  },
  {
   "cell_type": "code",
   "execution_count": 177,
   "metadata": {
    "collapsed": false
   },
   "outputs": [
    {
     "name": "stdout",
     "output_type": "stream",
     "text": [
      "estimated ϴ(m(n))= 5.79 +  5.84 n\n"
     ]
    },
    {
     "data": {
      "image/png": "[encoded data removed]",
      "text/plain": [
       "<Figure size 432x288 with 1 Axes>"
      ]
     },
     "metadata": {
      "needs_background": "light"
     },
     "output_type": "display_data"
    }
   ],
   "source": [
    "fitting(sample_complexity_perceptron, 5,100,fitting_type='linear')"
   ]
  },
  {
   "cell_type": "markdown",
   "metadata": {},
   "source": [
    "### Winnow"
   ]
  },
  {
   "cell_type": "code",
   "execution_count": 178,
   "metadata": {
    "collapsed": false
   },
   "outputs": [
    {
     "name": "stdout",
     "output_type": "stream",
     "text": [
      "estimated ϴ(m(n))= -5.15 + 8.78 log(n)\n"
     ]
    },
    {
     "data": {
      "image/png": "[encoded data removed]",
      "text/plain": [
       "<Figure size 432x288 with 1 Axes>"
      ]
     },
     "metadata": {
      "needs_background": "light"
     },
     "output_type": "display_data"
    }
   ],
   "source": [
    "fitting(sample_complexity_winnow, 5,100,fitting_type='log',function_type='Winnow')"
   ]
  },
  {
   "cell_type": "markdown",
   "metadata": {},
   "source": [
    "### Linear"
   ]
  },
  {
   "cell_type": "code",
   "execution_count": 179,
   "metadata": {
    "collapsed": false
   },
   "outputs": [
    {
     "name": "stdout",
     "output_type": "stream",
     "text": [
      "estimated ϴ(m(n))= 1.25 +  0.62 n\n"
     ]
    },
    {
     "data": {
      "image/png": "[encoded data removed]",
      "text/plain": [
       "<Figure size 432x288 with 1 Axes>"
      ]
     },
     "metadata": {
      "needs_background": "light"
     },
     "output_type": "display_data"
    }
   ],
   "source": [
    "fitting(sample_complexity_linear, 5,100,fitting_type='linear',function_type='Linear')"
   ]
  },
  {
   "cell_type": "markdown",
   "metadata": {},
   "source": [
    "### 1NN"
   ]
  },
  {
   "cell_type": "code",
   "execution_count": 195,
   "metadata": {
    "collapsed": false
   },
   "outputs": [
    {
     "name": "stdout",
     "output_type": "stream",
     "text": [
      "estimated ϴ(m(n))= 3.95 exp( 0.41 n)\n"
     ]
    },
    {
     "data": {
      "image/png": "[encoded data removed]",
      "text/plain": [
       "<Figure size 432x288 with 1 Axes>"
      ]
     },
     "metadata": {
      "needs_background": "light"
     },
     "output_type": "display_data"
    }
   ],
   "source": [
    "fitting(sample_complexity_1nn, 1,21,fitting_type='exponential',function_type='1NN')"
   ]
  }
 ],
 "metadata": {
  "anaconda-cloud": {},
  "kernelspec": {
   "display_name": "Python [conda env:py36]",
   "language": "python",
   "name": "conda-env-py36-py"
  },
  "language_info": {
   "codemirror_mode": {
    "name": "ipython",
    "version": 3
   },
   "file_extension": ".py",
   "mimetype": "text/x-python",
   "name": "python",
   "nbconvert_exporter": "python",
   "pygments_lexer": "ipython3",
   "version": "3.6.6"
  }
 },
 "nbformat": 4,
 "nbformat_minor": 2
}
