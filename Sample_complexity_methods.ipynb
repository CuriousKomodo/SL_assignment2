{
 "cells": [
  {
   "cell_type": "markdown",
   "metadata": {},
   "source": [
    "# Part 2"
   ]
  },
  {
   "cell_type": "code",
   "execution_count": 1,
   "metadata": {
    "collapsed": true
   },
   "outputs": [],
   "source": [
    "import os\n",
    "import time\n",
    "import numpy as np\n",
    "import matplotlib.pyplot as plt \n",
    "import scipy\n",
    "import scipy.io as spio\n",
    "import pandas as pd\n",
    "from sklearn.model_selection import KFold\n",
    "from sklearn.model_selection import train_test_split\n",
    "import math\n",
    "import urllib\n",
    "from urllib.request import urlopen\n",
    "%matplotlib inline\n",
    "import urllib.request\n",
    "import datetime as dt\n",
    "from datetime import datetime\n",
    "from sklearn.model_selection import KFold\n",
    "from sklearn.model_selection import train_test_split\n",
    "import pandas as pd"
   ]
  },
  {
   "cell_type": "code",
   "execution_count": 2,
   "metadata": {
    "collapsed": true
   },
   "outputs": [],
   "source": [
    "def generate_data(m,n,winnow=False):\n",
    "    if winnow:\n",
    "        data = np.random.randint(2, size=(m,(n+1)))\n",
    "        data = np.sign(data)\n",
    "    else:\n",
    "        data = np.random.uniform(low=-1, high=1, size=(m,(n+1)))\n",
    "        data = np.sign(data)\n",
    "    x = data\n",
    "    y = data[:,0]\n",
    "    return x,y\n",
    "\n",
    "def generate_data_winnow(m,n):\n",
    "    data = np.random.randint(2, size=(m,(n+1)))\n",
    "    data = np.sign(data)\n",
    "    return data\n",
    "\n",
    "def add_bias(x):\n",
    "    x_with_bias = np.ones((x.shape[0],x.shape[1]+1))\n",
    "    x_with_bias[:,:-1] = x\n",
    "    return x_with_bias"
   ]
  },
  {
   "cell_type": "markdown",
   "metadata": {},
   "source": [
    "## Binary Perceptron"
   ]
  },
  {
   "cell_type": "code",
   "execution_count": 3,
   "metadata": {
    "collapsed": true
   },
   "outputs": [],
   "source": [
    "# Binary perceptron algorithm \n",
    "# Learning rate? \n",
    "# Perceptron converges after making (R/eta)**2 mistakes/upates\n",
    "def perceptron_train(x,y,max_epoch=20, tol=0.01, learning_rate=1,random_select=False,eta=0.001):\n",
    "    m_train = x.shape[0] #number of examples\n",
    "    n = x.shape[1] #number of features\n",
    "    x = add_bias(x)\n",
    "    error_per_epoch = np.zeros(max_epoch)\n",
    "    errors = np.zeros(m_train)\n",
    "    W = np.zeros(n+1)\n",
    "    R = np.sqrt(n+1) #max norm\n",
    "    error_bound = (R/eta)**2 #maximum number of mistakes it makes before convergence. \n",
    "    num_errors = 0 \n",
    "    \n",
    "    if random_select:\n",
    "        max_epoch =1\n",
    "        m = np.random.randint(low=0, high=m_train) #select random number of times to train the perceptron. \n",
    "    else:\n",
    "        m = m_train\n",
    "        \n",
    "    for epoch in range(max_epoch):\n",
    "        #print('epoch=',epoch)\n",
    "        errors = np.zeros(m)\n",
    "        num_errors = 0 #This should be bounded..? Maybe calculate the bound in the explanation\n",
    "    \n",
    "        #iterate through training set\n",
    "        for t in range(m):\n",
    "            x_t = x[t,:]\n",
    "            y_t = y[t]\n",
    "            #pred_t = np.sign(W@x_t) #0 to begin with \n",
    "            pred_t = W @ x_t \n",
    "            \n",
    "            #if pred_t*y_t<=0: \n",
    "            if pred_t* y_t < eta:\n",
    "                #print('t=',t)\n",
    "                #print('error! y_lab=', y_t)\n",
    "                num_errors +=1\n",
    "                W = W + learning_rate*x_t.T*y_t\n",
    "                errors[t] = num_errors \n",
    "                if num_errors>= error_bound:\n",
    "                    break\n",
    "                \n",
    "        error_per_epoch[epoch] = num_errors\n",
    "        #print(epoch, 'error=',errors[-1])\n",
    "        \n",
    "        #print('current_error_rate', error_per_epoch)\n",
    "        \n",
    "        if epoch>1:\n",
    "            #print('old_error=',error_per_epoch[epoch-1])\n",
    "            #print('new_error=',error_per_epoch[epoch])\n",
    "            diff_rates = (error_per_epoch[epoch-1] - error_per_epoch[epoch])/m\n",
    " \n",
    "            #Stop if the error rate has increased, \n",
    "            #or the difference in error rate between the previous one and the current one < tolerance. \n",
    "            if error_per_epoch[epoch]/m < 0.05:\n",
    "                print('error rate< 10%')\n",
    "                if diff_rates<tol:\n",
    "                    print('converging')\n",
    "                    break\n",
    "                elif diff_rates<0:\n",
    "                    print('error increased')\n",
    "                    break\n",
    "                elif error_per_epoch[epoch]==0:\n",
    "                    print('no error')\n",
    "                    break\n",
    "        \n",
    "    return W, error_per_epoch[:epoch+1]\n",
    "\n",
    "\n",
    "def perceptron_test(x_test,y_test,W):\n",
    "    x_test = add_bias(x_test)\n",
    "    m_test = x_test.shape[0]\n",
    "    pred = np.sign(x_test@W) #(n,1) x (m_test,n)\n",
    "    diff = pred - y_test\n",
    "    mistakes = len(diff[diff!=0])   \n",
    "    return mistakes,pred"
   ]
  },
  {
   "cell_type": "code",
   "execution_count": 4,
   "metadata": {
    "collapsed": false
   },
   "outputs": [
    {
     "name": "stdout",
     "output_type": "stream",
     "text": [
      "error rate< 10%\n",
      "no error\n"
     ]
    }
   ],
   "source": [
    "x,y = generate_data(20,30)\n",
    "W, error_per_epoch = perceptron_train(x,y,max_epoch=30, tol=0.01, learning_rate=1)"
   ]
  },
  {
   "cell_type": "code",
   "execution_count": 5,
   "metadata": {
    "collapsed": true
   },
   "outputs": [],
   "source": [
    "mistakes,pred = perceptron_test(x[:10],y[:10],W)"
   ]
  },
  {
   "cell_type": "code",
   "execution_count": 6,
   "metadata": {
    "collapsed": false
   },
   "outputs": [
    {
     "data": {
      "text/plain": [
       "array([8., 3., 2., 0.])"
      ]
     },
     "execution_count": 6,
     "metadata": {},
     "output_type": "execute_result"
    }
   ],
   "source": [
    "error_per_epoch\n",
    "### Does not seem to converge for some combination of x and y. "
   ]
  },
  {
   "cell_type": "markdown",
   "metadata": {},
   "source": [
    "## Winnow"
   ]
  },
  {
   "cell_type": "code",
   "execution_count": 21,
   "metadata": {
    "collapsed": true
   },
   "outputs": [],
   "source": [
    "def winnow_train(x,y,max_epoch=20,tol=0.01, learning_rate=1):\n",
    "    m = x.shape[0] #number of examples\n",
    "    n = x.shape[1] #number of features\n",
    "    error_per_epoch = np.zeros(max_epoch)\n",
    "    errors = np.zeros(m)\n",
    "    W = np.ones(n+1)\n",
    "    x = add_bias(x)\n",
    "    gamma_bound = n/2\n",
    "    mistake_bound = (n/gamma_bound)**2\n",
    "    num_errors = 0 \n",
    "    \n",
    "    #for epoch in range(max_epoch):\n",
    "    epoch = 0\n",
    "    while epoch < max_epoch:   \n",
    "        errors = np.zeros(m)\n",
    "        num_errors = 0 #This should be bounded..? Maybe calculate the bound in the explanation\n",
    "        #iterate through training set\n",
    "        for t in range(m):\n",
    "            x_t = x[t,:]\n",
    "            y_t = y[t]\n",
    "            gamma = W@x_t\n",
    "            \n",
    "            if gamma>= gamma_bound:\n",
    "                pred_t = 1\n",
    "            else:\n",
    "                pred_t = 0\n",
    "            \n",
    "            if pred_t != y_t:\n",
    "                num_errors+=1\n",
    "                power = (y_t - pred_t)*x_t/1.0 #1 when error made on positive class, -1 when error made on negative class\n",
    "                W = W*(2**power) #element wise multiplication, and element wise power\n",
    "                #Once weight>n, it should no longer change. \n",
    "                W[W>n] = n\n",
    "                errors[t] = num_errors\n",
    "                \n",
    "        error_per_epoch[epoch] = num_errors\n",
    "        \n",
    "        if epoch>1:\n",
    "            diff_rates = (error_per_epoch[epoch-1] - error_per_epoch[epoch])/m\n",
    "            #print(\"Error rate is now \", error_per_epoch[epoch]/m )\n",
    "            #Stop if the error rate has increased, \n",
    "            #or the difference in error rate between the previous one and the current one < tolerance. \n",
    "            if error_per_epoch[epoch]/m < 0.05:\n",
    "                #print('error rate< 5%')\n",
    "                if diff_rates<tol:\n",
    "                    print('converging')\n",
    "                    break\n",
    "                elif diff_rates<0:\n",
    "                    print('error increased')\n",
    "                    break\n",
    "                elif error_per_epoch[epoch]==0:\n",
    "                    print('no error')  \n",
    "                    break\n",
    "        epoch += 1\n",
    "    return W, error_per_epoch[:epoch+1]\n",
    "\n",
    "\n",
    "def winnow_test(x_test,y_test,W):\n",
    "    x_test = add_bias(x_test)\n",
    "    m_test = x_test.shape[0]\n",
    "    n = x_test.shape[1]\n",
    "    gamma = x_test@W\n",
    "    pred = np.zeros(m_test)\n",
    "    pred[gamma>=n/2] = 1\n",
    "    diff = pred - y_test\n",
    "    #print(diff)\n",
    "    mistakes = len(diff[diff!=0])  \n",
    "    return mistakes,pred"
   ]
  },
  {
   "cell_type": "code",
   "execution_count": 22,
   "metadata": {
    "collapsed": false
   },
   "outputs": [
    {
     "name": "stdout",
     "output_type": "stream",
     "text": [
      "converging\n"
     ]
    },
    {
     "data": {
      "text/plain": [
       "0"
      ]
     },
     "execution_count": 22,
     "metadata": {},
     "output_type": "execute_result"
    }
   ],
   "source": [
    "x,y = generate_data(40,20,winnow=True)\n",
    "W, error_per_epoch = winnow_train(x,y,max_epoch=15,tol=0.01, learning_rate=1)\n",
    "mistakes,pred = winnow_test(x[:20],y[:20],W)\n",
    "mistakes"
   ]
  },
  {
   "cell_type": "markdown",
   "metadata": {},
   "source": [
    "## Least Squares Regression"
   ]
  },
  {
   "cell_type": "code",
   "execution_count": 6,
   "metadata": {
    "collapsed": false
   },
   "outputs": [
    {
     "data": {
      "text/plain": [
       "0"
      ]
     },
     "execution_count": 6,
     "metadata": {},
     "output_type": "execute_result"
    }
   ],
   "source": [
    "def compute_primal(X, Y):\n",
    "    \"\"\"\n",
    "    Computes vector omega, which is called the primal form of the linear regression.\n",
    "    :param X: the feature map vector\n",
    "    :param Y: the target values of the data points\n",
    "    :return: the vector omega\n",
    "    \"\"\"\n",
    "    omega = np.linalg.pinv(X.T @ X) @ X.T @ Y\n",
    "    return omega\n",
    "\n",
    "def linear_predict(X_test, y_test, omega):\n",
    "    f = X_test @ omega\n",
    "    pred = np.where(f < 0, -1, 1)\n",
    "    diff = pred - y_test\n",
    "    mistakes = len(diff[diff!=0])\n",
    "    return mistakes, pred\n",
    "\n",
    "x,y = generate_data(40,20)\n",
    "W = compute_primal(x,y)\n",
    "mistakes,pred = linear_predict(x[:10], y[:10], W)\n",
    "mistakes"
   ]
  },
  {
   "cell_type": "markdown",
   "metadata": {
    "collapsed": true
   },
   "source": [
    "## 1 Nearest Neighbors"
   ]
  },
  {
   "cell_type": "code",
   "execution_count": 7,
   "metadata": {
    "collapsed": true
   },
   "outputs": [],
   "source": [
    "def pairwise_distance_double(X1,X2): # distances of X training data, double matrices, X1 and X2\n",
    "    X1_pow = (X1**2).sum(axis=1).reshape(X1.shape[0],1) #sum the rows, size m1 array\n",
    "    X2_pow = (X2**2).sum(axis=1).reshape(X2.shape[0],1) #sum the rows, size m2 array\n",
    "    G = np.matmul(X1,X2.T)\n",
    "    m1,m2 =G.shape[0],G.shape[1] \n",
    "    distances_sq = np.matmul(X1_pow,np.ones((m2,1)).T)+ np.matmul(np.ones((m1,1)),X2_pow.T)-2.0*G\n",
    "    return distances_sq\n",
    "\n",
    "def knn_test(x_test, y_test, x_train, y_train):\n",
    "    distances = pairwise_distance_double(x_test, x_train)\n",
    "    pred = np.zeros(x_test.shape[0])\n",
    "    if x_test.shape[0] == 1:\n",
    "        return 0, y_train\n",
    "    \n",
    "    #sorted_distances = np.argsort(distances)[:,:1]\n",
    "    pred = y_train[distances.argmin(axis=1)]\n",
    "#     for i in range(x_test.shape[0]):\n",
    "#         sorted_distances = np.argsort(distances[i])\n",
    "#         nearest_j = sorted_distances[0]\n",
    "#         pred[i] = y_train[nearest_j]\n",
    "\n",
    "    diff = pred - y_test\n",
    "    mistakes = len(diff[diff!=0])  \n",
    "    \n",
    "    return mistakes,pred\n",
    "\n",
    "\n",
    "def knn_test2(x_test, y_test, tree, y_train):\n",
    "    if x_test.shape[0] == 1:\n",
    "        return 0, y_train\n",
    "    pred = y_train[tree.query(x_test, k=1)[1]]\n",
    "    diff = pred - y_test\n",
    "    mistakes = len(diff[diff!=0])  \n",
    "    return mistakes,pred"
   ]
  },
  {
   "cell_type": "code",
   "execution_count": 240,
   "metadata": {
    "collapsed": false
   },
   "outputs": [
    {
     "data": {
      "text/plain": [
       "0"
      ]
     },
     "execution_count": 240,
     "metadata": {},
     "output_type": "execute_result"
    }
   ],
   "source": [
    "x,y = generate_data(40,20,winnow=False)\n",
    "mistakes,pred = knn_test(x[:20], y[:20], x, y)\n",
    "mistakes"
   ]
  },
  {
   "cell_type": "code",
   "execution_count": 37,
   "metadata": {
    "collapsed": false
   },
   "outputs": [
    {
     "data": {
      "text/plain": [
       "(40, 21)"
      ]
     },
     "execution_count": 37,
     "metadata": {},
     "output_type": "execute_result"
    }
   ],
   "source": [
    "x.shape"
   ]
  },
  {
   "cell_type": "markdown",
   "metadata": {},
   "source": [
    "## Estimate Sample Complexity"
   ]
  },
  {
   "cell_type": "markdown",
   "metadata": {},
   "source": [
    "Justifying the choice of sample size: when n < log_2(1000), there is a possbility that the sample contains all possible combinations of n agents' outcomes. Igore this "
   ]
  },
  {
   "cell_type": "code",
   "execution_count": 17,
   "metadata": {
    "collapsed": true
   },
   "outputs": [],
   "source": [
    "import scipy.spatial as spatial"
   ]
  },
  {
   "cell_type": "code",
   "execution_count": 29,
   "metadata": {
    "collapsed": false
   },
   "outputs": [],
   "source": [
    "#Compute by brute force, the sample complexity of each training algorithms\n",
    "#Might derive a lower bound for m for a fixed n. Refer to lecture notes. \n",
    "\n",
    "def calculate_gen_error(m, n, x_test, y_test, function_choice):\n",
    "    if function_choice=='winnow':\n",
    "        x,y = generate_data(m,n,winnow=True)\n",
    "        W, _ = winnow_train(x,y,max_epoch=1,tol=0.01, learning_rate=1)\n",
    "        test_mistakes,_ = winnow_test(x_test,y_test,W)\n",
    "    elif function_choice == 'perceptron':\n",
    "        x,y = generate_data(m,n)\n",
    "        W, _ = perceptron_train(x,y,max_epoch=1, tol=0.01, learning_rate=1,random_select=True)\n",
    "        test_mistakes,_= perceptron_test(x_test,y_test,W)\n",
    "    elif function_choice == 'linear':\n",
    "        x,y = generate_data(m,n)\n",
    "        W = compute_primal(x,y)\n",
    "        test_mistakes,_ = linear_predict(x_test, y_test, W)\n",
    "        \n",
    "    elif function_choice == '1nn':\n",
    "        x,y = generate_data(m,n)\n",
    "        test_mistakes,_ = knn_test(x_test, y_test, x, y)\n",
    "        \n",
    "    elif function_choice == '1nn2':\n",
    "        x,y = generate_data(m,n)\n",
    "        tree = spatial.KDTree(x) \n",
    "        test_mistakes,_ = knn_test2(x_test, y_test, tree, y)\n",
    "        \n",
    "    return (1.0/ y_test.shape[0]) * test_mistakes\n",
    "\n",
    "\n",
    "def estimate_sample_complexity(max_m,max_n,function_choice,step_size=1, number_of_runs=20):\n",
    "    sample_complexity = np.zeros((max_n+1, number_of_runs))\n",
    "    iterations_per_n = np.zeros(max_n+1)\n",
    "    gen_errors_matrix= np.zeros((max_n+1, number_of_runs))\n",
    "    \n",
    "    for n in np.arange(1,max_n+1,step_size):\n",
    "        #research for a better test size, curse of dimensionality\n",
    "        test_size = 10000\n",
    "        #test_size = test_size if test_size > 0 and test_size < 10000 else 10000\n",
    "        print(\"Now n=\", n, \"............\", end='\\r')\n",
    "        #print('n=',n)\n",
    "        m_last = 0 \n",
    "        #Repeat for number_of_runs runs. \n",
    "        for run in range(number_of_runs):\n",
    "            #print('run=',run)\n",
    "            if function_choice == 'winnow':\n",
    "                x_test,y_test = generate_data(test_size,n,winnow=True)\n",
    "            else:\n",
    "                x_test,y_test = generate_data(test_size,n)\n",
    "            \n",
    "            m_left, m_right = bound_m(n,function_choice)\n",
    "            #print('range of m=',m_left,' and ', m_right)\n",
    "            \n",
    "            error_left = calculate_gen_error(m_left, n, x_test, y_test, function_choice)\n",
    "            error_right = calculate_gen_error(m_right, n, x_test, y_test, function_choice) \n",
    "            \n",
    "            min_m_per_run = 1\n",
    "            min_error_per_run = 1\n",
    "            m_current = n\n",
    "            iterations = 1\n",
    "            #print('run=',run)\n",
    "            found_m = False\n",
    "            while found_m==False:\n",
    "                # Try the mean to see what kind of error we get\n",
    "                m = int((m_left + m_right) / 2)\n",
    "                # Generalisation error is upper bound of training mistakes over total number of observations in D\n",
    "                gen_error = calculate_gen_error(m, n, x_test, y_test, function_choice)\n",
    "                #print(\"m_left: \", m_left, \", m_right: \", m_right, \", m: \", m, \", error: \", gen_error)\n",
    "                # If we're at the case with only two elements, then converge\n",
    "                \n",
    "                if (m_right == m_left + 1):\n",
    "                    min_m_per_run = m_left if error_left <= error_right else m_right\n",
    "                    gen_error = error_left if error_left <= error_right else error_right\n",
    "                    #print('error_right=',error_right)\n",
    "                    #print('error_left=',error_left)\n",
    "                    #print('gen error=',gen_error)\n",
    "                    \n",
    "                    if (gen_error<0.1):\n",
    "                        found_m = True\n",
    "                        break\n",
    "                    else:\n",
    "                        #print('bad error')\n",
    "                        #print(left_error)\n",
    "                        m = m_last\n",
    "                        #raise ValueError('gen error > 0.1 at converge point, m_left = m_right-1')\n",
    "                        break\n",
    "                        \n",
    "                # We check if it's smaller than 0.1. If it is then we're going to focus on (m_left, m) interval\n",
    "                # Otherwise we will check (m, m_right)\n",
    "                if gen_error < 0.1:\n",
    "                    m_last = m #store the latest m where this bound is achieved, gives more stability.\n",
    "                    if m < min_m_per_run:\n",
    "#                        print(\"Kicking off \", min_m_per_run, \" (\", min_error_per_run,\") in favour of \", m, \"(\",gen_error,\")\")\n",
    "                        min_m_per_run = m\n",
    "                        min_error_per_run = gen_error\n",
    "                        \n",
    "                    m_right = m            \n",
    "                    error_right = calculate_gen_error(m_right, n, x_test, y_test, function_choice)\n",
    "                        \n",
    "                else:\n",
    "                    m_left = m\n",
    "                    error_left = calculate_gen_error(m_left, n, x_test, y_test, function_choice)\n",
    "                \n",
    "                m_current = m\n",
    "                \n",
    "                if m_left == m_right:\n",
    "                    #print('finally narrowed down to one m!,m=',m)\n",
    "                    #print('gen_error=',error_right)\n",
    "                    found_m = True\n",
    "                    if (gen_error <0.1):\n",
    "                        break\n",
    "                    else:\n",
    "                        #print('bad error=',gen_error)\n",
    "                        m = m_last\n",
    "                        #raise ValueError('gen error > 0.1 at converge point')\n",
    "                        break\n",
    "                        \n",
    "                iterations += 1\n",
    "                #print('iterations=',iterations)\n",
    "                \n",
    "            #if gen_error>0.1:\n",
    "                #raise ValueError('gen error > 0.1 at converge point')\n",
    "                #print(\"FINAL: \", min_m_per_run)\n",
    "            gen_errors_matrix[n, run] = gen_error #This is just to check if errors<0.1\n",
    "            sample_complexity[n, run] = min_m_per_run\n",
    "            iterations_per_n[n] += iterations\n",
    "#             print(\"Found m=\", min_m_per_run, \" for n=\", n, \" with \", iterations, \" iterations\")\n",
    "        iterations_per_n[n] /= number_of_runs\n",
    "        \n",
    "    return sample_complexity, iterations_per_n"
   ]
  },
  {
   "cell_type": "markdown",
   "metadata": {},
   "source": [
    "## Estimate Sample Complexity for 1NN"
   ]
  },
  {
   "cell_type": "code",
   "execution_count": 51,
   "metadata": {
    "collapsed": false
   },
   "outputs": [],
   "source": [
    "def estimate_sample_complexity_1nn(max_m,max_n,function_choice,step_size=1, number_of_runs=20):\n",
    "    sample_complexity = np.zeros((max_n+1, number_of_runs))\n",
    "    iterations_per_n = np.zeros(max_n+1)\n",
    "    gen_errors_matrix= np.zeros((max_n+1, number_of_runs))\n",
    "    \n",
    "    \n",
    "    for run in range(number_of_runs):\n",
    "        for n in np.arange(1,max_n+1,step_size):\n",
    "        #research for a better test size, curse of dimensionality\n",
    "            test_size = 10000\n",
    "            print(\"Now n=\", n, \"............\", end='\\r')\n",
    "            \n",
    "            m_last = 0 \n",
    "            \n",
    "            x_test,y_test = generate_data(test_size, n) #generate once per run. \n",
    "            \n",
    "            m_left, m_right = bound_m(n,function_choice) \n",
    "            x_train,y_train = generate_data(m_right,n) #y_train - m_right\n",
    "            distances = pairwise_distance_double(x_test,x_train)#for big distance matrix\n",
    "            \n",
    "            ##Initializing our errors at two extremes of interval. \n",
    "            #given distances, m\n",
    "            pred_right,error_right = nearest_neighbors_cropped(distances, m_right,y_train,y_test)\n",
    "            pred_left,error_left = nearest_neighbors_cropped(distances, m_left,y_train,y_test)\n",
    "            \n",
    "            min_m_per_run = 1\n",
    "            min_error_per_run = 1\n",
    "            m_current = n\n",
    "            iterations = 1\n",
    "            found_m = False\n",
    "            \n",
    "            while found_m==False:\n",
    "                # Try the mean to see what kind of error we get\n",
    "                m = int((m_left + m_right) / 2)\n",
    "                # Generalisation error is upper bound of training mistakes over total number of observations in D\n",
    "                #gen_error = calculate_gen_error(m, n, x_test, y_test, function_choice)\n",
    "                \n",
    "                pred,gen_error = nearest_neighbors_cropped(distances, m, y_train,y_test)\n",
    "                \n",
    "                if (m_right == m_left + 1):\n",
    "                    min_m_per_run = m_left if error_left <= error_right else m_right\n",
    "                    gen_error = error_left if error_left <= error_right else error_right\n",
    "                    if (gen_error<0.1):\n",
    "                        found_m = True\n",
    "                        break\n",
    "                    else:\n",
    "                        m = m_last\n",
    "                        #raise ValueError('gen error > 0.1 at converge point, m_left = m_right-1')\n",
    "                        break\n",
    "                        \n",
    "                # We check if it's smaller than 0.1. If it is then we're going to focus on (m_left, m) interval\n",
    "                # Otherwise we will check (m, m_right)\n",
    "                if gen_error < 0.1:\n",
    "                    m_last = m #store the latest m where this bound is achieved, gives more stability.\n",
    "                    if m < min_m_per_run:\n",
    "#                        print(\"Kicking off \", min_m_per_run, \" (\", min_error_per_run,\") in favour of \", m, \"(\",gen_error,\")\")\n",
    "                        min_m_per_run = m\n",
    "                        min_error_per_run = gen_error\n",
    "                            \n",
    "                    pred_right,error_right = nearest_neighbors_cropped(distances, m_right,y_train,y_test)\n",
    "                    m_right = m       \n",
    "                        \n",
    "                else:\n",
    "                    pred_left,error_left = nearest_neighbors_cropped(distances, m_left,y_train,y_test)\n",
    "                    m_left = m       \n",
    "                \n",
    "                m_current = m\n",
    "                \n",
    "                if m_left == m_right:\n",
    "                    found_m = True\n",
    "                    if (gen_error <0.1):\n",
    "                        break\n",
    "                    else:\n",
    "                        m = m_last\n",
    "                        #raise ValueError('gen error > 0.1 at converge point')\n",
    "                        break\n",
    "                        \n",
    "                iterations += 1\n",
    "\n",
    "            gen_errors_matrix[n, run] = gen_error #This is just to check if errors<0.1\n",
    "            sample_complexity[n, run] = min_m_per_run\n",
    "            iterations_per_n[n] += iterations\n",
    "        iterations_per_n[n] /= number_of_runs\n",
    "        \n",
    "    return sample_complexity, iterations_per_n"
   ]
  },
  {
   "cell_type": "code",
   "execution_count": 43,
   "metadata": {
    "collapsed": true
   },
   "outputs": [],
   "source": [
    "def nearest_neighbors_cropped(distances, m, y_train,y_test):\n",
    "    pred = y_train[distances[:,:m].argmin(axis=1)]\n",
    "    diff = pred - y_test\n",
    "    error = len(diff[diff!=0])\n",
    "    return pred, error"
   ]
  },
  {
   "cell_type": "code",
   "execution_count": 13,
   "metadata": {
    "collapsed": true
   },
   "outputs": [],
   "source": [
    "#Do I consider PAC??\n",
    "def bound_m(n,function_choice):\n",
    "    if function_choice=='winnow':\n",
    "        m_left=1\n",
    "        m_right=n\n",
    "        \n",
    "    elif function_choice =='perceptron':\n",
    "        m_left = n*2\n",
    "        m_right = n*10\n",
    "    \n",
    "    elif function_choice =='linear':\n",
    "        m_left = 1\n",
    "        m_right = n*2\n",
    "        \n",
    "    elif function_choice =='1nn' or function_choice =='1nn2':\n",
    "        m_left = 1\n",
    "        m_right = int(3*n**3)+30\n",
    "        \n",
    "    return m_left, m_right"
   ]
  },
  {
   "cell_type": "code",
   "execution_count": 14,
   "metadata": {
    "collapsed": true,
    "scrolled": false
   },
   "outputs": [],
   "source": [
    "def plot_sample_complexity(sample_complexity):\n",
    "    means = np.mean(sample_complexity, axis=1)\n",
    "    errors = np.std(sample_complexity, axis=1)\n",
    "    plt.errorbar(np.arange(1,sample_complexity.shape[0]+1), means, errors, marker='^')\n",
    "    plt.xlabel('n')\n",
    "    plt.ylabel('sample complexity')"
   ]
  },
  {
   "cell_type": "code",
   "execution_count": 239,
   "metadata": {
    "collapsed": false
   },
   "outputs": [
    {
     "name": "stdout",
     "output_type": "stream",
     "text": [
      "Now n= 100 ............\r"
     ]
    },
    {
     "data": {
      "image/png": "[encoded data removed]",
      "text/plain": [
       "<Figure size 432x288 with 1 Axes>"
      ]
     },
     "metadata": {
      "needs_background": "light"
     },
     "output_type": "display_data"
    }
   ],
   "source": [
    "sample_complexity, iterations = estimate_sample_complexity(100,100,'perceptron')\n",
    "plot_sample_complexity(sample_complexity)"
   ]
  },
  {
   "cell_type": "code",
   "execution_count": 30,
   "metadata": {
    "collapsed": false
   },
   "outputs": [
    {
     "name": "stdout",
     "output_type": "stream",
     "text": []
    },
    {
     "data": {
      "image/png": "[encoded data removed]",
      "text/plain": [
       "<Figure size 432x288 with 1 Axes>"
      ]
     },
     "metadata": {
      "needs_background": "light"
     },
     "output_type": "display_data"
    }
   ],
   "source": [
    "sample_complexity, iterations = estimate_sample_complexity(100,100,'winnow') #a bit slower, for some reason. \n",
    "plot_sample_complexity(sample_complexity)"
   ]
  },
  {
   "cell_type": "code",
   "execution_count": 18,
   "metadata": {
    "collapsed": false
   },
   "outputs": [
    {
     "name": "stdout",
     "output_type": "stream",
     "text": [
      "Now n= 99 ............\r"
     ]
    },
    {
     "data": {
      "image/png": "[encoded data removed]",
      "text/plain": [
       "<Figure size 432x288 with 1 Axes>"
      ]
     },
     "metadata": {
      "needs_background": "light"
     },
     "output_type": "display_data"
    }
   ],
   "source": [
    "sample_complexity, iterations = estimate_sample_complexity(100,100,'linear') #a bit slower, for some reason. \n",
    "plot_sample_complexity(sample_complexity)"
   ]
  },
  {
   "cell_type": "code",
   "execution_count": 83,
   "metadata": {
    "collapsed": false
   },
   "outputs": [
    {
     "data": {
      "image/png": "[encoded data removed]",
      "text/plain": [
       "<Figure size 432x288 with 1 Axes>"
      ]
     },
     "metadata": {
      "needs_background": "light"
     },
     "output_type": "display_data"
    }
   ],
   "source": [
    "#sample_complexity, iterations = estimate_sample_complexity(10,20,'1nn',step_size=1,number_of_runs = 1)\n",
    "#plot_sample_complexity(sample_complexity)"
   ]
  },
  {
   "cell_type": "code",
   "execution_count": 55,
   "metadata": {
    "collapsed": false
   },
   "outputs": [
    {
     "name": "stdout",
     "output_type": "stream",
     "text": []
    },
    {
     "data": {
      "image/png": "[encoded data removed]",
      "text/plain": [
       "<Figure size 432x288 with 1 Axes>"
      ]
     },
     "metadata": {
      "needs_background": "light"
     },
     "output_type": "display_data"
    }
   ],
   "source": [
    "#sample complexity generated with new method. \n",
    "sample_complexity, iterations = estimate_sample_complexity_1nn(10,20,'1nn',step_size=1,number_of_runs = 1)\n",
    "plot_sample_complexity(sample_complexity)"
   ]
  },
  {
   "cell_type": "code",
   "execution_count": 46,
   "metadata": {
    "collapsed": false
   },
   "outputs": [
    {
     "name": "stdout",
     "output_type": "stream",
     "text": []
    },
    {
     "data": {
      "image/png": "[encoded data removed]",
      "text/plain": [
       "<Figure size 432x288 with 1 Axes>"
      ]
     },
     "metadata": {
      "needs_background": "light"
     },
     "output_type": "display_data"
    }
   ],
   "source": [
    "#sample complexity generated with old method. \n",
    "sample_complexity, iterations = estimate_sample_complexity_1nn(10,50,'1nn',step_size=50,number_of_runs = 1)\n",
    "plot_sample_complexity(sample_complexity)"
   ]
  },
  {
   "cell_type": "code",
   "execution_count": 16,
   "metadata": {
    "collapsed": false
   },
   "outputs": [],
   "source": [
    "#sample_complexity3, iterations = estimate_sample_complexity_1nn(10,100,'1nn',step_size=40,number_of_runs = 1)\n",
    "#plot_sample_complexity(sample_complexity3)"
   ]
  },
  {
   "cell_type": "markdown",
   "metadata": {},
   "source": [
    "## Q1b)"
   ]
  },
  {
   "cell_type": "markdown",
   "metadata": {},
   "source": [
    "## Discuss accuracy, computational time\n",
    "\n",
    "### Procedure: \n",
    "\n",
    "Given a range of n, we estimate the sample complexity using Sampling and Binary Search algorithm. \n",
    "\n",
    "For each fixed n, we define the lower bound and upper bound of m values, depending on the algorithm.\n",
    "\n",
    "Binary search is then applied onto the interval of m values, to find minimum m that satisfies $\\epsilon_{test}(m)<0.1$. This step is repeated 20 times. \n",
    "\n",
    "$m_{left}$ is initialized to be the lower bound of m, $m_{right}$ is initialized to be the upper bound of m, and m_current is initialized to be n. \n",
    "\n",
    "Randomly sample training dataset of size($m_{left}$,n) and size($m_{right}$,n) from uniform distribution, train the chosen algorithm on these two training sets respectively, and test on a random test dataset of size(10000,n). \n",
    "\n",
    "Use the test error of each case as an estimator of generalization error. If $\\epsilon_{test}(m_{left}) <\\epsilon_{test}(m_{right})$, take the right half of this interval. Repeat the step till we find the minimum m such that $\\epsilon_{test}(m)<0.1$. \n",
    "\n",
    "\n",
    "\n",
    "### Explaning the choice of training set size\n",
    "The test set size = 10000 for all n in the test. But the total number of combinations of labels = $2^n$, meaning that the test set covers drastically less proportion of data points as n increases. The maximum proportion of input space represented by the test set   $\\leq \\frac{10000}{2^n}$, which is smaller than 1% when n=20. \n",
    "\n",
    "Similarly, the maximum proportion of input space represented by the training set $\\leq \\frac{m}{2^n}$, which is even smaller. \n",
    "\n",
    "### Explaining choosing the lower bound and upper bound of m\n",
    "\n",
    "\n",
    "### Computational time of Sample Complexity Estimation\n",
    "Suppose we want to estimate the sample complexity up to n_max, and repeat binary search for 20 runs, we will need to do the binary search procedure for $20 \\times n_{max}$ times.  \n",
    "\n",
    "Let the range of m considered in the binary search be M, $M = m_{left} - m_{right}$. M can be also treated as a function of n, since it is dependent on function choice. \n",
    "\n",
    "Fix n,m, and inside each run, the maximum number of times we apply the function calculate_test_error is $O(log_2(M))$.\n",
    "\n",
    "Let the computational time of the chosen training algorithm to be $f(m,n)$, test algorithm to be $g(m,n)$. \n",
    "\n",
    "It takes the following steps to find sample complexity for fixed n,m:\n",
    "\n",
    "Flops(n,m) = $O(log(M(n)) \\times (g(m,n) + f(m,n))$\n",
    "\n",
    "If m is bounded by M(n), then:\n",
    "\n",
    "Flops(n,m) = Flops(n) = $O(log(M(n)) \\times (g(M(n),n) + f(M(n),n))$ \n",
    "\n",
    "Overall, the total computational time of this sample complexity estimation for n up to a given $n_{max}$:\n",
    "\n",
    "Flops($n_{max}$) =  num_runs $\\times \\sum_{n=1}^{n_{max}} Flops(n,M(n)) \\sim O(Flops(n_{max},M(n_{max})))$\n",
    "\n",
    "$\\Rightarrow$ Flops($n_{max}$) $\\sim  O(n_{max} log(M(n_{max})(g(M(n_{max}),n_{max}) + f(M(n_{max}),n_{max})))$\n",
    "\n",
    "\n",
    "\n",
    "#### Perceptron\n",
    "Now assuming if we ignore the error bound and only train algorithm for one epoch. \n",
    "\n",
    "$M(n) \\sim  O(n)$\n",
    "\n",
    "$f(m,n) \\sim O(m,n) \\sim O(n^2)$\n",
    "\n",
    "$g(m,n) \\sim O(10000n) $\n",
    "\n",
    "Flops(n,m)  = $ O(log(n)) \\times (O(mn) +  O(n))$ = $ O(mn$log$(n))$\n",
    "\n",
    "Total computation steps for all m up to $n_{max}$:\n",
    "\n",
    "Flops($n_{max})\\sim  O(n_{max}$log$(n_{max})\\times n_{max}^2) \\sim O(n_{max}^3 $log$(n_{max}))$\n",
    "\n",
    "\n",
    "#### Winnow\n",
    "$g(m,n) \\sim O(mn) $\n",
    "\n",
    "$f(m,n) \\sim O(10000n) \\sim O(n)$\n",
    "\n",
    "$M(n) \\sim O(n)$\n",
    "\n",
    "Flops(n,m)  = $ O(log(n)) \\times (O(mn) +  O(n))$ = $ O(mn$log$(n))$\n",
    "\n",
    "Total computation steps for all m up to $n_{max}$:\n",
    "\n",
    "Flops($n_{max}) \\sim O(n_{max}$log$(n_{max})\\times n_{max}^2) \\sim O(n_{max}^3 $log$(n_{max}))$\n",
    "\n",
    "\n",
    "#### Linear Regression\n",
    "\n",
    "\n",
    "#### 1-NN\n"
   ]
  },
  {
   "cell_type": "code",
   "execution_count": null,
   "metadata": {
    "collapsed": true
   },
   "outputs": [],
   "source": [
    "# Trade-off\n",
    "# Use of interpolation instead of estimating for all m in [100]. "
   ]
  },
  {
   "cell_type": "code",
   "execution_count": null,
   "metadata": {
    "collapsed": true
   },
   "outputs": [],
   "source": [
    "# Biases\n",
    "# estimate the bias of our estimator? E(estimator) = gen_error, bias = 0 "
   ]
  },
  {
   "cell_type": "markdown",
   "metadata": {},
   "source": [
    "## Q1 c) Estimate m(n)"
   ]
  },
  {
   "cell_type": "markdown",
   "metadata": {},
   "source": [
    "### Perceptron"
   ]
  },
  {
   "cell_type": "code",
   "execution_count": null,
   "metadata": {
    "collapsed": true
   },
   "outputs": [],
   "source": [
    "from pylab import * \n"
   ]
  },
  {
   "cell_type": "markdown",
   "metadata": {},
   "source": [
    "### Winnow"
   ]
  },
  {
   "cell_type": "code",
   "execution_count": null,
   "metadata": {
    "collapsed": true
   },
   "outputs": [],
   "source": []
  },
  {
   "cell_type": "markdown",
   "metadata": {},
   "source": [
    "### Linear Regression"
   ]
  },
  {
   "cell_type": "code",
   "execution_count": null,
   "metadata": {
    "collapsed": true
   },
   "outputs": [],
   "source": []
  },
  {
   "cell_type": "markdown",
   "metadata": {},
   "source": [
    "### 1NN"
   ]
  },
  {
   "cell_type": "code",
   "execution_count": 157,
   "metadata": {
    "collapsed": false
   },
   "outputs": [
    {
     "name": "stdout",
     "output_type": "stream",
     "text": [
      "log(m(n)) = 0.39 b+ 1.65\n",
      "m(n)= 5.19 exp( 0.39 n)\n"
     ]
    },
    {
     "data": {
      "image/png": "[encoded data removed]",
      "text/plain": [
       "<Figure size 432x288 with 1 Axes>"
      ]
     },
     "metadata": {
      "needs_background": "light"
     },
     "output_type": "display_data"
    }
   ],
   "source": [
    "#Appears to be exponential\n",
    "sample_complexity_1nn = sample_complexity2\n",
    "log_sc = np.log(sample_complexity_1nn[1:].reshape(20))\n",
    "m,b = polyfit(np.arange(1,21),log_sc,1)\n",
    "fit = [b +m*x  for x in np.arange(1,21)]\n",
    "print('log(m(n)) =',round(m,2),'b+',round(b,2) )\n",
    "print('m(n)=',round(np.exp(b),2),'exp(',round(m,2),'n)')\n",
    "\n",
    "plt.plot(np.exp(fit),color='r')\n",
    "plt.plot(sample_complexity_1nn[1:],color='b')\n",
    "plt.show()"
   ]
  },
  {
   "cell_type": "code",
   "execution_count": null,
   "metadata": {
    "collapsed": true
   },
   "outputs": [],
   "source": [
    "## Estimating Sample Complexity, by repeating 20 ru per each m and n"
   ]
  },
  {
   "cell_type": "code",
   "execution_count": 101,
   "metadata": {
    "collapsed": true
   },
   "outputs": [],
   "source": [
    "def estimate_sample_complexity_new(max_m,max_n,function_choice,step_size=1, number_of_runs=20):\n",
    "    sample_complexity = np.zeros(max_n+1)\n",
    "    iterations_per_n = np.zeros(max_n+1)\n",
    "    gen_errors_arr= np.zeros((max_n+1))\n",
    "    \n",
    "    for n in np.arange(1,max_n+1,step_size):\n",
    "        #research for a better test size, curse of dimensionality\n",
    "        test_size = 10000\n",
    "        #test_size = test_size if test_size > 0 and test_size < 10000 else 10000\n",
    "        print(\"Now n=\", n, \"............\", end='\\r')\n",
    "        print('n=',n)\n",
    "        m_last = 0 \n",
    "        #Repeat for number_of_runs runs. \n",
    "            \n",
    "        m_left, m_right = bound_m(n,function_choice)\n",
    "        print('range of m=',m_left,' and ', m_right)\n",
    "             \n",
    "        error_left = estimate_generalization_error(m_left,n,number_of_runs,function_choice,test_size)\n",
    "        error_right = estimate_generalization_error(m_right,n,number_of_runs,function_choice,test_size)\n",
    "        print('error_left=',error_left)\n",
    "        print('error_right=',error_right)\n",
    "        \n",
    "        min_m_per_run = 1\n",
    "        min_error_per_run = 1\n",
    "        m_current = n\n",
    "        iterations = 1\n",
    "        #print('run=',run)\n",
    "        found_m = False\n",
    "\n",
    "        while found_m==False:\n",
    "            m = int((m_left + m_right) / 2)\n",
    "            gen_error = estimate_generalization_error(m,n,number_of_runs,function_choice,test_size)\n",
    "            print(\"m_left: \", m_left, \", m_right: \", m_right, \", m: \", m, \", error: \", gen_error)\n",
    "            \n",
    "            if (m_right == m_left + 1):\n",
    "                min_m_per_run = m_left if error_left <= error_right else m_right\n",
    "                gen_error = error_left if error_left <= error_right else error_right\n",
    "\n",
    "                if (gen_error<0.1):\n",
    "                    found_m = True\n",
    "                    break\n",
    "                else:\n",
    "                    m = m_last\n",
    "                    #raise ValueError('gen error > 0.1 at converge point, m_left = m_right-1')\n",
    "                    break\n",
    "\n",
    "            # We check if it's smaller than 0.1. If it is then we're going to focus on (m_left, m) interval\n",
    "            # Otherwise we will check (m, m_right)\n",
    "            if gen_error < 0.1:\n",
    "                m_last = m #store the latest m where this bound is achieved, gives more stability.\n",
    "                if m < min_m_per_run:\n",
    "#                        print(\"Kicking off \", min_m_per_run, \" (\", min_error_per_run,\") in favour of \", m, \"(\",gen_error,\")\")\n",
    "                    min_m_per_run = m\n",
    "                    min_error_per_run = gen_error\n",
    "\n",
    "                m_right = m  \n",
    "                error_right = estimate_generalization_error(m_right,n,number_of_runs,function_choice,test_size)\n",
    "\n",
    "\n",
    "            else:\n",
    "                m_left = m  \n",
    "                error_left = estimate_generalization_error(m_left,n,number_of_runs,function_choice,test_size)\n",
    "\n",
    "            m_current = m\n",
    "\n",
    "            if m_left == m_right:\n",
    "                #print('finally narrowed down to one m!,m=',m)\n",
    "                #print('gen_error=',error_right)\n",
    "                found_m = True\n",
    "                if (gen_error <0.1):\n",
    "                    break\n",
    "                else:\n",
    "                    #print('bad error=',gen_error)\n",
    "                    m = m_last\n",
    "                    \n",
    "                    print('min_m_per_run=',min_m_per_run)\n",
    "                    #raise ValueError('gen error > 0.1 at converge point')\n",
    "                    break\n",
    "    \n",
    "            iterations += 1\n",
    "  \n",
    "        gen_errors_arr[n] = gen_error #This is just to check if errors<0.1\n",
    "        sample_complexity[n] = min_m_per_run\n",
    "        iterations_per_n[n] += iterations\n",
    "        print(\"Found m=\", min_m_per_run, \" for n=\", n, \" with \", iterations, \" iterations\")\n",
    "        iterations_per_n[n] /= number_of_runs\n",
    "        \n",
    "    return sample_complexity, iterations_per_n,gen_errors_arr"
   ]
  },
  {
   "cell_type": "code",
   "execution_count": 81,
   "metadata": {
    "collapsed": true
   },
   "outputs": [],
   "source": [
    "def estimate_generalization_error(m,n,number_of_runs,function_choice,test_size):\n",
    "    \n",
    "    test_errors=np.zeros(number_of_runs)\n",
    "    \n",
    "    for run in range(number_of_runs):\n",
    "        if function_choice == 'winnow':\n",
    "            x_test,y_test = generate_data(test_size,n,winnow=True)\n",
    "        else:\n",
    "            x_test,y_test = generate_data(test_size,n)\n",
    "            \n",
    "        test_error = calculate_gen_error(m, n, x_test, y_test, function_choice)\n",
    "        test_errors[run] = test_error          \n",
    "    gen_error = test_errors.mean()   \n",
    "    \n",
    "    return gen_error\n"
   ]
  },
  {
   "cell_type": "code",
   "execution_count": 104,
   "metadata": {
    "collapsed": false
   },
   "outputs": [
    {
     "data": {
      "text/plain": [
       "[<matplotlib.lines.Line2D at 0x1a1a3e3320>]"
      ]
     },
     "execution_count": 104,
     "metadata": {},
     "output_type": "execute_result"
    },
    {
     "data": {
      "image/png": "[encoded data removed]",
      "text/plain": [
       "<Figure size 432x288 with 1 Axes>"
      ]
     },
     "metadata": {
      "needs_background": "light"
     },
     "output_type": "display_data"
    }
   ],
   "source": [
    "#sample_complexity, iterations,gen_error = estimate_sample_complexity_new(100,10,'perceptron',number_of_runs=20)\n",
    "#plot_sample_complexity(sample_complexity)\n",
    "plt.plot(sample_complexity)"
   ]
  },
  {
   "cell_type": "code",
   "execution_count": null,
   "metadata": {
    "collapsed": true
   },
   "outputs": [],
   "source": []
  }
 ],
 "metadata": {
  "anaconda-cloud": {},
  "kernelspec": {
   "display_name": "Python [conda env:py36]",
   "language": "python",
   "name": "conda-env-py36-py"
  },
  "language_info": {
   "codemirror_mode": {
    "name": "ipython",
    "version": 3
   },
   "file_extension": ".py",
   "mimetype": "text/x-python",
   "name": "python",
   "nbconvert_exporter": "python",
   "pygments_lexer": "ipython3",
   "version": "3.6.6"
  }
 },
 "nbformat": 4,
 "nbformat_minor": 2
}
