{
 "cells": [
  {
   "cell_type": "markdown",
   "metadata": {},
   "source": [
    "# Part 2"
   ]
  },
  {
   "cell_type": "code",
   "execution_count": 2,
   "metadata": {
    "collapsed": true
   },
   "outputs": [],
   "source": [
    "import os\n",
    "import time\n",
    "import numpy as np\n",
    "import matplotlib.pyplot as plt \n",
    "import scipy\n",
    "import scipy.io as spio\n",
    "import pandas as pd\n",
    "from sklearn.model_selection import KFold\n",
    "from sklearn.model_selection import train_test_split\n",
    "import math\n",
    "import urllib\n",
    "from urllib.request import urlopen\n",
    "%matplotlib inline\n",
    "import urllib.request\n",
    "import datetime as dt\n",
    "from datetime import datetime\n",
    "from sklearn.model_selection import KFold\n",
    "from sklearn.model_selection import train_test_split\n",
    "import pandas as pd\n",
    "from pylab import * "
   ]
  },
  {
   "cell_type": "code",
   "execution_count": 3,
   "metadata": {
    "collapsed": true
   },
   "outputs": [],
   "source": [
    "def generate_data(m,n,winnow=False):\n",
    "    \"\"\"\n",
    "    Given a combination of m and n, it generates a random data matrix X of dimensions (m x (n+1)).\n",
    "    Each cell of this matrix will randomly be either -1 or 1.\n",
    "    It also computes a corresponding X matrix of size (m x 1), which is the first column of X.\n",
    "    :param m: the number of rows.\n",
    "    :param n: the number of columns\n",
    "    :param winnow: if this flag is set to true, cell values will be in the {0, 1} set instead of {-1, 1}\n",
    "    :return: the generated x and y matrices\n",
    "    \"\"\"\n",
    "    if winnow:\n",
    "        data = np.random.randint(2, size=(m,(n+1)))\n",
    "        data = np.sign(data)\n",
    "    else:\n",
    "        data = np.random.uniform(low=-1, high=1, size=(m,(n+1)))\n",
    "        data = np.sign(data)\n",
    "    x = data\n",
    "    y = data[:,0]\n",
    "    return x,y\n",
    "\n",
    "def add_bias(x):\n",
    "    \"\"\"\n",
    "    Transforms x by adding an extra column of \"1\", i.e. bias.\n",
    "    :param x: a matrix of m examples and n columns\n",
    "    :return: the transformed matrix x_with_bias, of m examples and n+1 columns\n",
    "    \"\"\"\n",
    "    x_with_bias = np.ones((x.shape[0],x.shape[1]+1))\n",
    "    x_with_bias[:,:-1] = x\n",
    "    return x_with_bias"
   ]
  },
  {
   "cell_type": "markdown",
   "metadata": {},
   "source": [
    "## Binary Perceptron"
   ]
  },
  {
   "cell_type": "code",
   "execution_count": 4,
   "metadata": {
    "collapsed": true
   },
   "outputs": [],
   "source": [
    "def perceptron_train(x, y, max_epoch=20, tol=0.01, learning_rate=1, random_select=False, eta=0.001):\n",
    "    \"\"\"\n",
    "    It trains a perceptron classifier over multiple epochs.\n",
    "    :param x: a matrix of observations\n",
    "    :param y: the corresponding labels\n",
    "    :param max_epoch: the maximum epochs to perform over the data\n",
    "    :param tol: a tolerance value, used as a convergence criterion for the error rate.\n",
    "    :param learning_rate: the learning rate parameter of the perceptron\n",
    "    :param random_select: whether or not to select a random number of times to train the perceptron\n",
    "    :param eta: used as a threshold value to determine when to update weights\n",
    "    :return: a set of weights W and the errors made in the last iteration\n",
    "    \"\"\"\n",
    "    m_train = x.shape[0]  # number of examples\n",
    "    n = x.shape[1]  # number of features\n",
    "    x = add_bias(x)\n",
    "    error_per_epoch = np.zeros(max_epoch)\n",
    "    W = np.zeros(n + 1)\n",
    "    R = np.sqrt(n + 1)  # max norm\n",
    "    error_bound = (R / eta) ** 2  # maximum number of mistakes it makes before convergence.\n",
    "\n",
    "    if random_select:\n",
    "        max_epoch = 1\n",
    "        m = np.random.randint(low=0, high=m_train)  # select random number of times to train the perceptron.\n",
    "    else:\n",
    "        m = m_train\n",
    "\n",
    "    for epoch in range(max_epoch):\n",
    "        errors = np.zeros(m)\n",
    "        num_errors = 0  # This should be bounded..? Maybe calculate the bound in the explanation\n",
    "\n",
    "        # iterate through training set\n",
    "        for t in range(m):\n",
    "            x_t = x[t, :]\n",
    "            y_t = y[t]\n",
    "            pred_t = W @ x_t\n",
    "\n",
    "            if pred_t * y_t < eta:\n",
    "                num_errors += 1\n",
    "                W = W + learning_rate * x_t.T * y_t\n",
    "                errors[t] = num_errors\n",
    "                if num_errors >= error_bound:\n",
    "                    break\n",
    "\n",
    "        error_per_epoch[epoch] = num_errors\n",
    "\n",
    "        if epoch > 1:\n",
    "            diff_rates = (error_per_epoch[epoch - 1] - error_per_epoch[epoch]) / m\n",
    "\n",
    "            # Stop if the error rate has increased,\n",
    "            # or the difference in error rate between the previous one and the current one < tolerance.\n",
    "            if error_per_epoch[epoch] / m < 0.05:\n",
    "                print('error rate< 10%')\n",
    "                if diff_rates < tol:\n",
    "                    print('converging')\n",
    "                    break\n",
    "                elif diff_rates < 0:\n",
    "                    print('error increased')\n",
    "                    break\n",
    "                elif error_per_epoch[epoch] == 0:\n",
    "                    print('no error')\n",
    "                    break\n",
    "\n",
    "    return W, error_per_epoch[:epoch + 1]\n",
    "\n",
    "def perceptron_test(x_test,y_test,W):\n",
    "    \"\"\"\n",
    "    Given a set of weights W, it calculates the perceptron predictions over an unlabelled set of data x_test \n",
    "    as well as the number of mistakes.\n",
    "    :param x_test: an unlabelled set of data observations\n",
    "    :param y_test: their corresponding labels\n",
    "    :param W: the perceptron's wegight\n",
    "    :return: the number of mistakes and the predictions over x_test\n",
    "    \"\"\"\n",
    "    x_test = add_bias(x_test)\n",
    "    pred = np.sign(x_test @ W)  # (n,1) x (m_test,n)\n",
    "    diff = pred - y_test\n",
    "    mistakes = len(diff[diff != 0])\n",
    "    return mistakes, pred"
   ]
  },
  {
   "cell_type": "code",
   "execution_count": 185,
   "metadata": {},
   "outputs": [
    {
     "name": "stdout",
     "output_type": "stream",
     "text": [
      "error rate< 10%\n",
      "no error\n"
     ]
    }
   ],
   "source": [
    "x,y = generate_data(20,30)\n",
    "W, error_per_epoch = perceptron_train(x,y,max_epoch=30, tol=0.01, learning_rate=1)"
   ]
  },
  {
   "cell_type": "code",
   "execution_count": 5,
   "metadata": {
    "collapsed": true
   },
   "outputs": [],
   "source": [
    "mistakes,pred = perceptron_test(x[:10],y[:10],W)"
   ]
  },
  {
   "cell_type": "code",
   "execution_count": 6,
   "metadata": {},
   "outputs": [
    {
     "data": {
      "text/plain": [
       "array([8., 3., 2., 0.])"
      ]
     },
     "execution_count": 6,
     "metadata": {},
     "output_type": "execute_result"
    }
   ],
   "source": [
    "error_per_epoch\n",
    "### Does not seem to converge for some combination of x and y. "
   ]
  },
  {
   "cell_type": "markdown",
   "metadata": {},
   "source": [
    "## Winnow"
   ]
  },
  {
   "cell_type": "code",
   "execution_count": 6,
   "metadata": {
    "collapsed": true
   },
   "outputs": [],
   "source": [
    "def winnow_train(x,y,max_epoch=20,tol=0.01, learning_rate=1):\n",
    "    \"\"\"\n",
    "    Trains a winnow classifier over a set of observations x and their corresponding labels y\n",
    "    :param x: a matrix of observations \n",
    "    :param y: their corresponding labels\n",
    "    :param max_epoch: the maximum number of epochs to perform over the data\n",
    "    :param tol: a tolerance value, used as a convergence criterion for error rate\n",
    "    :param learning_rate: the learning rate of the classifier\n",
    "    :return: the vector of weights W, and the number of mistakes made in the last iteration\n",
    "    \"\"\"\n",
    "    m = x.shape[0]\n",
    "    n = x.shape[1]\n",
    "    error_per_epoch = np.zeros(max_epoch)\n",
    "    W = np.ones(n + 1)\n",
    "    x = add_bias(x)\n",
    "    gamma_bound = n / 2\n",
    "\n",
    "    epoch = 0\n",
    "    while epoch < max_epoch:\n",
    "        errors = np.zeros(m)\n",
    "        num_errors = 0  # This should be bounded..? Maybe calculate the bound in the explanation\n",
    "        # iterate through training set\n",
    "        for t in range(m):\n",
    "            x_t = x[t, :]\n",
    "            y_t = y[t]\n",
    "            gamma = W @ x_t\n",
    "\n",
    "            if gamma >= gamma_bound:\n",
    "                pred_t = 1\n",
    "            else:\n",
    "                pred_t = 0\n",
    "\n",
    "            if pred_t != y_t:\n",
    "                num_errors += 1\n",
    "                power = (y_t - pred_t) * x_t / 1.0  # 1 when error made on positive class, -1 when error made on negative class\n",
    "                W = W * (2 ** power)  # element wise multiplication, and element wise power\n",
    "                # Once weight>n, it should no longer change.\n",
    "                W[W > n] = n\n",
    "                errors[t] = num_errors\n",
    "\n",
    "        error_per_epoch[epoch] = num_errors\n",
    "\n",
    "        if epoch > 1:\n",
    "            diff_rates = (error_per_epoch[epoch - 1] - error_per_epoch[epoch]) / m\n",
    "            # Stop if the error rate has increased,\n",
    "            # or the difference in error rate between the previous one and the current one < tolerance.\n",
    "            if error_per_epoch[epoch] / m < 0.05:\n",
    "                if diff_rates < tol:\n",
    "                    print('converging')\n",
    "                    break\n",
    "                elif diff_rates < 0:\n",
    "                    print('error increased')\n",
    "                    break\n",
    "                elif error_per_epoch[epoch] == 0:\n",
    "                    print('no error')\n",
    "                    break\n",
    "        epoch += 1\n",
    "    return W, error_per_epoch[:epoch + 1]\n",
    "\n",
    "def winnow_test(x_test,y_test,W):\n",
    "    \"\"\"\n",
    "    Given a set of unlabelled data x_test and a trained winnow classifier (its weights W), it predicts the labels\n",
    "    for x_test and calculates the mistakes made.\n",
    "    :param x_test: an unknown set of data\n",
    "    :param y_test: their corresponding labels\n",
    "    :param W: the weights matrix for the winnow algorithm\n",
    "    :return: the number of mistakes made and the predictions for x_test\n",
    "    \"\"\"\n",
    "    x_test = add_bias(x_test)\n",
    "    m_test = x_test.shape[0]\n",
    "    n = x_test.shape[1]\n",
    "    gamma = x_test@W\n",
    "    pred = np.zeros(m_test)\n",
    "    pred[gamma>=n/2] = 1\n",
    "    diff = pred - y_test\n",
    "    mistakes = len(diff[diff!=0])  \n",
    "    return mistakes,pred"
   ]
  },
  {
   "cell_type": "code",
   "execution_count": 22,
   "metadata": {},
   "outputs": [
    {
     "name": "stdout",
     "output_type": "stream",
     "text": [
      "converging\n"
     ]
    },
    {
     "data": {
      "text/plain": [
       "0"
      ]
     },
     "execution_count": 22,
     "metadata": {},
     "output_type": "execute_result"
    }
   ],
   "source": [
    "x,y = generate_data(40,20,winnow=True)\n",
    "W, error_per_epoch = winnow_train(x,y,max_epoch=15,tol=0.01, learning_rate=1)\n",
    "mistakes,pred = winnow_test(x[:20],y[:20],W)\n",
    "mistakes"
   ]
  },
  {
   "cell_type": "markdown",
   "metadata": {},
   "source": [
    "## Least Squares Regression"
   ]
  },
  {
   "cell_type": "code",
   "execution_count": 192,
   "metadata": {},
   "outputs": [],
   "source": [
    "def compute_primal(X, Y):\n",
    "    \"\"\"\n",
    "    Computes vector omega, which is called the primal form of the linear regression.\n",
    "    :param X: the feature map vector\n",
    "    :param Y: the target values of the data points\n",
    "    :return: the vector omega\n",
    "    \"\"\"\n",
    "    omega = np.linalg.pinv(X.T @ X) @ X.T @ Y\n",
    "    return omega\n",
    "\n",
    "def linear_predict(X_test, y_test, omega):\n",
    "    \"\"\"\n",
    "    Given a set of unlabelled data x_test and a trained linear classifier (its weights omega), it predicts the labels\n",
    "    for x_test and calculates the mistakes made.\n",
    "    :param X_test: an unknown set of data\n",
    "    :param y_test: their corresponding labels\n",
    "    :param omega: the weights matrix for the linear regression\n",
    "    :return: the number of mistakes made and the predictions for x_test\n",
    "    \"\"\"\n",
    "    f = X_test @ omega\n",
    "    pred = np.where(f < 0, -1, 1)\n",
    "    diff = pred - y_test\n",
    "    mistakes = len(diff[diff!=0])\n",
    "    return mistakes, pred\n",
    "\n",
    "#x,y = generate_data(40,20)\n",
    "#W = compute_primal(x,y)\n",
    "#mistakes,pred = linear_predict(x[:10], y[:10], W)\n",
    "#mistakes"
   ]
  },
  {
   "cell_type": "markdown",
   "metadata": {
    "collapsed": true
   },
   "source": [
    "## 1 Nearest Neighbors"
   ]
  },
  {
   "cell_type": "code",
   "execution_count": 8,
   "metadata": {
    "collapsed": true
   },
   "outputs": [],
   "source": [
    "def pairwise_distance_double(X1,X2): # distances of X training data, double matrices, X1 and X2\n",
    "    \"\"\"\n",
    "    Computes the pairwise distance for two matrices X1 and X2\n",
    "    :param X1: the first matrix\n",
    "    :param X2: the second matrix\n",
    "    :return: the pairwise distances matrix\n",
    "    \"\"\"\n",
    "    X1_pow = (X1**2).sum(axis=1).reshape(X1.shape[0],1) #sum the rows, size m1 array\n",
    "    X2_pow = (X2**2).sum(axis=1).reshape(X2.shape[0],1) #sum the rows, size m2 array\n",
    "    G = np.matmul(X1,X2.T)\n",
    "    m1,m2 =G.shape[0],G.shape[1] \n",
    "    distances_sq = np.matmul(X1_pow,np.ones((m2,1)).T)+ np.matmul(np.ones((m1,1)),X2_pow.T)-2.0*G\n",
    "    return distances_sq\n",
    "\n",
    "def knn_test(x_test, y_test, x_train, y_train):\n",
    "    \"\"\"\n",
    "    In the k-NN algorithm, given a set of unknown data x_test, we try to predict their corresponding labels by\n",
    "    looking at the k nearest neighbours as seen in the training set x_train. This function is an implementation of \n",
    "    1nn in particular and it calculates the set of pairwise distances of x_test and x_train and then predicts the \n",
    "    labels of x_test using the label of the nearest neighbour.\n",
    "    :param x_test: an unknown set of data\n",
    "    :param y_test: their corresponding labels\n",
    "    :param x_train: an array of observations, used as a training set\n",
    "    :param y_train: their corresponding labels\n",
    "    :return: the number of mistakes made and the predictions for x_test\n",
    "    \"\"\"\n",
    "    distances = pairwise_distance_double(x_test, x_train)\n",
    "    if x_test.shape[0] == 1:\n",
    "        return 0, y_train\n",
    "    \n",
    "    pred = y_train[distances.argmin(axis=1)]\n",
    "    diff = pred - y_test\n",
    "    mistakes = len(diff[diff!=0])  \n",
    "    \n",
    "    return mistakes,pred"
   ]
  },
  {
   "cell_type": "code",
   "execution_count": 240,
   "metadata": {},
   "outputs": [
    {
     "data": {
      "text/plain": [
       "0"
      ]
     },
     "execution_count": 240,
     "metadata": {},
     "output_type": "execute_result"
    }
   ],
   "source": [
    "x,y = generate_data(40,20,winnow=False)\n",
    "mistakes,pred = knn_test(x[:20], y[:20], x, y)\n",
    "mistakes"
   ]
  },
  {
   "cell_type": "markdown",
   "metadata": {},
   "source": [
    "## Estimate Sample Complexity"
   ]
  },
  {
   "cell_type": "markdown",
   "metadata": {},
   "source": [
    "Justifying the choice of sample size: when n < log_2(1000), there is a possbility that the sample contains all possible combinations of n agents' outcomes. Igore this "
   ]
  },
  {
   "cell_type": "code",
   "execution_count": 17,
   "metadata": {
    "collapsed": true
   },
   "outputs": [],
   "source": [
    "import scipy.spatial as spatial"
   ]
  },
  {
   "cell_type": "code",
   "execution_count": 159,
   "metadata": {},
   "outputs": [],
   "source": [
    "#Compute by brute force, the sample complexity of each training algorithms\n",
    "#Might derive a lower bound for m for a fixed n. Refer to lecture notes. \n",
    "\n",
    "def calculate_gen_error(m, n, x_test, y_test, function_choice):\n",
    "    \"\"\"\n",
    "\n",
    "    \"\"\"\n",
    "    if function_choice=='winnow':\n",
    "        x,y = generate_data(m,n,winnow=True)\n",
    "        W, _ = winnow_train(x,y,max_epoch=1,tol=0.01, learning_rate=1)\n",
    "        test_mistakes,_ = winnow_test(x_test,y_test,W)\n",
    "    elif function_choice == 'perceptron':\n",
    "        x,y = generate_data(m,n)\n",
    "        W, _ = perceptron_train(x,y,max_epoch=1, tol=0.01, learning_rate=1,random_select=True)\n",
    "        test_mistakes,_= perceptron_test(x_test,y_test,W)\n",
    "    elif function_choice == 'linear':\n",
    "        x,y = generate_data(m,n)\n",
    "        W = compute_primal(x,y)\n",
    "        test_mistakes,_ = linear_predict(x_test, y_test, W)\n",
    "    elif function_choice == '1nn':\n",
    "        x,y = generate_data(m,n)\n",
    "        test_mistakes,_ = knn_test(x_test, y_test, x, y)\n",
    "        \n",
    "    mean_test_error = (1.0/ y_test.shape[0]) * test_mistakes\n",
    "    \n",
    "    return mean_test_error\n",
    "\n",
    "\n",
    "\n",
    "def estimate_generalization_error(m,n,number_of_samples,function_choice,test_size):\n",
    "    \"\"\"\n",
    "\n",
    "    \"\"\"\n",
    "    test_errors=np.zeros(number_of_samples)\n",
    "    \n",
    "    for run in range(number_of_samples):\n",
    "        if function_choice == 'winnow':\n",
    "            x_test,y_test = generate_data(test_size,n,winnow=True)\n",
    "        else:\n",
    "            x_test,y_test = generate_data(test_size,n)\n",
    "            \n",
    "        test_error = calculate_gen_error(m, n, x_test, y_test, function_choice)\n",
    "        test_errors[run] = test_error          \n",
    "    gen_error = test_errors.mean()   \n",
    "    \n",
    "    return gen_error\n",
    "\n",
    "\n",
    "\n",
    "def estimate_sample_complexity(max_n,function_choice,step_size=1, number_of_runs=10, number_of_samples=10):\n",
    "    \"\"\"\n",
    "\n",
    "    \"\"\"\n",
    "    sample_complexity = np.zeros((max_n, number_of_runs))\n",
    "    iterations_per_n = np.zeros(max_n)\n",
    "    gen_errors_matrix= np.zeros((max_n, number_of_runs))\n",
    "    \n",
    "    for n in np.arange(1,max_n+1,step_size):\n",
    "        #research for a better test size, curse of dimensionality\n",
    "        test_size = 10000\n",
    "        #test_size = test_size if test_size > 0 and test_size < 10000 else 10000\n",
    "        print(\"Now n=\", n, \"............\", end='\\r')\n",
    "        print('n=',n)\n",
    "        m_last = 0 \n",
    "        #Repeat for number_of_runs runs. \n",
    "        for run in range(number_of_runs):\n",
    "            #print('run=',run)\n",
    "            if function_choice == 'winnow':\n",
    "                x_test,y_test = generate_data(test_size,n,winnow=True)\n",
    "            else:\n",
    "                x_test,y_test = generate_data(test_size,n)\n",
    "            \n",
    "            m_left, m_right = bound_m(n,function_choice)\n",
    "            \n",
    "            error_left = estimate_generalization_error(m_left,n,number_of_samples,function_choice,test_size)\n",
    "            error_right = estimate_generalization_error(m_right,n,number_of_samples,function_choice,test_size)\n",
    "            \n",
    "            min_m_per_run = 1\n",
    "            min_error_per_run = 1\n",
    "            m_current = n\n",
    "            iterations = 1\n",
    "\n",
    "            found_m = False\n",
    "            while found_m==False:\n",
    "                # Try the mean to see what kind of error we get\n",
    "                m = int((m_left + m_right) / 2)\n",
    "                # Generalisation error is upper bound of training mistakes over total number of observations in D\n",
    "                gen_error = estimate_generalization_error(m,n,number_of_samples,function_choice,test_size)\n",
    "                # If we're at the case with only two elements, then converge\n",
    "                if (m_right == m_left + 1):\n",
    "                    min_m_per_run = m_left if error_left <= error_right else m_right\n",
    "                    gen_error = error_left if error_left <= error_right else error_right\n",
    "                    \n",
    "                    if (gen_error<0.1):\n",
    "                        found_m = True\n",
    "                        break\n",
    "                    else:\n",
    "                        m = m_last\n",
    "                        #raise ValueError('gen error > 0.1 at converge point, m_left = m_right-1')\n",
    "                        break\n",
    "                        \n",
    "                # We check if it's smaller than 0.1. If it is then we're going to focus on (m_left, m) interval\n",
    "                # Otherwise we will check (m, m_right)\n",
    "                if gen_error < 0.1:\n",
    "                    m_last = m #store the latest m where this bound is achieved, gives more stability.\n",
    "                    if m < min_m_per_run:\n",
    "#                        print(\"Kicking off \", min_m_per_run, \" (\", min_error_per_run,\") in favour of \", m, \"(\",gen_error,\")\")\n",
    "                        min_m_per_run = m\n",
    "                        min_error_per_run = gen_error\n",
    "                        \n",
    "                    m_right = m            \n",
    "                    error_right = estimate_generalization_error(m_right,n,number_of_samples,function_choice,test_size)\n",
    "                        \n",
    "                else:\n",
    "                    m_left = m\n",
    "                    error_left = estimate_generalization_error(m_left,n,number_of_samples,function_choice,test_size)\n",
    "                \n",
    "                m_current = m\n",
    "                \n",
    "                if m_left == m_right:\n",
    "                    found_m = True\n",
    "                    if (gen_error <0.1):\n",
    "                        break\n",
    "                    else:\n",
    "                        \n",
    "                        m = m_last\n",
    "                        #raise ValueError('gen error > 0.1 at converge point')\n",
    "                        break\n",
    "                        \n",
    "                iterations += 1\n",
    " \n",
    "            gen_errors_matrix[n-1, run] = gen_error #This is just to check if errors<0.1\n",
    "            sample_complexity[n-1, run] = min_m_per_run\n",
    "            iterations_per_n[n-1] += iterations\n",
    "        iterations_per_n[n-1] /= number_of_runs\n",
    "        \n",
    "    return sample_complexity, iterations_per_n"
   ]
  },
  {
   "cell_type": "code",
   "execution_count": 10,
   "metadata": {
    "collapsed": true
   },
   "outputs": [],
   "source": [
    "def bound_m(n,function_choice):\n",
    "    if function_choice=='winnow':\n",
    "        m_left=1\n",
    "        m_right=n\n",
    "        \n",
    "    elif function_choice =='perceptron':\n",
    "        m_left = n*2\n",
    "        m_right = n*10+10\n",
    "    \n",
    "    elif function_choice =='linear':\n",
    "        m_left = 1\n",
    "        m_right = n+10\n",
    "        \n",
    "    elif function_choice =='1nn':\n",
    "        m_left = 1\n",
    "        m_right = int(3*n**3)+30\n",
    "        \n",
    "    return m_left, m_right"
   ]
  },
  {
   "cell_type": "code",
   "execution_count": 163,
   "metadata": {
    "scrolled": false
   },
   "outputs": [],
   "source": [
    "def plot_sample_complexity(sample_complexity,step_size,function_choice):\n",
    "    means = np.mean(sample_complexity, axis=1)\n",
    "    means_crop = means[means>0]\n",
    "    errors = np.std(sample_complexity, axis=1)\n",
    "    errors_crop = errors[means>0]\n",
    "    plt.errorbar(np.arange(1,sample_complexity.shape[0]+1,step_size), means_crop, errors_crop, marker='^')\n",
    "    plt.xlabel('n')\n",
    "    plt.ylabel('sample complexity')\n",
    "    plt.title('Estimated sample complexity for '+str(function_choice))"
   ]
  },
  {
   "cell_type": "code",
   "execution_count": 81,
   "metadata": {},
   "outputs": [
    {
     "data": {
      "image/png": "[encoded data removed]",
      "text/plain": [
       "<Figure size 432x288 with 1 Axes>"
      ]
     },
     "metadata": {
      "needs_background": "light"
     },
     "output_type": "display_data"
    }
   ],
   "source": [
    "#Perceptron\n",
    "sample_complexity_perceptron, iterations = estimate_sample_complexity(100,'perceptron',step_size=5,number_of_runs=10,number_of_samples=10)\n",
    "plot_sample_complexity(sample_complexity_perceptron,step_size=5,function_choice='perceptron')"
   ]
  },
  {
   "cell_type": "code",
   "execution_count": 105,
   "metadata": {
    "collapsed": true
   },
   "outputs": [],
   "source": [
    "pd.DataFrame(sample_complexity_perceptron).to_pickle('sample_complexity_perceptron') "
   ]
  },
  {
   "cell_type": "code",
   "execution_count": 239,
   "metadata": {},
   "outputs": [
    {
     "name": "stdout",
     "output_type": "stream",
     "text": [
      "Now n= 100 ............\r"
     ]
    },
    {
     "data": {
      "image/png": "[encoded data removed]",
      "text/plain": [
       "<Figure size 432x288 with 1 Axes>"
      ]
     },
     "metadata": {
      "needs_background": "light"
     },
     "output_type": "display_data"
    }
   ],
   "source": [
    "#OLD GRAPH PERCEPTRON\n",
    "sample_complexity, iterations = estimate_sample_complexity(100,'perceptron',step_size=5,number_of_runs=20,number_of_samples=1)\n",
    "plot_sample_complexity(sample_complexity)"
   ]
  },
  {
   "cell_type": "code",
   "execution_count": 102,
   "metadata": {},
   "outputs": [
    {
     "data": {
      "image/png": "[encoded data removed]",
      "text/plain": [
       "<Figure size 432x288 with 1 Axes>"
      ]
     },
     "metadata": {
      "needs_background": "light"
     },
     "output_type": "display_data"
    }
   ],
   "source": [
    "#Winnow\n",
    "sample_complexity_winnow, iterations = estimate_sample_complexity(100,'winnow', step_size = 5, number_of_runs=10,number_of_samples=10) #a bit slower, for some reason. \n",
    "plot_sample_complexity(sample_complexity_winnow,step_size=5,function_choice='winnow')"
   ]
  },
  {
   "cell_type": "code",
   "execution_count": 106,
   "metadata": {
    "collapsed": true
   },
   "outputs": [],
   "source": [
    "pd.DataFrame(sample_complexity_winnow).to_pickle('sample_complexity_winnow') "
   ]
  },
  {
   "cell_type": "code",
   "execution_count": 104,
   "metadata": {},
   "outputs": [
    {
     "name": "stdout",
     "output_type": "stream",
     "text": []
    },
    {
     "data": {
      "image/png": "[encoded data removed]",
      "text/plain": [
       "<Figure size 432x288 with 1 Axes>"
      ]
     },
     "metadata": {
      "needs_background": "light"
     },
     "output_type": "display_data"
    }
   ],
   "source": [
    "sample_complexity_linear, iterations = estimate_sample_complexity(100,'linear',step_size=5,number_of_runs=10,number_of_samples=10) #a bit slower, for some reason. \n",
    "plot_sample_complexity(sample_complexity_linear,step_size=5,function_choice='linear')"
   ]
  },
  {
   "cell_type": "code",
   "execution_count": 107,
   "metadata": {
    "collapsed": true
   },
   "outputs": [],
   "source": [
    "pd.DataFrame(sample_complexity_linear).to_pickle('sample_complexity_linear') "
   ]
  },
  {
   "cell_type": "code",
   "execution_count": 18,
   "metadata": {},
   "outputs": [
    {
     "name": "stdout",
     "output_type": "stream",
     "text": [
      "Now n= 99 ............\r"
     ]
    },
    {
     "data": {
      "image/png": "[encoded data removed]",
      "text/plain": [
       "<Figure size 432x288 with 1 Axes>"
      ]
     },
     "metadata": {
      "needs_background": "light"
     },
     "output_type": "display_data"
    }
   ],
   "source": [
    "#OLD GRAPH LINEAR\n",
    "sample_complexity_linear, iterations = estimate_sample_complexity(100,'linear',step_size=1,number_of_runs=20,number_of_samples=1) #a bit slower, for some reason. \n",
    "plot_sample_complexity(sample_complexity_linear,step_size=5,function_choice='linear')"
   ]
  },
  {
   "cell_type": "code",
   "execution_count": 165,
   "metadata": {},
   "outputs": [
    {
     "data": {
      "image/png": "[encoded data removed]",
      "text/plain": [
       "<Figure size 432x288 with 1 Axes>"
      ]
     },
     "metadata": {
      "needs_background": "light"
     },
     "output_type": "display_data"
    }
   ],
   "source": [
    "#1NN\n",
    "sample_complexity_1nn, iterations = estimate_sample_complexity(20,'1nn',step_size=1,number_of_runs = 5,number_of_samples=5)\n",
    "plot_sample_complexity(sample_complexity_1nn,step_size=1,function_choice='1NN')"
   ]
  },
  {
   "cell_type": "code",
   "execution_count": 166,
   "metadata": {
    "collapsed": true
   },
   "outputs": [],
   "source": [
    "pd.DataFrame(sample_complexity_1nn).to_pickle('sample_complexity_1nn') "
   ]
  },
  {
   "cell_type": "markdown",
   "metadata": {},
   "source": [
    "## Q1b) Discuss accuracy, computational time"
   ]
  },
  {
   "cell_type": "markdown",
   "metadata": {},
   "source": [
    "### i) Procedure: \n",
    "\n",
    "Given a range of n, we estimate the sample complexity using Sampling and Binary Search algorithm. \n",
    "\n",
    "For each fixed n, we define the lower bound and upper bound of m values to consider, depending on the algorithm.\n",
    "\n",
    "Binary search is then applied onto the interval of m values, to find minimum m that satisfies $\\epsilon_{test}(m)<0.1$. \n",
    "\n",
    "$m_{left}$ is initialized to be the lower bound of m, $m_{right}$ is initialized to be the upper bound of m, and m_current is initialized to be n. \n",
    "\n",
    "To calculate $\\epsilon_{test}(m)$ for each value of m, a training set of size (m,n), $S^{(i)}_{m}$ is randomly sampled from uniform distribution, and tested on a matrix of size(T,n). This step is repeated for 10 times. The mean test error calculated from 10 trials is used as a proxy to estimate the generalisation error $\\epsilon(A_{S_m})$, at m. \n",
    "\n",
    "$ \\hat{\\epsilon}(A_{S_m}) = \\frac{1}{10} \\sum_{i=1}^{10} \\frac{1}{T}\\sum_{j=1}^{T}I[A_{S^{(i)}_m}(x_j)\\neq y_j] $\n",
    "\n",
    "The generalisation error is estimated this way at m_left, m_right, and m respectively. Compare these errors against each other and against our goal ($\\epsilon=$0.1). For example, if $\\hat{\\epsilon}(A_{S_{left}}) <\\hat{\\epsilon}(A_{S_{right}})$, take the right half of this interval. This enables the algorithm to iteractively narrow down to the minimum value of training sample size that achives $\\hat{\\epsilon}(A_{S_m}) <0.1$.\n",
    "\n",
    "The procedure above is repeated 10 times for a fixed n. So, applying Binary Search in the $i^{th}$ trial gives the $i^{th}$ estimate of sample complexity of n:\n",
    "\n",
    "$C_n^{(i)}(A)$ = min $\\{m\\in \\{1,2,..\\}: \\hat{\\epsilon}(A_{S_m})\\leq 0.1 \\}$\n",
    "\n",
    "Taking the average of $SC^{(i)}(n)$ across all 10 trials, the estimator of the sample complexity becomes: \n",
    "\n",
    "$\\hat{C}_n(A) = \\frac{1}{10} \\sum_{i=1}^{10} C_n^{(i)}(A)$\n",
    "\n",
    "\n",
    "### ii) Explaining the Bias and Trade-off\n",
    "First, our estimator of $\\epsilon(A_{S_m})$ fixing $m$ is unbiased, statistically speaking. \n",
    "\n",
    "The definition of generalization error is the difference between expected error on D and empirical error of the algorithm trained with training sets of size $m$.\n",
    "\n",
    "Let $S^{(i)}_m$ be the training set generated at $i^{th}$ trial, indepdently from distribution D.\n",
    "\n",
    "Let $L_i$ be the test error rate for the $i^{th}$ trial, $\\frac{1}{T}\\sum_{j=1}^{T}I[A_{S^{(i)}_m}(x_j)\\neq y_j]$, where T pairs of test data, $[x_j, y_j]$ are generated indepdently to $S^{(i)}_m$. \n",
    "\n",
    "The expected value of $L_i$ across D is the generalisation error. \n",
    "\n",
    "$E(L_i) = \\sum_{S_T \\in \\{-1,+1\\}^n} \\Big( \\frac{1}{T}\\sum_{j=1}^{T}I[A_{S^{(i)}_m}(x_j)\\neq y_j]\\Big) = \\epsilon(A_{S_m}) $\n",
    "\n",
    "\n",
    "The average test error rate $\\overline{L}$ over $\\alpha$ independent trials is used as an estimator of generalization error. According to the result above, $E(\\overline{L})$ also gives generalization error with zero bias. As $\\alpha$ increases, the union of all test samples has greater coverage of D, and the variance of $\\overline{L}$ as an estimator decreases.  \n",
    "\n",
    "$Var(\\overline{L}) = \\frac{1}{\\alpha-1} Var(L_i)$\n",
    "\n",
    "As $\\alpha \\rightarrow \\infty$ we obtain an estmate of generalization error with increasing accuracy. But considering a trade-off between computational time and accuracy, $\\alpha$ is set to be 10 for Perceptron, Winnow and Least Square, 5 for Nearest Neighbor. \n",
    "\n",
    "Similarly, $\\hat{C}_n(A)$ is an unbiased estimator for sample complexity. We take the average across $r$ runs. Although increasing the number of runs leads to less variance in the estimation, the number of runs is set to be 10 for Perceptron, Winnow and Least Square, 5 for Nearest Neighbor. For details on computational times on sample complexity estimation, please refer to the section 'Computational time of sample complexity estimation' below.\n",
    "\n",
    "\n",
    "\n",
    "### Explaning the choice of training set size\n",
    "For example, T is set to be 10000 for all n in the test. But the total number of combinations of labels = $2^n$, meaning that the test set covers drastically less proportion of data points as n increases. The maximum proportion of input space represented by the test set   $\\leq \\frac{10000}{2^n}$, which is smaller than 1% when n=20. \n",
    "\n",
    "Similarly, the maximum proportion of input space represented by the training set $\\leq \\frac{m}{2^n}$, which is even smaller. \n",
    "\n",
    "\n",
    "### Explaining choosing the lower bound and upper bound of m\n",
    "The Binary Algorithm is a faster method to look for C(A), than iterating increasing values of m. But since the algorithm looks for solution in a pre-defined range, it is important to ensure that the solution lies within this domain. These lower bound and upper bound of n are based on the trends observed on sample complexity for n={1,...,10}. The trend helps us to give a rough prediction on where C(A) could exist for n up to 100 by extrapolation. \n",
    "\n",
    "\n",
    "### Computational time of sample complexity estimation\n",
    "Suppose we want to estimate the sample complexity up to n_max, take average of 10 test errors, and repeat this binary search for 10 runs, the total computational cost = $\\sum_{n=1}^{n_max} B(n) \\times 10$.  \n",
    "\n",
    "$B(n)$ is the computational cost of running binary search with averaged test errors across 10 trials. \n",
    "\n",
    "Let the range of m considered in the binary search be R, $R = m_{left} - m_{right}$. R is dependent on n and function choice, let R = O(M(n)). \n",
    "\n",
    "For clarity, we first consider the computation cost per run, when both n and m are fixed. The maximum number of times we apply the function estimate_generalization_error is $O(log_2(M))$. Let the computational time of the chosen training algorithm to be $f_{train}(m,n)$, test algorithm to be $f_{test}(m,n)$. For a fix number of m, we train and test the algorithm for 10 trials to find the average test error. \n",
    "\n",
    "So the cost to estimate the generalization error for fixed m with 10 trials = $(f_{train}(m,n) + f_{test}(n)) \\times 10 $\n",
    "\n",
    "Since $R \\sim O(M(n))$, and the number of m where the generalization error is computed = $O(log(M(n)))$\n",
    "\n",
    "$B(n) \\sim O \\Big(log(M(n)) (f_{train}(M(n),n) + f_{test}(n)) \\Big)$\n",
    "\n",
    "\n",
    "Overall, the total computational time of estimating sample complexity for $n \\in [n_{max}]$ is $Comp(n_{max})$:\n",
    "\n",
    "$ Comp(n_{max})$ =  num_runs $\\times \\sum_{n=1}^{n_{max}} B(n) $\n",
    "\n",
    "$\\Rightarrow Comp(n_{max}) \\sim O\\Big(n_{max}B(n_{max}) \\Big)$\n",
    "\n",
    "\n",
    "\n",
    "#### Perceptron\n",
    "$M(n) \\sim  O(n)$\n",
    "\n",
    "$f_{train}(m,n) \\sim O(mn) \\sim O(n^2)$\n",
    "\n",
    "$f_{test}(n) \\sim O(n \\times T) \\sim O(n) $ \n",
    "\n",
    "$B(n)  \\sim O(log(n)) \\times (O(n^2) +  O(n)) \\sim O(n^2log(n))$\n",
    "\n",
    "$\\Rightarrow Comp(n_{max}) \\sim O\\Big(n_{max}B(n_{max}) \\Big) \\sim O\\Big(n_{max}^3 log(n_{max})) \\Big)$ \n",
    "\n",
    "\n",
    "\n",
    "#### Winnow\n",
    "$M(n) \\sim  O(n)$\n",
    "\n",
    "Similarly as Perceptron, the computational cost is bounded below by: \n",
    "\n",
    "$\\Rightarrow Comp(n_{max}) \\sim O\\Big(n_{max}B(n_{max}) \\Big) \\sim O\\Big(n_{max}^3 log(n_{max})) \\Big)$ \n",
    "\n",
    "In practice, Winnow runs slightly slower than Perceptron as it involves more vector multiplication. \n",
    "\n",
    "\n",
    "\n",
    "#### Linear Regression\n",
    "$M(n) \\sim  O(n)$\n",
    "\n",
    "$f_{train}(m,n) \\sim O(mn^2 + n^3) \\sim O(n^3)$\n",
    "\n",
    "$f_{test}(n) \\sim O(n \\times T) \\sim O(n) $ \n",
    "\n",
    "$B(n)  \\sim O(log(n)) \\times (O(n^3) +  O(n)) \\sim O(n^3log(n))$\n",
    "\n",
    "$\\Rightarrow Comp(n_{max}) \\sim O\\Big(n_{max}B(n_{max}) \\Big) \\sim O\\Big(n_{max}^4 log(n_{max})) \\Big)$ \n",
    "\n",
    "\n",
    "\n",
    "#### 1-NN\n",
    "According to our current bounding on sample complexity, $M(n) \\sim  O(n^3)$. \n",
    "\n",
    "1-NN involves calculation of pairwise distances between training and test data, hence the cost of applying it once:\n",
    "\n",
    "$f(m,n) \\sim O(mn\\times T) \\sim O(mn) \\sim O(n^4)$\n",
    "\n",
    "$B(n) \\sim O(n^4 log(n^3)) $\n",
    "\n",
    "$\\Rightarrow Comp(n_{max}) \\sim O\\Big(n_{max}B(n_{max}) \\Big) \\sim O\\Big(n_{max}^5 log(n_{max}^3)) \\Big)$ \n",
    "\n",
    "Note that 1NN is the most costly algorithm to estimate sample complexity for. "
   ]
  },
  {
   "cell_type": "markdown",
   "metadata": {},
   "source": [
    "## Q1 c) Estimate m(n)"
   ]
  },
  {
   "cell_type": "code",
   "execution_count": null,
   "metadata": {
    "collapsed": true
   },
   "outputs": [],
   "source": [
    "#Still need to add O, and Omega. "
   ]
  },
  {
   "cell_type": "code",
   "execution_count": 176,
   "metadata": {
    "collapsed": true
   },
   "outputs": [],
   "source": [
    "def fitting(sample_complexity, step_size,n_max,fitting_type='linear',function_type='Perceptron'):\n",
    "    x_domain = np.arange(1,n_max,step_size)\n",
    "    means = np.mean(sample_complexity, axis=1)\n",
    "    means_crop = means[means>0]\n",
    "    \n",
    "    if fitting_type=='linear':\n",
    "        m,b = polyfit(x_domain,means_crop,1)\n",
    "        fit =  [b + m*x  for x in x_domain]\n",
    "        print('estimated ϴ(m(n))=',round(b,2),'+ ',round(m,2),'n')\n",
    "    \n",
    "    elif fitting_type=='exponential':\n",
    "        m,b = polyfit(x_domain,np.log(means_crop),1)\n",
    "        fit =  [np.exp(b + m*x)  for x in x_domain]\n",
    "        print('estimated ϴ(m(n))=',round(np.exp(b),2),'exp(',round(m,2),'n)')\n",
    "      \n",
    "    elif fitting_type=='log':\n",
    "        m,b = polyfit(np.log(x_domain),means_crop,1)\n",
    "        fit = [b + m*np.log(x)  for x in np.arange(1,100,step_size)]\n",
    "        print('estimated ϴ(m(n))=',round(b,2),'+',round(m,2),'log(n)')\n",
    "        \n",
    "    plt.plot(x_domain,fit,color='r',label='fitted')\n",
    "    plt.plot(x_domain,means_crop,color='b',label='actual')\n",
    "    plt.title('Sample Complexity with ' + fitting_type +' fitting for '+ function_type)\n",
    "    plt.ylabel('sample complexity')\n",
    "    plt.xlabel('n')\n",
    "    plt.show()"
   ]
  },
  {
   "cell_type": "markdown",
   "metadata": {},
   "source": [
    "### Perceptron"
   ]
  },
  {
   "cell_type": "code",
   "execution_count": 177,
   "metadata": {},
   "outputs": [
    {
     "name": "stdout",
     "output_type": "stream",
     "text": [
      "estimated ϴ(m(n))= 5.79 +  5.84 n\n"
     ]
    },
    {
     "data": {
      "image/png": "[encoded data removed]",
      "text/plain": [
       "<Figure size 432x288 with 1 Axes>"
      ]
     },
     "metadata": {
      "needs_background": "light"
     },
     "output_type": "display_data"
    }
   ],
   "source": [
    "fitting(sample_complexity_perceptron, 5,100,fitting_type='linear')"
   ]
  },
  {
   "cell_type": "markdown",
   "metadata": {},
   "source": [
    "### Winnow"
   ]
  },
  {
   "cell_type": "code",
   "execution_count": 178,
   "metadata": {},
   "outputs": [
    {
     "name": "stdout",
     "output_type": "stream",
     "text": [
      "estimated ϴ(m(n))= -5.15 + 8.78 log(n)\n"
     ]
    },
    {
     "data": {
      "image/png": "[encoded data removed]",
      "text/plain": [
       "<Figure size 432x288 with 1 Axes>"
      ]
     },
     "metadata": {
      "needs_background": "light"
     },
     "output_type": "display_data"
    }
   ],
   "source": [
    "fitting(sample_complexity_winnow, 5,100,fitting_type='log',function_type='Winnow')"
   ]
  },
  {
   "cell_type": "markdown",
   "metadata": {},
   "source": [
    "### Linear"
   ]
  },
  {
   "cell_type": "code",
   "execution_count": 179,
   "metadata": {},
   "outputs": [
    {
     "name": "stdout",
     "output_type": "stream",
     "text": [
      "estimated ϴ(m(n))= 1.25 +  0.62 n\n"
     ]
    },
    {
     "data": {
      "image/png": "[encoded data removed]",
      "text/plain": [
       "<Figure size 432x288 with 1 Axes>"
      ]
     },
     "metadata": {
      "needs_background": "light"
     },
     "output_type": "display_data"
    }
   ],
   "source": [
    "fitting(sample_complexity_linear, 5,100,fitting_type='linear',function_type='Linear')"
   ]
  },
  {
   "cell_type": "markdown",
   "metadata": {},
   "source": [
    "### 1NN"
   ]
  },
  {
   "cell_type": "code",
   "execution_count": 180,
   "metadata": {},
   "outputs": [
    {
     "name": "stdout",
     "output_type": "stream",
     "text": [
      "estimated ϴ(m(n))= 5.49 exp( 0.08 n)\n"
     ]
    },
    {
     "data": {
      "image/png": "[encoded data removed]",
      "text/plain": [
       "<Figure size 432x288 with 1 Axes>"
      ]
     },
     "metadata": {
      "needs_background": "light"
     },
     "output_type": "display_data"
    }
   ],
   "source": [
    "fitting(sample_complexity_1nn, 5,100,fitting_type='exponential',function_type='1NN')"
   ]
  },
  {
   "cell_type": "markdown",
   "metadata": {
    "collapsed": true
   },
   "source": [
    "## Discussion - explaining the observations"
   ]
  },
  {
   "cell_type": "markdown",
   "metadata": {
    "collapsed": true
   },
   "source": [
    "### Perceptron vs. Winnow\n",
    "\n",
    "The sample complexity graphs indicate that Winnow is generally more accurate with larger number of irrelevant agents than Perceptron. This observation is consistent with the mistake bounds of online learning. \n",
    "\n",
    "Suppose there are k relevant agents, or literals, $k<<n$. \n",
    "\n",
    "Perceptron mistake bound = $(4k+1)(n+1) \\sim O(kn)$\n",
    "\n",
    "Winnow mistake bound = $3k(log(n)+1)+2 \\sim O(klog(n))$\n",
    "\n",
    "The upper bound of error rate for both algorithms  = $\\frac{M}{m}$, where M is the mistake bound. \n",
    "\n",
    "This means that given fixed n, and that both Perceptron and Winnow are aiming for the same error rate $\\epsilon$, Winnow requires less samples. More specifically, in order for the maximum error rate of either algorithm to be $< \\epsilon \\in (0,1)$: \n",
    "\n",
    "Perceptron: $m \\geq \\frac{(4k+1)(n+1)}{\\epsilon} \\sim \\Omega(n)$\n",
    "\n",
    "Winnow: $m \\geq \\frac{3k(log(n)+1)+2}{\\epsilon} \\sim \\Omega(log(n))$\n",
    "\n"
   ]
  },
  {
   "cell_type": "markdown",
   "metadata": {
    "collapsed": true
   },
   "source": [
    "### Perceptron vs. Least Square\n",
    "\n",
    "Given training set S, linear regression is directly derived by minimizing the empirical risk $\\epsilon_{emp}(S,\\omega)$ of the entire training dataset. Since the first agent, $x_0$ is always consistent with the label, the primal form of linear regression directly computes the optimal weight vector, where all the entires are close to zero except for the first one. The same weight will generalize well on the test data, because the test data is also sampled with its first agent consistent to label. \n",
    "\n",
    "On the other hand, Perceptron learns one example at a time by gradient descent with learning rate =1. This means that at each update, it could only increase the weight for the first agent by 1 at maximum. Also, since the learning rate is fixed at 1, Perceptron algorithm might 'overshoot'. \n",
    "\n",
    "Therefore, given the same $m$, linear regression achieves a smaller test error than perceptron in this particular case. \n",
    "\n"
   ]
  },
  {
   "cell_type": "markdown",
   "metadata": {},
   "source": [
    "### 1NN vs. all Linear Classifiers\n",
    "\n",
    "Note that VC dimension of 1-Nearest-Neighbors is infinity, hence PAC cannot be applied to bound its sample complexity.\n",
    "\n",
    "Unlike linear classifiers, 1NN predicts with the closest data point instead of finding a seperating hyperplane. It will not be able to identify the strongest predictors such as $x_0$, without any training process. As n increases, due to the curse of dimensionality, the euclidean distances from test point to its nearest point increases exponentially(?), and so the predictive power of nearest point will decay. It follows that $m$ have to grow exponentially keep a consistent accuracy. "
   ]
  },
  {
   "cell_type": "markdown",
   "metadata": {},
   "source": [
    "### Discussing Error Decomposition (not sure at all)\n",
    "Given an Empirical Risk Minimizer, $h_{S} = ERM_{H}(S)$, the risk of $h_{S}$ can be decomposed the following way: \n",
    "\n",
    "$L_D(h_S) = \\epsilon_{app} + \\epsilon_{est}$\n",
    "\n",
    "Perceptron, Winnow and Least Square have around the same complexity, as the VC dimension of their Hypothesis Space are n+1. Hence $\\epsilon_{app}$ for three algorithms are expected to be similar. As n increases,$\\epsilon_{app}$ increases. Is it similar to Bayes Error? \n",
    "\n",
    "1NN has very high complexity. In fact, the approximation error should be 0, because there exist a way to shatter all data points in $D$. "
   ]
  },
  {
   "cell_type": "markdown",
   "metadata": {},
   "source": [
    "# 1d) Upper bound of mistake probability for Perceptrons\n"
   ]
  },
  {
   "cell_type": "markdown",
   "metadata": {},
   "source": [
    "\n",
    "The upper bound of total number of mistakes made by perceptron during training on any set of input = \n",
    "$M \\leq (\\frac{R}{\\gamma})^2$\n",
    "\n",
    "Let $S_m$ be a set of m training examples sampled independently from D. let t be drawn uniformly from {1,...,m}, where $P(t=t') = \\frac{1}{m}$. \n",
    "\n",
    "Let $S_t \\in S_m$ be the subset that consist of the first $t$ training examples that A has reviewed. \n",
    "\n",
    "The upper bound applies to the total number of mistakes made during training on $S_t$, $ \\forall t \\in [m]: M(t) \\leq (\\frac{R}{\\gamma})^2$\n",
    "\n",
    "Let $P(A_S(x_{t+1}) \\neq y_{t+1})$ be the probability of mistake at the $(t+1) ^{th}$ trial, after the perceptron has been trained on $S_t$. Since $(x_{t+1},y_{t+1})$ is randomly sampled from D, therefore probability of making a mistake on the next trial, $P(A_S(x_{t+1}) \\neq y_{t+1})$ is assumed to have the same upper bound $\\forall t \\in [m-1]$.\n",
    "\n",
    "Hence using total proability and the upper bound of mistakes:\n",
    "\n",
    "$\\sum_{t'=0}^{m-1} P(A_S(x_{t'+1})!=y_{t'+1}) P(t=t') \\leq (\\frac{R}{\\gamma})^2 $\n",
    "\n",
    "Using the fact that the probability of misclassifying the next trial has the same upper bound and $P(t=t')=\\frac{1}{m},$ $\\forall t'\\in [m]$\n",
    "\n",
    "$P(A_S(x)!=y) \\leq \\frac{(\\frac{R}{\\gamma})^2}{m}$\n",
    "\n",
    "In 'just a little bit' problem, we know that the maximum norm of $x$ from D is $\\sqrt{n}$, giving $R = max(\\parallel x \\parallel_2) = \\sqrt{n}$\n",
    "\n",
    "$\\Rightarrow P(A_S(x)!=y) \\leq \\frac{n}{m \\gamma^2}$"
   ]
  },
  {
   "cell_type": "markdown",
   "metadata": {},
   "source": [
    "# 1e)"
   ]
  }
 ],
 "metadata": {
  "anaconda-cloud": {},
  "kernelspec": {
   "display_name": "Python 3",
   "language": "python",
   "name": "python3"
  },
  "language_info": {
   "codemirror_mode": {
    "name": "ipython",
    "version": 3
   },
   "file_extension": ".py",
   "mimetype": "text/x-python",
   "name": "python",
   "nbconvert_exporter": "python",
   "pygments_lexer": "ipython3",
   "version": "3.6.6"
  }
 },
 "nbformat": 4,
 "nbformat_minor": 2
}
