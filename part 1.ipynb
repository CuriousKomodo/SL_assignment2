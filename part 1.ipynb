{
 "cells": [
  {
   "cell_type": "markdown",
   "metadata": {},
   "source": [
    "# Part I: Supervised Learining "
   ]
  },
  {
   "cell_type": "code",
   "execution_count": 1,
   "metadata": {},
   "outputs": [],
   "source": [
    "import os\n",
    "import time\n",
    "import numpy as np\n",
    "import matplotlib.pyplot as plt \n",
    "import scipy\n",
    "import scipy.io as spio\n",
    "import pandas as pd\n",
    "from sklearn.model_selection import KFold\n",
    "from sklearn.model_selection import train_test_split\n",
    "import math\n",
    "import urllib\n",
    "from urllib.request import urlopen\n",
    "%matplotlib inline\n",
    "import urllib.request"
   ]
  },
  {
   "cell_type": "code",
   "execution_count": 2,
   "metadata": {},
   "outputs": [],
   "source": [
    "#Extract data as an array from the url\n",
    "# link = \"http://www0.cs.ucl.ac.uk/staff/M.Herbster/SL/misc/zipcombo.dat\"\n",
    "filename = 'zipcombo.dat'\n",
    "training_filename = 'dtrain123.dat'\n",
    "test_filename = 'dtest123.dat'\n",
    "# urllib.request.urlretrieve(link, filename)\n",
    "data = np.loadtxt(filename)     # read numpy array from file\n",
    "# data = np.loadtxt(training_filename)     # read numpy array from file"
   ]
  },
  {
   "cell_type": "markdown",
   "metadata": {},
   "source": [
    "## Multiclass Perceptron with Polynomial Kernel"
   ]
  },
  {
   "cell_type": "code",
   "execution_count": 3,
   "metadata": {},
   "outputs": [],
   "source": [
    "y = data[:,0]\n",
    "x = data[:,1:]"
   ]
  },
  {
   "cell_type": "code",
   "execution_count": 4,
   "metadata": {},
   "outputs": [],
   "source": [
    "#Not sure if I should include bias before computing the Kernel? \n",
    "def add_bias(x):\n",
    "    x_with_bias = np.ones((x.shape[0],x.shape[1]+1))\n",
    "    x_with_bias[:,:-1] = x\n",
    "    return x_with_bias\n",
    "\n",
    "#Discuss the use of the this kernel. i.e. talk about non-linear seperability. \n",
    "def Polynomial_Kernel(x1,x2,d):\n",
    "    K = (x1 @ x2.T)**d\n",
    "    return K\n",
    "\n",
    "def transform_y(y):\n",
    "    #classes_num = len(y.unique())\n",
    "    #assuming that training set has all the numbers between min(y) and max(y)\n",
    "    classes_num = 10\n",
    "    m = len(y)\n",
    "    y_matrix = np.ones((m,classes_num))*(-1)\n",
    "    for i in range(m):\n",
    "        y_matrix[i,int(y[i])] = 1\n",
    "    return y_matrix\n",
    "\n",
    "def pairwise_distance_single(X): # distances of X training data, single X matrix\n",
    "    m =X.shape[0]\n",
    "    n = X.shape[1]\n",
    "    G = np.matmul(X,X.T)\n",
    "    DG = np.diag(G).reshape(G.shape[0],1)\n",
    "    distances_sq = np.matmul(DG,np.ones((G.shape[0],1)).T)+ np.matmul(np.ones((G.shape[1],1)),DG.T)-2.0*G\n",
    "    return distances_sq\n",
    "\n",
    "def pairwise_distance_double(X1,X2): # distances of X training data, double matrices, X1 and X2\n",
    "    X1_pow = (X1**2).sum(axis=1).reshape(X1.shape[0],1) #sum the rows, size m1 array\n",
    "    X2_pow = (X2**2).sum(axis=1).reshape(X2.shape[0],1) #sum the rows, size m2 array\n",
    "    G = np.matmul(X1,X2.T)\n",
    "    m1,m2 =G.shape[0],G.shape[1] \n",
    "    distances_sq = np.matmul(X1_pow,np.ones((m2,1)).T)+ np.matmul(np.ones((m1,1)),X2_pow.T)-2.0*G\n",
    "    return distances_sq\n",
    "\n",
    "def Gaussian_Kernel(distances_sq,c=1):\n",
    "    K = np.exp(-c*distances_sq)\n",
    "    return K"
   ]
  },
  {
   "cell_type": "code",
   "execution_count": 5,
   "metadata": {},
   "outputs": [],
   "source": [
    "def calculate_kernel_single(x, d, kernel_choice):\n",
    "    if kernel_choice=='Polynomial':\n",
    "        K_train = Polynomial_Kernel(x,x,d)\n",
    "#         print(\"Constructed a Polynomial kernel for training\")\n",
    "    elif kernel_choice=='Gaussian':\n",
    "        pairwise_distances = pairwise_distance_single(x)\n",
    "        K_train = Gaussian_Kernel(pairwise_distances,c=d)\n",
    "#         print(\"Constructed a Gaussian kernel for training\")\n",
    "    else:\n",
    "        raise Exception(\"Unsupported value for kernel. Supported values: Polynomial, Gaussian\")\n",
    "    return K_train\n",
    "\n",
    "def calculate_kernel_double(x1, x2, d, kernel_choice):\n",
    "    if kernel_choice=='Polynomial':\n",
    "        K_train = Polynomial_Kernel(x1,x2,d)\n",
    "#         print(\"Constructed a Polynomial kernel for testing\")\n",
    "    elif kernel_choice=='Gaussian':\n",
    "        pairwise_distances = pairwise_distance_double(x1, x2)\n",
    "        K_train = Gaussian_Kernel(pairwise_distances,c=d)\n",
    "#         print(\"Constructed a Gaussian kernel for testing\")\n",
    "    else:\n",
    "        raise Exception(\"Unsupported value for kernel. Supported values: Polynomial, Gaussian\")\n",
    "    return K_train\n",
    "\n",
    "def perceptron_epoch(x, y, y_arr, alpha, K_train):\n",
    "    m = x.shape[0] #number of examples\n",
    "    errors = np.zeros(m)\n",
    "    num_errors = 0 #This should be bounded..? Maybe calculate the bound in the explanation\n",
    "\n",
    "    for t in range(m):\n",
    "        #find our training set\n",
    "        x_t = x[t,:] #of size (1,n)\n",
    "        y_t = y[t]\n",
    "        y_arr_t = y_arr[t,:] #of size (1,10) \n",
    "\n",
    "        #pred_t computes \\sum^{t-1}_{i=0} {(alpha_i K(x_t, x_i))}, which is regarded as the confidence in each class\n",
    "        pred_t = (alpha[:,:].T @K_train[t,:]).T\n",
    "        y_hat_t = np.where(pred_t==max(pred_t),1,0) #map the confidence to arrays of 1 and 0 for class\n",
    "\n",
    "        if pred_t.argmax()!=y_t:\n",
    "            #update the alpha, and weights, for all the classes that not the true class\n",
    "            num_errors +=1\n",
    "\n",
    "            #since we only want to update the weights related to first t-1 training data.\n",
    "            #note that alpha_t is np.zeros(10,1), \n",
    "            #and alpha_t is updated according to the real class, and the misclassified class.\n",
    "            #this version is not updated with alpha_prev\n",
    "\n",
    "            alpha_t = alpha[t,:] + np.where(y_arr_t> 0,1,0) + np.where(y_hat_t>0,-1,0) #(1,10)\n",
    "\n",
    "            #store alpha_t into the matrix for future reference\n",
    "            alpha[t,:] = alpha_t\n",
    "\n",
    "            #sandwich K(x_t, x_i) for i in [1,t-1] in a zeros array of size(m). \n",
    "            #reason being weight for one class is of size(m), but we only 'have enough data' to update the first t-1 terms.  \n",
    "            K_update = np.zeros((1,m))\n",
    "            K_update[:,:t] = K_train[t,:t] \n",
    "\n",
    "        errors[t] = num_errors\n",
    "    return alpha, errors\n",
    "\n",
    "#One vs. rest: train k classifiers to identify k classes\n",
    "def perceptron_train(x,y,d=2,kernel_choice='Polynomial', convergence_threshold=0.01):\n",
    "    m = x.shape[0] #number of examples\n",
    "    n = x.shape[1] #number of features\n",
    "    classes_num = 10 #number of classes \n",
    "     \n",
    "    error_per_epoch = []\n",
    "    y_arr = transform_y(y) \n",
    "    alpha = np.zeros((m,classes_num)) #Need to store alpha array at all iteration, as we need it to compute confidence\n",
    "    \n",
    "    K_train = calculate_kernel_single(x, d, kernel_choice)    \n",
    "    epochs = 0\n",
    "    while True:\n",
    "        alpha, errors = perceptron_epoch(x, y, y_arr, alpha, K_train)\n",
    "        \n",
    "        error_rate_current = error_per_epoch[-1] / x.shape[0] if epochs > 0 else 0\n",
    "        error_rate_next = errors[-1] / x.shape[0]\n",
    "\n",
    "        error_per_epoch.append(errors[-1])\n",
    "        if epochs > 0 and (error_rate_next > error_rate_current or \\\n",
    "            error_rate_current - error_rate_next < convergence_threshold):\n",
    "#             print(\"Stopping after \", epochs+1,\" epochs: error_next: \", error_rate_next,\", current: \", error_rate_current)\n",
    "            break\n",
    "            \n",
    "        epochs += 1\n",
    "\n",
    "    return alpha, error_per_epoch"
   ]
  },
  {
   "cell_type": "code",
   "execution_count": 6,
   "metadata": {},
   "outputs": [],
   "source": [
    "#Test this function, see if it is working properly\n",
    "alpha, error_per_epoch = perceptron_train(x,y,d=2)"
   ]
  },
  {
   "cell_type": "code",
   "execution_count": 7,
   "metadata": {},
   "outputs": [
    {
     "name": "stdout",
     "output_type": "stream",
     "text": [
      "err is  0.021294902129490215\n"
     ]
    },
    {
     "data": {
      "text/plain": [
       "[863.0, 378.0, 236.0, 198.0]"
      ]
     },
     "execution_count": 7,
     "metadata": {},
     "output_type": "execute_result"
    }
   ],
   "source": [
    "#Plot number of misclassfication versus the number of training sets reviewed. \n",
    "ratio = np.asarray(error_per_epoch)/x.shape[0]\n",
    "err = error_per_epoch[-1]/x.shape[0]\n",
    "print(\"err is \", err)\n",
    "error_per_epoch"
   ]
  },
  {
   "cell_type": "code",
   "execution_count": 8,
   "metadata": {},
   "outputs": [
    {
     "data": {
      "text/plain": [
       "Text(0.5, 1.0, 'Proportion of misclassified data points out of data points reviewed')"
      ]
     },
     "execution_count": 8,
     "metadata": {},
     "output_type": "execute_result"
    },
    {
     "data": {
      "image/png": "[encoded data removed]",
      "text/plain": [
       "<Figure size 432x288 with 1 Axes>"
      ]
     },
     "metadata": {
      "needs_background": "light"
     },
     "output_type": "display_data"
    }
   ],
   "source": [
    "plt.plot(ratio)\n",
    "plt.ylabel('Proportion of misclassfication')\n",
    "plt.xlabel('Number of data points reviewed')\n",
    "plt.title('Proportion of misclassified data points out of data points reviewed')"
   ]
  },
  {
   "cell_type": "markdown",
   "metadata": {},
   "source": [
    "# Q1 - Basic Results"
   ]
  },
  {
   "cell_type": "code",
   "execution_count": 9,
   "metadata": {},
   "outputs": [],
   "source": [
    "from sklearn.model_selection import KFold\n",
    "from sklearn.model_selection import train_test_split\n",
    "import pandas as pd\n",
    "\n",
    "def allocate_training_test_sets(data,r =1/5):\n",
    "    X= data[:,1:]\n",
    "    y= data[:,0]\n",
    "    X_train, X_test, y_train, y_test = train_test_split(X, y, test_size=r)\n",
    "    return X_train, X_test, y_train, y_test"
   ]
  },
  {
   "cell_type": "code",
   "execution_count": 10,
   "metadata": {},
   "outputs": [],
   "source": [
    "def perceptron_test(x_test,x_train,y_test, alphas, d, kernel_choice='Polynomial'):\n",
    "    K_test = calculate_kernel_double(x_train, x_test, d, kernel_choice)\n",
    "    \n",
    "    confidence = (alphas.T @ K_test).T\n",
    "    preds = np.zeros(confidence.shape)\n",
    "    mistakes = 0\n",
    "    for i in range(len(y_test)):\n",
    "        y_hat = confidence[i].argmax()\n",
    "        preds[i,y_hat] = 1\n",
    "        if y_hat != y_test[i]:\n",
    "            mistakes += 1\n",
    "    return mistakes, preds, confidence"
   ]
  },
  {
   "cell_type": "code",
   "execution_count": 11,
   "metadata": {},
   "outputs": [
    {
     "name": "stdout",
     "output_type": "stream",
     "text": [
      "Number of mistakes:  100 , sample size:  1860\n",
      "Ratio mistakes/size:  0.053763440860215055\n"
     ]
    }
   ],
   "source": [
    "# CLEANUP in the end, This is just for testing, CLEANUP\n",
    "X_train, X_test, y_train, y_test = allocate_training_test_sets(data,r =1/5)\n",
    "alphas, train_errors = perceptron_train(X_train,y_train, 3)\n",
    "mistakes,_,_ = perceptron_test(X_test, X_train, y_test, alphas, 3)\n",
    "    \n",
    "print(\"Number of mistakes: \", mistakes, \", sample size: \", len(y_test))\n",
    "print(\"Ratio mistakes/size: \", mistakes/len(y_test))"
   ]
  },
  {
   "cell_type": "code",
   "execution_count": 12,
   "metadata": {},
   "outputs": [
    {
     "name": "stdout",
     "output_type": "stream",
     "text": [
      "Now doing run  20 / 20  for d= 7 .........\r"
     ]
    }
   ],
   "source": [
    "def basic_results(d_arr, kernel_choice, runs):\n",
    "    training_set_errors = np.zeros((len(d_arr),runs))\n",
    "    test_set_errors = np.zeros((len(d_arr),runs))\n",
    "    for d in d_arr:\n",
    "        for i in range(runs):\n",
    "            print(\"Now doing run \", i+1, \"/\", runs, \" for d=\", d,\".........\", end='\\r')\n",
    "            X_train, X_test, y_train, y_test = allocate_training_test_sets(data, r=1/5)\n",
    "            alphas,_ = perceptron_train(X_train,y_train, d, kernel_choice=kernel_choice)\n",
    "\n",
    "            train_errors,_,_ = perceptron_test(X_train, X_train, y_train, alphas,d, kernel_choice=kernel_choice)\n",
    "            test_errors,_,_ = perceptron_test(X_test,X_train, y_test,alphas,d, kernel_choice=kernel_choice)\n",
    "\n",
    "            training_set_errors[d-1, i] = train_errors / len(y_train)\n",
    "            test_set_errors[d-1, i] = test_errors / len(y_test)\n",
    "    return training_set_errors, test_set_errors\n",
    "            \n",
    "d_arr = np.arange(1,8)\n",
    "runs = 20\n",
    "training_set_errors, test_set_errors = basic_results(d_arr, 'Polynomial', runs)"
   ]
  },
  {
   "cell_type": "code",
   "execution_count": 13,
   "metadata": {},
   "outputs": [
    {
     "data": {
      "text/html": [
       "<div>\n",
       "<style scoped>\n",
       "    .dataframe tbody tr th:only-of-type {\n",
       "        vertical-align: middle;\n",
       "    }\n",
       "\n",
       "    .dataframe tbody tr th {\n",
       "        vertical-align: top;\n",
       "    }\n",
       "\n",
       "    .dataframe thead th {\n",
       "        text-align: right;\n",
       "    }\n",
       "</style>\n",
       "<table border=\"1\" class=\"dataframe\">\n",
       "  <thead>\n",
       "    <tr style=\"text-align: right;\">\n",
       "      <th></th>\n",
       "      <th>Training set error rate</th>\n",
       "      <th>Test set error rate</th>\n",
       "    </tr>\n",
       "  </thead>\n",
       "  <tbody>\n",
       "    <tr>\n",
       "      <th>1</th>\n",
       "      <td>0.0810 +- 0.0167</td>\n",
       "      <td>0.0975 +- 0.0172</td>\n",
       "    </tr>\n",
       "    <tr>\n",
       "      <th>2</th>\n",
       "      <td>0.0156 +- 0.0071</td>\n",
       "      <td>0.0462 +- 0.0098</td>\n",
       "    </tr>\n",
       "    <tr>\n",
       "      <th>3</th>\n",
       "      <td>0.0076 +- 0.0042</td>\n",
       "      <td>0.0402 +- 0.0051</td>\n",
       "    </tr>\n",
       "    <tr>\n",
       "      <th>4</th>\n",
       "      <td>0.0044 +- 0.0023</td>\n",
       "      <td>0.0356 +- 0.0063</td>\n",
       "    </tr>\n",
       "    <tr>\n",
       "      <th>5</th>\n",
       "      <td>0.0031 +- 0.0015</td>\n",
       "      <td>0.0340 +- 0.0043</td>\n",
       "    </tr>\n",
       "    <tr>\n",
       "      <th>6</th>\n",
       "      <td>0.0022 +- 0.0010</td>\n",
       "      <td>0.0324 +- 0.0049</td>\n",
       "    </tr>\n",
       "    <tr>\n",
       "      <th>7</th>\n",
       "      <td>0.0024 +- 0.0021</td>\n",
       "      <td>0.0358 +- 0.0046</td>\n",
       "    </tr>\n",
       "  </tbody>\n",
       "</table>\n",
       "</div>"
      ],
      "text/plain": [
       "  Training set error rate Test set error rate\n",
       "1        0.0810 +- 0.0167    0.0975 +- 0.0172\n",
       "2        0.0156 +- 0.0071    0.0462 +- 0.0098\n",
       "3        0.0076 +- 0.0042    0.0402 +- 0.0051\n",
       "4        0.0044 +- 0.0023    0.0356 +- 0.0063\n",
       "5        0.0031 +- 0.0015    0.0340 +- 0.0043\n",
       "6        0.0022 +- 0.0010    0.0324 +- 0.0049\n",
       "7        0.0024 +- 0.0021    0.0358 +- 0.0046"
      ]
     },
     "execution_count": 13,
     "metadata": {},
     "output_type": "execute_result"
    }
   ],
   "source": [
    "def construct_dataframe_error_rates(training_set_errors, test_set_errors):\n",
    "    means_std = []\n",
    "    for d in d_arr:\n",
    "        data_t = []\n",
    "        data_t.append(\"{0:.4f} +- {1:.4f}\".format(training_set_errors[d-1].mean(), \\\n",
    "                                                np.std(training_set_errors[d-1])))\n",
    "        data_t.append(\"{0:.4f} +- {1:.4f}\".format(test_set_errors[d-1].mean(), \\\n",
    "                                                np.std(test_set_errors[d-1])))\n",
    "        means_std.append(data_t)\n",
    "    return means_std\n",
    "    \n",
    "means_std = construct_dataframe_error_rates(training_set_errors, test_set_errors)\n",
    "df = pd.DataFrame(data=means_std, index=d_arr, columns=['Training set error rate', 'Test set error rate'])\n",
    "df"
   ]
  },
  {
   "cell_type": "markdown",
   "metadata": {},
   "source": [
    "# Q2 - Cross Validation"
   ]
  },
  {
   "cell_type": "markdown",
   "metadata": {},
   "source": [
    "Having already allocated x_train, now perform cross validation on x_train"
   ]
  },
  {
   "cell_type": "code",
   "execution_count": 14,
   "metadata": {},
   "outputs": [],
   "source": [
    "def cross_validation(X, y, kernel_choice, d, k):\n",
    "    kf = KFold(n_splits=k, shuffle=True)\n",
    "    MSE_cv_arr = np.zeros(k)\n",
    "    i = 0\n",
    "    for train_index, cv_index in kf.split(X):\n",
    "        # Spit the matrix using the indices gained by the CV method and construct X and Y arrays\n",
    "        X_train = X[train_index]\n",
    "        X_cv = X[cv_index]\n",
    "        y_train = y[train_index]\n",
    "        y_cv = y[cv_index]\n",
    "    \n",
    "        # We are only interested in the alphas and not the MSE on the training set\n",
    "        alphas, errors = perceptron_train(X_train, y_train, d, kernel_choice = kernel_choice)\n",
    "        mistakes,_,_ = perceptron_test(X_cv, X_train, y_cv, alphas, d, kernel_choice = kernel_choice)\n",
    "        MSE_cv_arr[i] = mistakes / len(y_cv)\n",
    "        i += 1\n",
    "        \n",
    "    return MSE_cv_arr.mean(), np.std(MSE_cv_arr)"
   ]
  },
  {
   "cell_type": "code",
   "execution_count": 15,
   "metadata": {},
   "outputs": [
    {
     "name": "stdout",
     "output_type": "stream",
     "text": [
      "WARNING: Change the number of runs to 20!!!\n",
      "WARNING: Change the number of runs to 20!!!\n",
      "WARNING: Change the number of runs to 20!!!\n",
      "WARNING: Change the number of runs to 20!!!\n",
      "WARNING: Change the number of runs to 20!!!\n",
      "WARNING: Change the number of runs to 20!!!\n",
      "WARNING: Change the number of runs to 20!!!\n",
      "WARNING: Change the number of runs to 20!!!\n",
      "WARNING: Change the number of runs to 20!!!\n",
      "WARNING: Change the number of runs to 20!!!\n",
      "WARNING: Change the number of runs to 20!!!\n",
      "WARNING: Change the number of runs to 20!!!\n",
      "WARNING: Change the number of runs to 20!!!\n",
      "WARNING: Change the number of runs to 20!!!\n",
      "WARNING: Change the number of runs to 20!!!\n",
      "WARNING: Change the number of runs to 20!!!\n",
      "WARNING: Change the number of runs to 20!!!\n",
      "WARNING: Change the number of runs to 20!!!\n",
      "WARNING: Change the number of runs to 20!!!\n",
      "WARNING: Change the number of runs to 20!!!\n",
      "Now doing run  20 / 20  for d= 7 .........\r"
     ]
    }
   ],
   "source": [
    "def cv_process(d_arr, runs, kernel_choice, calculate_confusions):\n",
    "    d_stars = np.zeros(runs)\n",
    "    test_errors = np.zeros(runs)\n",
    "    confusions = []\n",
    "    mistakes_per_run = np.zeros(x.shape[0])\n",
    "\n",
    "    for j in range(runs):\n",
    "        confusion = np.zeros((10, 10))\n",
    "\n",
    "        print(\"WARNING: Change the number of runs to 20!!!\")\n",
    "        # In each run we will iterate through the d array and use all possible values of d\n",
    "\n",
    "        # Allocate 80/20 percent for training and test set\n",
    "        X_train, X_test, y_train, y_test = allocate_training_test_sets(data, r=1/5)\n",
    "\n",
    "        CV_means = np.zeros(len(d_arr))\n",
    "        for i in range(len(d_arr)):\n",
    "            print(\"Now doing run \", j+1, \"/\", runs, \" for d=\", d_arr[i], \".........\", end='\\r')\n",
    "            MSE_CV_mean, _ = cross_validation(X_train, y_train, kernel_choice, d_arr[i], k=5)\n",
    "            CV_means[i] = MSE_CV_mean\n",
    "\n",
    "        # Train in whole 80% now with d_star\n",
    "        d_stars[j] = CV_means.argmin()\n",
    "        alphas, errors = perceptron_train(X_train, y_train, d_stars[j], kernel_choice = kernel_choice)\n",
    "\n",
    "        mistakes,_,_ = perceptron_test(X_test, X_train, y_test, alphas, d_stars[j], kernel_choice = kernel_choice)\n",
    "        test_errors[j] = mistakes / len(y_test)\n",
    "        \n",
    "        if calculate_confusions:\n",
    "            # Test in all the data set, so that we know which ones\n",
    "            # are the \"toughest\" to predict in the whole data set. We can't really just do it on \n",
    "            # either the training or test set, as it is randomly split so order will not be pertained.\n",
    "            _, preds_all, confidences = perceptron_test(x, X_train, y, alphas, d_stars[j], kernel_choice = kernel_choice)\n",
    "            for i in range(x.shape[0]):\n",
    "                pred_label = preds_all[i].argmax()\n",
    "                if pred_label != y[i]:\n",
    "                    confusion[int(y[i]), pred_label] += 1\n",
    "                    mistakes_per_run[i] += 1\n",
    "\n",
    "            confusions.append(confusion)\n",
    "    return d_stars, test_errors, confusions, mistakes_per_run\n",
    "    \n",
    "runs = 20\n",
    "d_stars, test_errors, confusions, mistakes_per_run = cv_process(d_arr, runs, 'Polynomial', True)"
   ]
  },
  {
   "cell_type": "code",
   "execution_count": 16,
   "metadata": {},
   "outputs": [
    {
     "name": "stdout",
     "output_type": "stream",
     "text": [
      "Mean d*:  5.1  with std:  0.8306623862918076\n",
      "Mean test error:  0.034435483870967745  with std:  0.005160940288309699\n"
     ]
    }
   ],
   "source": [
    "print(\"Mean d*: \", d_stars.mean(), \" with std: \", np.std(d_stars))\n",
    "print(\"Mean test error: \", test_errors.mean(), \" with std: \", np.std(test_errors))"
   ]
  },
  {
   "cell_type": "markdown",
   "metadata": {},
   "source": [
    "# Q3 - Confusion Matrix"
   ]
  },
  {
   "cell_type": "code",
   "execution_count": 17,
   "metadata": {},
   "outputs": [
    {
     "data": {
      "text/html": [
       "<div>\n",
       "<style scoped>\n",
       "    .dataframe tbody tr th:only-of-type {\n",
       "        vertical-align: middle;\n",
       "    }\n",
       "\n",
       "    .dataframe tbody tr th {\n",
       "        vertical-align: top;\n",
       "    }\n",
       "\n",
       "    .dataframe thead th {\n",
       "        text-align: right;\n",
       "    }\n",
       "</style>\n",
       "<table border=\"1\" class=\"dataframe\">\n",
       "  <thead>\n",
       "    <tr style=\"text-align: right;\">\n",
       "      <th></th>\n",
       "      <th>0</th>\n",
       "      <th>1</th>\n",
       "      <th>2</th>\n",
       "      <th>3</th>\n",
       "      <th>4</th>\n",
       "      <th>5</th>\n",
       "      <th>6</th>\n",
       "      <th>7</th>\n",
       "      <th>8</th>\n",
       "      <th>9</th>\n",
       "    </tr>\n",
       "  </thead>\n",
       "  <tbody>\n",
       "    <tr>\n",
       "      <th>0</th>\n",
       "      <td>0.00 +- 0.00</td>\n",
       "      <td>0.10 +- 0.30</td>\n",
       "      <td>1.25 +- 1.13</td>\n",
       "      <td>0.65 +- 0.91</td>\n",
       "      <td>0.30 +- 0.46</td>\n",
       "      <td>1.05 +- 0.80</td>\n",
       "      <td>1.65 +- 1.74</td>\n",
       "      <td>0.10 +- 0.30</td>\n",
       "      <td>0.35 +- 0.57</td>\n",
       "      <td>0.25 +- 0.43</td>\n",
       "    </tr>\n",
       "    <tr>\n",
       "      <th>1</th>\n",
       "      <td>0.00 +- 0.00</td>\n",
       "      <td>0.00 +- 0.00</td>\n",
       "      <td>0.30 +- 0.46</td>\n",
       "      <td>0.20 +- 0.51</td>\n",
       "      <td>0.70 +- 1.10</td>\n",
       "      <td>0.05 +- 0.22</td>\n",
       "      <td>0.55 +- 0.80</td>\n",
       "      <td>0.50 +- 0.81</td>\n",
       "      <td>0.45 +- 0.67</td>\n",
       "      <td>0.50 +- 0.92</td>\n",
       "    </tr>\n",
       "    <tr>\n",
       "      <th>2</th>\n",
       "      <td>1.20 +- 1.40</td>\n",
       "      <td>0.35 +- 0.57</td>\n",
       "      <td>0.00 +- 0.00</td>\n",
       "      <td>2.10 +- 1.26</td>\n",
       "      <td>2.20 +- 2.50</td>\n",
       "      <td>0.45 +- 0.86</td>\n",
       "      <td>0.25 +- 0.43</td>\n",
       "      <td>1.85 +- 1.35</td>\n",
       "      <td>0.90 +- 1.41</td>\n",
       "      <td>0.00 +- 0.00</td>\n",
       "    </tr>\n",
       "    <tr>\n",
       "      <th>3</th>\n",
       "      <td>0.40 +- 0.73</td>\n",
       "      <td>0.00 +- 0.00</td>\n",
       "      <td>1.50 +- 1.32</td>\n",
       "      <td>0.00 +- 0.00</td>\n",
       "      <td>0.15 +- 0.36</td>\n",
       "      <td>5.00 +- 5.18</td>\n",
       "      <td>0.05 +- 0.22</td>\n",
       "      <td>0.80 +- 0.98</td>\n",
       "      <td>2.50 +- 2.46</td>\n",
       "      <td>0.35 +- 0.48</td>\n",
       "    </tr>\n",
       "    <tr>\n",
       "      <th>4</th>\n",
       "      <td>0.20 +- 0.51</td>\n",
       "      <td>3.60 +- 1.28</td>\n",
       "      <td>1.60 +- 2.20</td>\n",
       "      <td>0.35 +- 0.57</td>\n",
       "      <td>0.00 +- 0.00</td>\n",
       "      <td>0.40 +- 0.73</td>\n",
       "      <td>1.60 +- 1.74</td>\n",
       "      <td>0.70 +- 0.84</td>\n",
       "      <td>0.20 +- 0.51</td>\n",
       "      <td>3.05 +- 2.99</td>\n",
       "    </tr>\n",
       "    <tr>\n",
       "      <th>5</th>\n",
       "      <td>1.55 +- 1.12</td>\n",
       "      <td>0.15 +- 0.36</td>\n",
       "      <td>0.70 +- 0.90</td>\n",
       "      <td>2.75 +- 2.70</td>\n",
       "      <td>0.75 +- 1.09</td>\n",
       "      <td>0.00 +- 0.00</td>\n",
       "      <td>2.00 +- 2.00</td>\n",
       "      <td>0.50 +- 0.50</td>\n",
       "      <td>1.30 +- 1.38</td>\n",
       "      <td>0.50 +- 0.74</td>\n",
       "    </tr>\n",
       "    <tr>\n",
       "      <th>6</th>\n",
       "      <td>1.75 +- 1.58</td>\n",
       "      <td>0.75 +- 0.83</td>\n",
       "      <td>0.80 +- 1.08</td>\n",
       "      <td>0.00 +- 0.00</td>\n",
       "      <td>0.95 +- 1.02</td>\n",
       "      <td>0.90 +- 0.77</td>\n",
       "      <td>0.00 +- 0.00</td>\n",
       "      <td>0.00 +- 0.00</td>\n",
       "      <td>0.70 +- 0.78</td>\n",
       "      <td>0.05 +- 0.22</td>\n",
       "    </tr>\n",
       "    <tr>\n",
       "      <th>7</th>\n",
       "      <td>0.05 +- 0.22</td>\n",
       "      <td>0.90 +- 1.79</td>\n",
       "      <td>0.65 +- 1.35</td>\n",
       "      <td>0.30 +- 0.56</td>\n",
       "      <td>1.15 +- 1.11</td>\n",
       "      <td>0.40 +- 1.11</td>\n",
       "      <td>0.00 +- 0.00</td>\n",
       "      <td>0.00 +- 0.00</td>\n",
       "      <td>1.05 +- 0.97</td>\n",
       "      <td>4.75 +- 9.16</td>\n",
       "    </tr>\n",
       "    <tr>\n",
       "      <th>8</th>\n",
       "      <td>1.00 +- 0.95</td>\n",
       "      <td>0.95 +- 1.47</td>\n",
       "      <td>1.80 +- 1.83</td>\n",
       "      <td>2.25 +- 2.32</td>\n",
       "      <td>1.05 +- 1.02</td>\n",
       "      <td>2.10 +- 1.89</td>\n",
       "      <td>0.90 +- 1.14</td>\n",
       "      <td>0.90 +- 1.87</td>\n",
       "      <td>0.00 +- 0.00</td>\n",
       "      <td>1.15 +- 1.28</td>\n",
       "    </tr>\n",
       "    <tr>\n",
       "      <th>9</th>\n",
       "      <td>0.30 +- 0.56</td>\n",
       "      <td>0.55 +- 1.24</td>\n",
       "      <td>0.35 +- 0.48</td>\n",
       "      <td>0.45 +- 0.74</td>\n",
       "      <td>3.60 +- 4.51</td>\n",
       "      <td>0.50 +- 0.74</td>\n",
       "      <td>0.00 +- 0.00</td>\n",
       "      <td>3.85 +- 4.45</td>\n",
       "      <td>0.40 +- 0.80</td>\n",
       "      <td>0.00 +- 0.00</td>\n",
       "    </tr>\n",
       "  </tbody>\n",
       "</table>\n",
       "</div>"
      ],
      "text/plain": [
       "              0             1             2             3             4  \\\n",
       "0  0.00 +- 0.00  0.10 +- 0.30  1.25 +- 1.13  0.65 +- 0.91  0.30 +- 0.46   \n",
       "1  0.00 +- 0.00  0.00 +- 0.00  0.30 +- 0.46  0.20 +- 0.51  0.70 +- 1.10   \n",
       "2  1.20 +- 1.40  0.35 +- 0.57  0.00 +- 0.00  2.10 +- 1.26  2.20 +- 2.50   \n",
       "3  0.40 +- 0.73  0.00 +- 0.00  1.50 +- 1.32  0.00 +- 0.00  0.15 +- 0.36   \n",
       "4  0.20 +- 0.51  3.60 +- 1.28  1.60 +- 2.20  0.35 +- 0.57  0.00 +- 0.00   \n",
       "5  1.55 +- 1.12  0.15 +- 0.36  0.70 +- 0.90  2.75 +- 2.70  0.75 +- 1.09   \n",
       "6  1.75 +- 1.58  0.75 +- 0.83  0.80 +- 1.08  0.00 +- 0.00  0.95 +- 1.02   \n",
       "7  0.05 +- 0.22  0.90 +- 1.79  0.65 +- 1.35  0.30 +- 0.56  1.15 +- 1.11   \n",
       "8  1.00 +- 0.95  0.95 +- 1.47  1.80 +- 1.83  2.25 +- 2.32  1.05 +- 1.02   \n",
       "9  0.30 +- 0.56  0.55 +- 1.24  0.35 +- 0.48  0.45 +- 0.74  3.60 +- 4.51   \n",
       "\n",
       "              5             6             7             8             9  \n",
       "0  1.05 +- 0.80  1.65 +- 1.74  0.10 +- 0.30  0.35 +- 0.57  0.25 +- 0.43  \n",
       "1  0.05 +- 0.22  0.55 +- 0.80  0.50 +- 0.81  0.45 +- 0.67  0.50 +- 0.92  \n",
       "2  0.45 +- 0.86  0.25 +- 0.43  1.85 +- 1.35  0.90 +- 1.41  0.00 +- 0.00  \n",
       "3  5.00 +- 5.18  0.05 +- 0.22  0.80 +- 0.98  2.50 +- 2.46  0.35 +- 0.48  \n",
       "4  0.40 +- 0.73  1.60 +- 1.74  0.70 +- 0.84  0.20 +- 0.51  3.05 +- 2.99  \n",
       "5  0.00 +- 0.00  2.00 +- 2.00  0.50 +- 0.50  1.30 +- 1.38  0.50 +- 0.74  \n",
       "6  0.90 +- 0.77  0.00 +- 0.00  0.00 +- 0.00  0.70 +- 0.78  0.05 +- 0.22  \n",
       "7  0.40 +- 1.11  0.00 +- 0.00  0.00 +- 0.00  1.05 +- 0.97  4.75 +- 9.16  \n",
       "8  2.10 +- 1.89  0.90 +- 1.14  0.90 +- 1.87  0.00 +- 0.00  1.15 +- 1.28  \n",
       "9  0.50 +- 0.74  0.00 +- 0.00  3.85 +- 4.45  0.40 +- 0.80  0.00 +- 0.00  "
      ]
     },
     "execution_count": 17,
     "metadata": {},
     "output_type": "execute_result"
    }
   ],
   "source": [
    "#Might need to use pandas for it\n",
    "confusions_matrix = []\n",
    "for i in range(10):\n",
    "    confusions_i = []\n",
    "    for j in range(10):\n",
    "        confusions_ij = np.asarray([confusions[r][i,j] for r in range(runs)])\n",
    "        confusions_i.append(\"{0:.2f} +- {1:.2f}\".format(confusions_ij.mean(), np.std(confusions_ij)))\n",
    "    confusions_matrix.append(confusions_i)\n",
    "    \n",
    "df = pd.DataFrame(data=confusions_matrix)\n",
    "df"
   ]
  },
  {
   "cell_type": "markdown",
   "metadata": {},
   "source": [
    "# Q4 - Hardest numbers to predict"
   ]
  },
  {
   "cell_type": "code",
   "execution_count": 32,
   "metadata": {},
   "outputs": [
    {
     "data": {
      "image/png": "[encoded data removed]",
      "text/plain": [
       "<Figure size 2160x2160 with 10 Axes>"
      ]
     },
     "metadata": {
      "needs_background": "light"
     },
     "output_type": "display_data"
    }
   ],
   "source": [
    "# We only have to show 5, but let's show 10 for the purposes of seeingthat indeed the first 5 are the worst\n",
    "# WARNING: RE-RUN THIS BIT, these images are incorrect!\n",
    "indices = np.flip(np.argsort(mistakes_per_run))[:10]\n",
    "\n",
    "plt.figure(figsize=(30,30))\n",
    "\n",
    "k = 1\n",
    "for i in indices:\n",
    "    a1 = plt.subplot(1, 10, k)\n",
    "    pixels = np.array(x[i], dtype='uint8')\n",
    "    pixels = pixels.reshape((16, 16))\n",
    "    plt.title(\"Real: {0}\".format(y[i]))\n",
    "    a1.imshow(pixels, cmap='gray')\n",
    "    k+=1"
   ]
  },
  {
   "cell_type": "markdown",
   "metadata": {},
   "source": [
    "# Q5 - Gaussian Kernel"
   ]
  },
  {
   "cell_type": "code",
   "execution_count": 19,
   "metadata": {
    "scrolled": true
   },
   "outputs": [
    {
     "name": "stdout",
     "output_type": "stream",
     "text": [
      "Now doing run  20 / 20  for d= 7 .........\r"
     ]
    },
    {
     "data": {
      "text/html": [
       "<div>\n",
       "<style scoped>\n",
       "    .dataframe tbody tr th:only-of-type {\n",
       "        vertical-align: middle;\n",
       "    }\n",
       "\n",
       "    .dataframe tbody tr th {\n",
       "        vertical-align: top;\n",
       "    }\n",
       "\n",
       "    .dataframe thead th {\n",
       "        text-align: right;\n",
       "    }\n",
       "</style>\n",
       "<table border=\"1\" class=\"dataframe\">\n",
       "  <thead>\n",
       "    <tr style=\"text-align: right;\">\n",
       "      <th></th>\n",
       "      <th>Training set error rate</th>\n",
       "      <th>Test set error rate</th>\n",
       "    </tr>\n",
       "  </thead>\n",
       "  <tbody>\n",
       "    <tr>\n",
       "      <th>1</th>\n",
       "      <td>0.0000 +- 0.0001</td>\n",
       "      <td>0.0606 +- 0.0033</td>\n",
       "    </tr>\n",
       "    <tr>\n",
       "      <th>2</th>\n",
       "      <td>0.0000 +- 0.0000</td>\n",
       "      <td>0.0630 +- 0.0046</td>\n",
       "    </tr>\n",
       "    <tr>\n",
       "      <th>3</th>\n",
       "      <td>0.0000 +- 0.0000</td>\n",
       "      <td>0.0619 +- 0.0059</td>\n",
       "    </tr>\n",
       "    <tr>\n",
       "      <th>4</th>\n",
       "      <td>0.0000 +- 0.0000</td>\n",
       "      <td>0.0600 +- 0.0055</td>\n",
       "    </tr>\n",
       "    <tr>\n",
       "      <th>5</th>\n",
       "      <td>0.0000 +- 0.0000</td>\n",
       "      <td>0.0638 +- 0.0058</td>\n",
       "    </tr>\n",
       "    <tr>\n",
       "      <th>6</th>\n",
       "      <td>0.0000 +- 0.0000</td>\n",
       "      <td>0.0790 +- 0.0049</td>\n",
       "    </tr>\n",
       "    <tr>\n",
       "      <th>7</th>\n",
       "      <td>0.0000 +- 0.0001</td>\n",
       "      <td>0.0969 +- 0.0046</td>\n",
       "    </tr>\n",
       "  </tbody>\n",
       "</table>\n",
       "</div>"
      ],
      "text/plain": [
       "  Training set error rate Test set error rate\n",
       "1        0.0000 +- 0.0001    0.0606 +- 0.0033\n",
       "2        0.0000 +- 0.0000    0.0630 +- 0.0046\n",
       "3        0.0000 +- 0.0000    0.0619 +- 0.0059\n",
       "4        0.0000 +- 0.0000    0.0600 +- 0.0055\n",
       "5        0.0000 +- 0.0000    0.0638 +- 0.0058\n",
       "6        0.0000 +- 0.0000    0.0790 +- 0.0049\n",
       "7        0.0000 +- 0.0001    0.0969 +- 0.0046"
      ]
     },
     "execution_count": 19,
     "metadata": {},
     "output_type": "execute_result"
    }
   ],
   "source": [
    "runs = 20\n",
    "d_arr = np.arange(1,8)\n",
    "\n",
    "training_set_errors, test_set_errors = basic_results(d_arr, 'Gaussian', runs)\n",
    "means_std = construct_dataframe_error_rates(training_set_errors, test_set_errors)\n",
    "df = pd.DataFrame(data=means_std, index=d_arr, columns=['Training set error rate', 'Test set error rate'])\n",
    "df"
   ]
  },
  {
   "cell_type": "code",
   "execution_count": 20,
   "metadata": {},
   "outputs": [
    {
     "name": "stdout",
     "output_type": "stream",
     "text": [
      "WARNING: Change the number of runs to 20!!!\n",
      "WARNING: Change the number of runs to 20!!!\n",
      "WARNING: Change the number of runs to 20!!!\n",
      "WARNING: Change the number of runs to 20!!!\n",
      "WARNING: Change the number of runs to 20!!!\n",
      "WARNING: Change the number of runs to 20!!!\n",
      "WARNING: Change the number of runs to 20!!!\n",
      "WARNING: Change the number of runs to 20!!!\n",
      "WARNING: Change the number of runs to 20!!!\n",
      "WARNING: Change the number of runs to 20!!!\n",
      "WARNING: Change the number of runs to 20!!!\n",
      "WARNING: Change the number of runs to 20!!!\n",
      "WARNING: Change the number of runs to 20!!!\n",
      "WARNING: Change the number of runs to 20!!!\n",
      "WARNING: Change the number of runs to 20!!!\n",
      "WARNING: Change the number of runs to 20!!!\n",
      "WARNING: Change the number of runs to 20!!!\n",
      "WARNING: Change the number of runs to 20!!!\n",
      "WARNING: Change the number of runs to 20!!!\n",
      "WARNING: Change the number of runs to 20!!!\n",
      "Mean d*:  1.05  with std:  1.16081867662439\n",
      "Mean test error:  0.4402956989247312  with std:  0.4217173757449448\n"
     ]
    }
   ],
   "source": [
    "#Cross Validation with Gaussian Kernel, find c_star\n",
    "runs = 20\n",
    "d_stars, test_errors, confusions, mistakes_per_run = cv_process(d_arr, runs, 'Gaussian', False)\n",
    "print(\"Mean d*: \", d_stars.mean(), \" with std: \", np.std(d_stars))\n",
    "print(\"Mean test error: \", test_errors.mean(), \" with std: \", np.std(test_errors))"
   ]
  },
  {
   "cell_type": "markdown",
   "metadata": {},
   "source": [
    "# Q6 - Choose an alternative method to generalise k-classes"
   ]
  },
  {
   "cell_type": "markdown",
   "metadata": {},
   "source": [
    "# Q7 - Choose two more algorithms to compare"
   ]
  },
  {
   "cell_type": "markdown",
   "metadata": {},
   "source": [
    "### Multinomial Logistic Regression "
   ]
  },
  {
   "cell_type": "code",
   "execution_count": 21,
   "metadata": {},
   "outputs": [],
   "source": [
    "#One against rest approach\n",
    "#Problem: What is the hyperparameter to be tuned? C-value: C = 1/lambda, which is the regularization coefficient. \n",
    "#https://stackoverflow.com/questions/21816346/fine-tuning-parameters-in-logistic-regression\n",
    "#http://dataaspirant.com/2017/05/15/implement-multinomial-logistic-regression-python/\n",
    "from sklearn.linear_model import LogisticRegression\n",
    "\n",
    "X_train, X_test, y_train, y_test = allocate_training_test_sets(data,r =1/5)\n",
    "# Train multi-classification model with logistic regression\n",
    "lr = LogisticRegression(C=1,random_state=0, solver='newton-cg',multi_class='multinomial').fit(X_train, y_train)"
   ]
  },
  {
   "cell_type": "code",
   "execution_count": 22,
   "metadata": {},
   "outputs": [
    {
     "name": "stdout",
     "output_type": "stream",
     "text": [
      "Multinomial Logistic regression Train Accuracy ::  0.9909922022048938\n",
      "Multinomial Logistic regression Test Accuracy ::  0.9451612903225807\n"
     ]
    }
   ],
   "source": [
    "from sklearn import metrics\n",
    "#print (\"Logistic regression Train Accuracy :: \", metrics.accuracy_score(y_train, lr.predict(x_train)))\n",
    "#print (\"Logistic regression Test Accuracy :: \", metrics.accuracy_score(y_test, lr.predict(x_test)))\n",
    "print (\"Multinomial Logistic regression Train Accuracy :: \", metrics.accuracy_score(y_train, lr.predict(X_train)))\n",
    "print (\"Multinomial Logistic regression Test Accuracy :: \", metrics.accuracy_score(y_test, lr.predict(X_test)))\n",
    " "
   ]
  },
  {
   "cell_type": "code",
   "execution_count": 23,
   "metadata": {},
   "outputs": [],
   "source": [
    "# Different ideas - LR uses probability theory, it'd be interest to compare with perceptron which is simply geometric. "
   ]
  },
  {
   "cell_type": "markdown",
   "metadata": {},
   "source": [
    "### Support Vector"
   ]
  },
  {
   "cell_type": "code",
   "execution_count": 24,
   "metadata": {},
   "outputs": [],
   "source": [
    "#One against one approach, or One against All approach? "
   ]
  },
  {
   "cell_type": "code",
   "execution_count": 25,
   "metadata": {},
   "outputs": [
    {
     "data": {
      "text/plain": [
       "SVC(C=1.0, cache_size=200, class_weight=None, coef0=0.0,\n",
       "  decision_function_shape='ovr', degree=3, gamma='scale', kernel='rbf',\n",
       "  max_iter=-1, probability=False, random_state=None, shrinking=True,\n",
       "  tol=0.001, verbose=False)"
      ]
     },
     "execution_count": 25,
     "metadata": {},
     "output_type": "execute_result"
    }
   ],
   "source": [
    "#Maybe logistic regression and SVM. \n",
    "from sklearn import svm\n",
    "clf = svm.SVC(gamma='scale')\n",
    "clf.fit(X_train, y_train)  "
   ]
  },
  {
   "cell_type": "code",
   "execution_count": 26,
   "metadata": {},
   "outputs": [
    {
     "name": "stdout",
     "output_type": "stream",
     "text": [
      "SVM Train Accuracy ::  0.9877655283678408\n",
      "SVM Test Accuracy ::  0.9747311827956989\n"
     ]
    }
   ],
   "source": [
    "print (\"SVM Train Accuracy :: \", metrics.accuracy_score(y_train, clf.predict(X_train)))\n",
    "print (\"SVM Test Accuracy :: \", metrics.accuracy_score(y_test, clf.predict(X_test)))"
   ]
  }
 ],
 "metadata": {
  "kernelspec": {
   "display_name": "Python 3",
   "language": "python",
   "name": "python3"
  },
  "language_info": {
   "codemirror_mode": {
    "name": "ipython",
    "version": 3
   },
   "file_extension": ".py",
   "mimetype": "text/x-python",
   "name": "python",
   "nbconvert_exporter": "python",
   "pygments_lexer": "ipython3",
   "version": "3.6.6"
  }
 },
 "nbformat": 4,
 "nbformat_minor": 2
}
