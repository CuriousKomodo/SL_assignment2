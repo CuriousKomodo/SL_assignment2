{
 "cells": [
  {
   "cell_type": "markdown",
   "metadata": {},
   "source": [
    "# Part I: Supervised Learining "
   ]
  },
  {
   "cell_type": "code",
   "execution_count": 13,
   "metadata": {
    "collapsed": true
   },
   "outputs": [],
   "source": [
    "import os\n",
    "import time\n",
    "import numpy as np\n",
    "import matplotlib.pyplot as plt \n",
    "import scipy\n",
    "import scipy.io as spio\n",
    "import pandas as pd\n",
    "from sklearn.model_selection import KFold\n",
    "from sklearn.model_selection import train_test_split\n",
    "import math\n",
    "import urllib\n",
    "from urllib.request import urlopen\n",
    "%matplotlib inline\n",
    "import urllib.request"
   ]
  },
  {
   "cell_type": "code",
   "execution_count": 14,
   "metadata": {
    "collapsed": true
   },
   "outputs": [],
   "source": [
    "#Extract data as an array from the url\n",
    "link = \"http://www0.cs.ucl.ac.uk/staff/M.Herbster/SL/misc/zipcombo.dat\"\n",
    "filename = 'zipcombo.dat'\n",
    "urllib.request.urlretrieve(link, filename)\n",
    "data = np.loadtxt(filename)     # read numpy array from file"
   ]
  },
  {
   "cell_type": "code",
   "execution_count": 16,
   "metadata": {},
   "outputs": [
    {
     "data": {
      "text/plain": [
       "(9298, 257)"
      ]
     },
     "execution_count": 16,
     "metadata": {},
     "output_type": "execute_result"
    }
   ],
   "source": [
    "data.shape"
   ]
  },
  {
   "cell_type": "markdown",
   "metadata": {},
   "source": [
    "## Multiclass Perceptron with Polynomial Kernel"
   ]
  },
  {
   "cell_type": "code",
   "execution_count": 18,
   "metadata": {},
   "outputs": [],
   "source": [
    "y = data[:,0]\n",
    "x = data[:,1:]"
   ]
  },
  {
   "cell_type": "code",
   "execution_count": 186,
   "metadata": {},
   "outputs": [
    {
     "data": {
      "text/plain": [
       "(9298, 257)"
      ]
     },
     "execution_count": 186,
     "metadata": {},
     "output_type": "execute_result"
    }
   ],
   "source": [
    "data.shape"
   ]
  },
  {
   "cell_type": "code",
   "execution_count": 189,
   "metadata": {
    "collapsed": true
   },
   "outputs": [],
   "source": [
    "#Not sure if I should include bias before computing the Kernel? \n",
    "def add_bias(x):\n",
    "    x_with_bias = np.ones((x.shape[0],x.shape[1]+1))\n",
    "    x_with_bias[:,:-1] = x\n",
    "    return x_with_bias\n",
    "\n",
    "def Polynomial_Kernel(x1,x2,d):\n",
    "    K = (x1 @ x2.T)**d\n",
    "    return K\n",
    "\n",
    "def transform_y(y):\n",
    "    #classes_num = len(y.unique())\n",
    "    #assuming that training set has all the numbers between min(y) and max(y)\n",
    "    classes_num = 10\n",
    "    m = len(y)\n",
    "    y_matrix = np.ones((m,classes_num))*(-1)\n",
    "    for i in range(m):\n",
    "        y_matrix[i,int(y[i])] = 1\n",
    "    return y_matrix"
   ]
  },
  {
   "cell_type": "code",
   "execution_count": 229,
   "metadata": {},
   "outputs": [],
   "source": [
    "def perceptron_train(x,y,d=2,kernel_choice='Polynomial'):\n",
    "    m = x.shape[0] #number of examples\n",
    "    n = x.shape[1] #number of features\n",
    "    classes_num = 10 #number of classes \n",
    "    \n",
    "    errors = np.zeros(m)\n",
    "    y_arr = transform_y(y) \n",
    "    alpha = np.zeros((m,classes_num)) #Need to store alpha array at all iteration, as we need it to compute confidence\n",
    "    if kernel_choice=='Polynomial':\n",
    "        K_train = Polynomial_Kernel(x,x,d)\n",
    "    elif kernel_choice=='Gaussian':\n",
    "        pairwise_distances = pairwise_distance_single(x)\n",
    "        K_train = Gaussian_Kernel(pairwise_distances,c=d)\n",
    "    \n",
    "    num_errors = 0 #This should be bounded..? Maybe calculate the bound in the explanation\n",
    "    W = np.zeros((m,classes_num)) #with bias?\n",
    "    \n",
    "    #iterate through training set\n",
    "    for t in range(m):\n",
    "        if t<1:\n",
    "            alpha_prev = np.zeros((1,classes_num)) #when t=0, the previous alpha is set to be 0\n",
    "        else:\n",
    "            alpha_prev = alpha[t-1,:] #\n",
    "        \n",
    "        #find our training set\n",
    "        x_t = x[t,:] #of size (1,n)\n",
    "        y_t = y[t]\n",
    "        y_arr_t = y_arr[t,:] #of size (1,10) \n",
    "        \n",
    "        #pred_t computes \\sum^{t-1}_{i=0} {(alpha_i K(x_t, x_i))}, which is regarded as the confidence in each class\n",
    "        pred_t = ((alpha[:t,:].T @K_train[t,:t]).T) \n",
    "        y_hat_t = np.where(pred_t==max(pred_t),1,0) #map the confidence to arrays of 1 and 0 for class\n",
    "        gamma_t = y_arr_t.T @ pred_t\n",
    "        \n",
    "        if t%2000==0:\n",
    "            \n",
    "            print('t=',t)\n",
    "            print('label=', y_t)\n",
    "            print('alpha_t-1',alpha[:t,:])\n",
    "            print('predicted label=',pred_t.argmax())\n",
    "            print('prediction=',pred_t)\n",
    "            print('gamma_t=',gamma_t)\n",
    "\n",
    "        #if gamma_t < 0.01:\n",
    "        if pred_t.argmax()!=y_t:\n",
    "            #print('misclassification:',gamma_t)\n",
    "            #update the alpha, and weights, for all the classes that not the true class\n",
    "            num_errors +=1\n",
    "            \n",
    "            #since we only want to update the weights related to first t-1 training data.\n",
    "            #note that alpha_t is np.zeros(10,1), \n",
    "            #and alpha_t is updated according to the real class, and the misclassified class.\n",
    "            #this version is not updated with alpha_prev\n",
    "            alpha_t = np.where(y_arr_t> 0,1,0) + np.where(y_hat_t>0,-1,0) #(1,10)\n",
    "            \n",
    "            #store alpha_t into the matrix for future reference\n",
    "            alpha[t,:] = alpha_t\n",
    "            \n",
    "            #sandwich K(x_t, x_i) for i in [1,t-1] in a zeros array of size(m). \n",
    "            #reason being weight for one class is of size(m), but we only 'have enough data' to update the first t-1 terms.  \n",
    "            K_update = np.zeros((1,m))\n",
    "            K_update[:,:t] = K_train[t,:t] \n",
    "            \n",
    "            #Note that W is a weight matrix of size (m, 10)\n",
    "            #K_update.T @alpha_t is the update for weight matrix, for every class and every training set that has been reviewed. \n",
    "            W = W+ K_update.T @(alpha_t.reshape(1,10)) #(1, 10) * (1,m), want (m,10)\n",
    "        else:\n",
    "            W = W #no change\n",
    "            \n",
    "        errors[t] = num_errors         \n",
    "    return W,errors"
   ]
  },
  {
   "cell_type": "code",
   "execution_count": 201,
   "metadata": {},
   "outputs": [
    {
     "name": "stdout",
     "output_type": "stream",
     "text": [
      "t= 0\n",
      "label= 6.0\n",
      "alpha_t-1 []\n",
      "predicted label= 0\n",
      "prediction= [0. 0. 0. 0. 0. 0. 0. 0. 0. 0.]\n",
      "gamma_t= 0.0\n",
      "t= 2000\n",
      "label= 0.0\n",
      "alpha_t-1 [[-1. -1. -1. ... -1. -1. -1.]\n",
      " [ 0.  0.  0. ...  0.  0.  0.]\n",
      " [ 0.  0.  0. ...  0.  0.  0.]\n",
      " ...\n",
      " [ 0.  0.  0. ...  0.  0.  0.]\n",
      " [ 1.  0.  0. ...  0.  0.  0.]\n",
      " [ 0.  0.  0. ...  0.  0.  0.]]\n",
      "predicted label= 0\n",
      "prediction= [ 32420.28259002 -24795.38978156  -8410.95413708  -9540.17036046\n",
      " -11847.12099483  13132.14273948  -6723.1843047    9958.91752387\n",
      " -14456.42987656 -33832.29405674]\n",
      "gamma_t= 118934.76583860214\n",
      "t= 4000\n",
      "label= 0.0\n",
      "alpha_t-1 [[-1. -1. -1. ... -1. -1. -1.]\n",
      " [ 0.  0.  0. ...  0.  0.  0.]\n",
      " [ 0.  0.  0. ...  0.  0.  0.]\n",
      " ...\n",
      " [ 0.  0.  0. ...  0.  0.  0.]\n",
      " [ 0.  0.  0. ...  0.  0.  0.]\n",
      " [ 0.  0.  0. ...  0.  0.  0.]]\n",
      "predicted label= 0\n",
      "prediction= [ 76731.16826604 -29541.74583634  -6451.54190592 -39090.19006244\n",
      " -30587.75356451   2051.75521891 -45920.22043097 -12020.30113739\n",
      "    516.91317352 -48432.94860693]\n",
      "gamma_t= 286207.2014180918\n",
      "t= 6000\n",
      "label= 5.0\n",
      "alpha_t-1 [[-1. -1. -1. ... -1. -1. -1.]\n",
      " [ 0.  0.  0. ...  0.  0.  0.]\n",
      " [ 0.  0.  0. ...  0.  0.  0.]\n",
      " ...\n",
      " [ 0.  0.  0. ...  0.  0.  0.]\n",
      " [ 0.  0.  0. ...  0.  0.  0.]\n",
      " [ 0.  0.  0. ...  0.  0.  0.]]\n",
      "predicted label= 5\n",
      "prediction= [   115.16195182 -32507.27245866 -26440.2964159  -16105.68164166\n",
      "  -8037.43187628  36706.31461586   3907.38238773 -19139.83783361\n",
      " -51559.23693637 -20961.10850612]\n",
      "gamma_t= 207434.63594489754\n",
      "t= 8000\n",
      "label= 9.0\n",
      "alpha_t-1 [[-1. -1. -1. ... -1. -1. -1.]\n",
      " [ 0.  0.  0. ...  0.  0.  0.]\n",
      " [ 0.  0.  0. ...  0.  0.  0.]\n",
      " ...\n",
      " [ 0.  0.  0. ... -1.  1.  0.]\n",
      " [ 0.  0.  0. ...  0.  0.  0.]\n",
      " [ 0.  0.  0. ...  0.  0.  0.]]\n",
      "predicted label= 9\n",
      "prediction= [-23460.46654911 -23470.03511499 -19686.47150894 -20954.84406358\n",
      "  19617.36094221 -13019.6091504  -25505.26159235  -3645.47577457\n",
      "  -4652.75990591  25588.30082437]\n",
      "gamma_t= 140365.86354201174\n"
     ]
    }
   ],
   "source": [
    "#Test this function, see if it is working properly\n",
    "W,errors = perceptron_train(x,y,d=2)"
   ]
  },
  {
   "cell_type": "code",
   "execution_count": 197,
   "metadata": {},
   "outputs": [],
   "source": [
    "#Plot number of misclassfication versus the number of training sets reviewed. \n",
    "ratio = errors/np.arange(1,x.shape[0]+1)"
   ]
  },
  {
   "cell_type": "code",
   "execution_count": 198,
   "metadata": {},
   "outputs": [
    {
     "data": {
      "text/plain": [
       "Text(0.5, 1.0, 'Proportion of misclassified data points out of data points reviewed')"
      ]
     },
     "execution_count": 198,
     "metadata": {},
     "output_type": "execute_result"
    },
    {
     "data": {
      "image/png": "[encoded data removed]",
      "text/plain": [
       "<Figure size 432x288 with 1 Axes>"
      ]
     },
     "metadata": {
      "needs_background": "light"
     },
     "output_type": "display_data"
    }
   ],
   "source": [
    "plt.plot(ratio)\n",
    "plt.ylabel('Proportion of misclassfication')\n",
    "plt.xlabel('Number of data points reviewed')\n",
    "plt.title('Proportion of misclassified data points out of data points reviewed')"
   ]
  },
  {
   "cell_type": "markdown",
   "metadata": {},
   "source": [
    "# Q1 - Basic Results"
   ]
  },
  {
   "cell_type": "code",
   "execution_count": 206,
   "metadata": {
    "collapsed": true
   },
   "outputs": [],
   "source": [
    "from sklearn.model_selection import KFold\n",
    "from sklearn.model_selection import train_test_split\n",
    "import pandas as pd\n",
    "\n",
    "def allocate_training_test_sets(data,r =1/5):\n",
    "    X= data[:,0:-1]\n",
    "    y= data[:,-1]\n",
    "    X_train, X_test, y_train, y_test = train_test_split(X, y, test_size=r)\n",
    "    return X_train, X_test, y_train, y_test"
   ]
  },
  {
   "cell_type": "code",
   "execution_count": 207,
   "metadata": {
    "collapsed": true
   },
   "outputs": [],
   "source": [
    "## To be filled in\n",
    "def perceptron_test(x_test,x_train,y_test,W,d):\n",
    "    m = x_test.shape[0] #number of examples\n",
    "    n = x_test.shape[1] #number of features\n",
    "    classes_num = 10 #number of classes \n",
    "    \n",
    "    ### need to find out how this thing is tested. "
   ]
  },
  {
   "cell_type": "code",
   "execution_count": null,
   "metadata": {},
   "outputs": [],
   "source": [
    "d_arr = np.arange(1,8)\n",
    "for d in d_arr:\n",
    "    for i in range(20):\n",
    "        X_train, X_test, y_train, y_test = allocate_training_test_sets(data,r =1/5)\n",
    "        W,train_errors = perceptron_train(X_train,y_train,d)\n",
    "        test_error = perceptron_test(X_test,X_train, y_test,W,d)"
   ]
  },
  {
   "cell_type": "markdown",
   "metadata": {},
   "source": [
    "# Q2 - Cross Validation"
   ]
  },
  {
   "cell_type": "markdown",
   "metadata": {},
   "source": [
    "Having already allocated x_train, now perform cross validation on x_train"
   ]
  },
  {
   "cell_type": "code",
   "execution_count": 204,
   "metadata": {
    "collapsed": true
   },
   "outputs": [],
   "source": [
    "def cross_validation(matrix,d_values,k=5):\n",
    "    #np.random.shuffle(matrix)\n",
    "    kf = KFold(n_splits=k)\n",
    "    MSE_cv_arr = np.zeros(k)\n",
    "    \n",
    "    for train_index, cv_index in kf.split(matrix):\n",
    "        # Spit the matrix using the indices gained by the CV method and construct X and Y arrays\n",
    "        matrix_train, matrix_cv = matrix[train_index], matrix[cv_index]\n",
    "\n",
    "        X_train = matrix_train[:,0:-1]\n",
    "        X_cv = matrix_cv[:,0:-1]\n",
    "        y_train = matrix_train[:,-1] \n",
    "        y_cv = matrix_cv[:,-1]\n",
    "\n",
    "        # We are only interested in the alphas and not the MSE on the training set\n",
    "        W,errors = perceptron_train(X_train, y_train, d)\n",
    "        MSE_cv = perceptron_test(X_cv,X_train,y_cv,W,d)\n",
    "        MSE_cv_arr[i] = MSE_cv\n",
    "        i += 1\n",
    "        \n",
    "        return MSE_cv_arr.mean(), (MSE_cv_arr.var())**(1/2)"
   ]
  },
  {
   "cell_type": "code",
   "execution_count": null,
   "metadata": {
    "collapsed": true
   },
   "outputs": [],
   "source": [
    "MSE_CV_means = np.zeros((len(d_values),20))\n",
    "MSE_CV_stds = np.zeros((len(d_values),20))\n",
    "#np.random.shuffle(matrix)\n",
    "\n",
    "for i in range(len(d_values)):\n",
    "    for j in range(20):\n",
    "        MSE_CV_mean, MSE_CV_std = cross_validation(data,d_values[i],k=5)\n",
    "        MSE_CV_means [i,j] = MSE_CV_mean\n",
    "        MSE_CV_stds [i,j] = MSE_CV_std        "
   ]
  },
  {
   "cell_type": "code",
   "execution_count": null,
   "metadata": {
    "collapsed": true
   },
   "outputs": [],
   "source": [
    "#Then this step you select the best performing d values, d_star.\n",
    "#for example, the one with the lowest average mean, and average standard deviation. "
   ]
  },
  {
   "cell_type": "markdown",
   "metadata": {},
   "source": [
    "# Q3 - Confusion Matrix"
   ]
  },
  {
   "cell_type": "code",
   "execution_count": null,
   "metadata": {
    "collapsed": true
   },
   "outputs": [],
   "source": [
    "#Might need to use pandas for it"
   ]
  },
  {
   "cell_type": "code",
   "execution_count": null,
   "metadata": {
    "collapsed": true
   },
   "outputs": [],
   "source": []
  },
  {
   "cell_type": "markdown",
   "metadata": {},
   "source": [
    "# Q4 - Hardest numbers to predict"
   ]
  },
  {
   "cell_type": "code",
   "execution_count": null,
   "metadata": {
    "collapsed": true
   },
   "outputs": [],
   "source": []
  },
  {
   "cell_type": "markdown",
   "metadata": {},
   "source": [
    "# Q5 - Gaussian Kernel"
   ]
  },
  {
   "cell_type": "code",
   "execution_count": 230,
   "metadata": {
    "collapsed": true
   },
   "outputs": [],
   "source": [
    "def pairwise_distance_single(X): # distances of X training data, single X matrix\n",
    "    m =X.shape[0]\n",
    "    n = X.shape[1]\n",
    "    G = np.matmul(X,X.T)\n",
    "    DG = np.diag(G).reshape(G.shape[0],1)\n",
    "    distances_sq = np.matmul(DG,np.ones((G.shape[0],1)).T)+ np.matmul(np.ones((G.shape[1],1)),DG.T)-2.0*G\n",
    "    return distances_sq\n",
    "\n",
    "def pairwise_distance_double(X1,X2): # distances of X training data, double matrices, X1 and X2\n",
    "    X1_pow = (X1**2).sum(axis=1).reshape(X1.shape[0],1) #sum the rows, size m1 array\n",
    "    X2_pow = (X2**2).sum(axis=1).reshape(X2.shape[0],1) #sum the rows, size m2 array\n",
    "    G = np.matmul(X1,X2.T)\n",
    "    m1,m2 =G.shape[0],G.shape[1] \n",
    "    distances_sq = np.matmul(X1_pow,np.ones((m2,1)).T)+ np.matmul(np.ones((m1,1)),X2_pow.T)-2.0*G\n",
    "    return distances_sq\n",
    "\n",
    "def Gaussian_Kernel(distances_sq,c=1):\n",
    "    K = np.exp(-c*distances_sq)\n",
    "    return K"
   ]
  },
  {
   "cell_type": "code",
   "execution_count": 226,
   "metadata": {},
   "outputs": [
    {
     "name": "stdout",
     "output_type": "stream",
     "text": [
      "t= 0\n",
      "label= 6.0\n",
      "alpha_t-1 []\n",
      "predicted label= 0\n",
      "prediction= [0. 0. 0. 0. 0. 0. 0. 0. 0. 0.]\n",
      "gamma_t= 0.0\n",
      "t= 2000\n",
      "label= 0.0\n",
      "alpha_t-1 [[-1. -1. -1. ... -1. -1. -1.]\n",
      " [ 0.  0.  0. ...  0.  0.  0.]\n",
      " [ 0.  0.  0. ...  0.  0.  0.]\n",
      " ...\n",
      " [ 0.  0.  0. ...  0.  0.  0.]\n",
      " [ 0.  0.  0. ...  0.  0.  0.]\n",
      " [ 0.  0.  0. ...  0.  0.  0.]]\n",
      "predicted label= 0\n",
      "prediction= [ 2.65827827e-31 -1.31022204e-48  2.84360679e-37 -1.50853874e-34\n",
      " -1.66918465e-40  3.59497565e-43  1.87382962e-38 -1.16290401e-42\n",
      " -2.65677277e-31  4.96633451e-46]\n",
      "gamma_t= 5.3165565497897784e-31\n",
      "t= 4000\n",
      "label= 0.0\n",
      "alpha_t-1 [[-1. -1. -1. ... -1. -1. -1.]\n",
      " [ 0.  0.  0. ...  0.  0.  0.]\n",
      " [ 0.  0.  0. ...  0.  0.  0.]\n",
      " ...\n",
      " [ 0.  0.  0. ...  0.  0.  0.]\n",
      " [ 0.  0.  0. ...  0.  0.  0.]\n",
      " [ 0.  0.  0. ...  0.  0.  0.]]\n",
      "predicted label= 0\n",
      "prediction= [ 2.80539063e-22 -8.70231539e-39 -1.10615619e-38 -9.78799230e-39\n",
      " -1.18839710e-37 -8.80437045e-39 -3.84603424e-27 -8.70231487e-39\n",
      " -2.80535207e-22 -9.61730222e-30]\n",
      "gamma_t= 5.610781251168945e-22\n",
      "t= 6000\n",
      "label= 5.0\n",
      "alpha_t-1 [[-1. -1. -1. ... -1. -1. -1.]\n",
      " [ 0.  0.  0. ...  0.  0.  0.]\n",
      " [ 0.  0.  0. ...  0.  0.  0.]\n",
      " ...\n",
      " [ 0.  0.  0. ...  0.  0.  0.]\n",
      " [ 0.  0.  0. ...  0.  0.  0.]\n",
      " [ 0.  0.  0. ...  0.  0.  0.]]\n",
      "predicted label= 4\n",
      "prediction= [ 7.93505224e-22 -2.18949255e-27 -1.81669205e-28 -1.20267712e-23\n",
      "  6.44049138e-21  1.20595579e-23 -7.93537203e-22 -3.43081891e-26\n",
      " -6.15003386e-29 -6.44045545e-21]\n",
      "gamma_t= 2.4119115763665528e-23\n",
      "t= 8000\n",
      "label= 9.0\n",
      "alpha_t-1 [[-1. -1. -1. ... -1. -1. -1.]\n",
      " [ 0.  0.  0. ...  0.  0.  0.]\n",
      " [ 0.  0.  0. ...  0.  0.  0.]\n",
      " ...\n",
      " [ 0.  0.  0. ...  0.  0.  0.]\n",
      " [ 0.  0.  0. ...  0.  0.  0.]\n",
      " [ 0.  0.  0. ...  0.  0.  0.]]\n",
      "predicted label= 9\n",
      "prediction= [-1.62923249e-24 -8.13872285e-22  3.99794779e-28  9.81063344e-25\n",
      " -1.15322412e-11 -8.77676228e-17  8.77676244e-17 -4.11808303e-07\n",
      "  6.15621972e-17  4.11819836e-07]\n",
      "gamma_t= 8.236396713017316e-07\n"
     ]
    }
   ],
   "source": [
    "#Train with Gaussian Kernel\n",
    "Wt,train_errorst = perceptron_train(x,y,d,kernel_choice='Gaussian')"
   ]
  },
  {
   "cell_type": "code",
   "execution_count": null,
   "metadata": {
    "collapsed": true
   },
   "outputs": [],
   "source": [
    "#Test with Gaussian Kernel\n",
    "d_arr = np.arange(1,8)\n",
    "for d in d_arr:\n",
    "    for i in range(20):\n",
    "        X_train, X_test, y_train, y_test = allocate_training_test_sets(data,r =1/5)\n",
    "        W,train_errors = perceptron_train(X_train,y_train,d,kernel_choice='Gaussian')\n",
    "        test_error = perceptron_test(X_test,X_train, y_test,W,d,kernel_choice='Gaussian')"
   ]
  },
  {
   "cell_type": "code",
   "execution_count": null,
   "metadata": {
    "collapsed": true
   },
   "outputs": [],
   "source": [
    "#Cross Validation with Gaussian Kernel, find c_star\n",
    "d_arr = np.arange(1,8)\n",
    "for d in d_arr:\n",
    "    for i in range(20):\n",
    "        X_train, X_test, y_train, y_test = allocate_training_test_sets(data,r =1/5)\n",
    "        W,train_errors = perceptron_train(X_train,y_train,d)\n",
    "        test_error = perceptron_test(X_test,X_train, y_test,W,d)"
   ]
  },
  {
   "cell_type": "markdown",
   "metadata": {},
   "source": [
    "# Q6 - Choose an alternative method to generalise k-classes"
   ]
  },
  {
   "cell_type": "code",
   "execution_count": null,
   "metadata": {
    "collapsed": true
   },
   "outputs": [],
   "source": []
  },
  {
   "cell_type": "code",
   "execution_count": null,
   "metadata": {
    "collapsed": true
   },
   "outputs": [],
   "source": []
  },
  {
   "cell_type": "markdown",
   "metadata": {},
   "source": [
    "# Q7 - Choose two more algorithms to compare"
   ]
  },
  {
   "cell_type": "code",
   "execution_count": null,
   "metadata": {
    "collapsed": true
   },
   "outputs": [],
   "source": [
    "#Maybe neural network (pytorch) and "
   ]
  },
  {
   "cell_type": "code",
   "execution_count": null,
   "metadata": {
    "collapsed": true
   },
   "outputs": [],
   "source": []
  },
  {
   "cell_type": "code",
   "execution_count": null,
   "metadata": {
    "collapsed": true
   },
   "outputs": [],
   "source": []
  }
 ],
 "metadata": {
  "kernelspec": {
   "display_name": "Python 3",
   "language": "python",
   "name": "python3"
  },
  "language_info": {
   "codemirror_mode": {
    "name": "ipython",
    "version": 3
   },
   "file_extension": ".py",
   "mimetype": "text/x-python",
   "name": "python",
   "nbconvert_exporter": "python",
   "pygments_lexer": "ipython3",
   "version": "3.6.6"
  }
 },
 "nbformat": 4,
 "nbformat_minor": 2
}
