{
 "cells": [
  {
   "cell_type": "markdown",
   "metadata": {},
   "source": [
    "# Part I: Supervised Learining "
   ]
  },
  {
   "cell_type": "code",
   "execution_count": 1,
<<<<<<< HEAD
   "metadata": {
    "collapsed": true
   },
=======
   "metadata": {},
>>>>>>> 19634adc08721e3f75b48ff9e90f89cc77b560a6
   "outputs": [],
   "source": [
    "import os\n",
    "import time\n",
    "import numpy as np\n",
    "import matplotlib.pyplot as plt \n",
    "import scipy\n",
    "import scipy.io as spio\n",
    "import pandas as pd\n",
    "from sklearn.model_selection import KFold\n",
    "from sklearn.model_selection import train_test_split\n",
    "import math\n",
    "import urllib\n",
    "from urllib.request import urlopen\n",
    "%matplotlib inline\n",
    "import urllib.request"
   ]
  },
  {
   "cell_type": "code",
<<<<<<< HEAD
   "execution_count": 105,
   "metadata": {
    "collapsed": true
   },
=======
   "execution_count": 2,
   "metadata": {},
>>>>>>> 19634adc08721e3f75b48ff9e90f89cc77b560a6
   "outputs": [],
   "source": [
    "#Extract data as an array from the url\n",
    "# link = \"http://www0.cs.ucl.ac.uk/staff/M.Herbster/SL/misc/zipcombo.dat\"\n",
    "filename = 'zipcombo.dat'\n",
    "training_filename = 'dtrain123.dat'\n",
    "test_filename = 'dtest123.dat'\n",
    "# urllib.request.urlretrieve(link, filename)\n",
    "data = np.loadtxt(filename)     # read numpy array from file\n",
    "# data = np.loadtxt(training_filename)     # read numpy array from file"
   ]
  },
  {
   "cell_type": "code",
   "execution_count": 3,
   "metadata": {},
   "outputs": [
    {
     "data": {
      "text/plain": [
       "(9298, 257)"
      ]
     },
     "execution_count": 3,
     "metadata": {},
     "output_type": "execute_result"
    }
   ],
   "source": [
    "data.shape"
   ]
  },
  {
   "cell_type": "markdown",
   "metadata": {},
   "source": [
    "## Multiclass Perceptron with Polynomial Kernel"
   ]
  },
  {
   "cell_type": "code",
<<<<<<< HEAD
   "execution_count": 107,
   "metadata": {
    "collapsed": true
   },
=======
   "execution_count": 4,
   "metadata": {},
>>>>>>> 19634adc08721e3f75b48ff9e90f89cc77b560a6
   "outputs": [],
   "source": [
    "y = data[:,0]\n",
    "x = data[:,1:]"
   ]
  },
  {
   "cell_type": "code",
<<<<<<< HEAD
   "execution_count": 108,
   "metadata": {},
   "outputs": [
    {
     "data": {
      "text/plain": [
       "(9298, 257)"
      ]
     },
     "execution_count": 108,
     "metadata": {},
     "output_type": "execute_result"
    }
   ],
   "source": [
    "data.shape"
   ]
  },
  {
   "cell_type": "code",
   "execution_count": 109,
   "metadata": {
    "collapsed": true
   },
=======
   "execution_count": 5,
   "metadata": {},
>>>>>>> 19634adc08721e3f75b48ff9e90f89cc77b560a6
   "outputs": [],
   "source": [
    "#Not sure if I should include bias before computing the Kernel? \n",
    "def add_bias(x):\n",
    "    x_with_bias = np.ones((x.shape[0],x.shape[1]+1))\n",
    "    x_with_bias[:,:-1] = x\n",
    "    return x_with_bias\n",
    "\n",
    "#Discuss the use of the this kernel. i.e. talk about non-linear seperability. \n",
    "def Polynomial_Kernel(x1,x2,d):\n",
    "    K = (x1 @ x2.T)**d\n",
    "    return K\n",
    "\n",
    "def transform_y(y):\n",
    "    #classes_num = len(y.unique())\n",
    "    #assuming that training set has all the numbers between min(y) and max(y)\n",
    "    classes_num = 10\n",
    "    m = len(y)\n",
    "    y_matrix = np.ones((m,classes_num))*(-1)\n",
    "    for i in range(m):\n",
    "        y_matrix[i,int(y[i])] = 1\n",
    "    return y_matrix"
   ]
  },
  {
   "cell_type": "code",
<<<<<<< HEAD
   "execution_count": 156,
   "metadata": {
    "collapsed": true
   },
=======
   "execution_count": 6,
   "metadata": {},
>>>>>>> 19634adc08721e3f75b48ff9e90f89cc77b560a6
   "outputs": [],
   "source": [
    "#One vs. rest: train k classifiers to identify k classes\n",
    "def perceptron_train(x,y,d=2,kernel_choice='Polynomial'):\n",
    "    m = x.shape[0] #number of examples\n",
    "    n = x.shape[1] #number of features\n",
    "    classes_num = 10 #number of classes \n",
    "    \n",
    "    errors = np.zeros(m)\n",
    "    y_arr = transform_y(y) \n",
    "    alpha = np.zeros((m,classes_num)) #Need to store alpha array at all iteration, as we need it to compute confidence\n",
    "    if kernel_choice=='Polynomial':\n",
    "        K_train = Polynomial_Kernel(x,x,d)\n",
    "    elif kernel_choice=='Gaussian':\n",
    "        pairwise_distances = pairwise_distance_single(x)\n",
    "        K_train = Gaussian_Kernel(pairwise_distances,c=d)\n",
    "    \n",
    "    num_errors = 0 #This should be bounded..? Maybe calculate the bound in the explanation\n",
    "    W = np.zeros((m,classes_num)) #with bias?\n",
    "    \n",
    "    #iterate through training set\n",
    "    for t in range(m):\n",
    "        #find our training set\n",
    "        x_t = x[t,:] #of size (1,n)\n",
    "        y_t = y[t]\n",
    "        y_arr_t = y_arr[t,:] #of size (1,10) \n",
    "        \n",
    "        #pred_t computes \\sum^{t-1}_{i=0} {(alpha_i K(x_t, x_i))}, which is regarded as the confidence in each class\n",
    "        pred_t = ((alpha[:t,:].T @K_train[t,:t]).T) \n",
    "        y_hat_t = np.where(pred_t==max(pred_t),1,0) #map the confidence to arrays of 1 and 0 for class\n",
    "        gamma_t = y_arr_t.T @ pred_t\n",
    "        \n",
    "#         if t%2000==0:\n",
    "#             print('t=',t)\n",
    "#             print('label=', y_t)\n",
    "#             print('alpha_t-1',alpha[:t,:])\n",
    "#             print('predicted label=',pred_t.argmax())\n",
    "#             print('prediction=',pred_t)\n",
    "#             print('gamma_t=',gamma_t)\n",
    "\n",
    "        #if gamma_t < 0.01:\n",
    "        if pred_t.argmax()!=y_t:\n",
    "            #print('misclassification:',gamma_t)\n",
    "            #update the alpha, and weights, for all the classes that not the true class\n",
    "            num_errors +=1\n",
    "            \n",
    "            #since we only want to update the weights related to first t-1 training data.\n",
    "            #note that alpha_t is np.zeros(10,1), \n",
    "            #and alpha_t is updated according to the real class, and the misclassified class.\n",
    "            alpha_t = np.where(y_arr_t> 0,1,0) + np.where(y_hat_t>0,-1,0) #(1,10)\n",
    "            \n",
    "            #store alpha_t into the matrix for future reference\n",
    "            alpha[t,:] = alpha_t\n",
    "            \n",
    "            #sandwich K(x_t, x_i) for i in [1,t-1] in a zeros array of size(m). \n",
    "            #reason being weight for one class is of size(m), but we only 'have enough data' to update the first t-1 terms.  \n",
    "            K_update = np.zeros((1,m))\n",
    "            K_update[:,:t] = K_train[t,:t] \n",
    "            \n",
    "            #Note that W is a weight matrix of size (m, 10)\n",
    "            #K_update.T @alpha_t is the update for weight matrix, for every class and every training set that has been reviewed. \n",
    "            W = W + K_update.T @(alpha_t.reshape(1,10)) #(1, 10) * (1,m), want (m,10)\n",
    "        else:\n",
    "            W = W #no change\n",
    "            \n",
    "        errors[t] = num_errors         \n",
    "    return W,alpha, errors"
   ]
  },
  {
   "cell_type": "code",
<<<<<<< HEAD
   "execution_count": 134,
   "metadata": {
    "collapsed": true
   },
=======
   "execution_count": 7,
   "metadata": {},
>>>>>>> 19634adc08721e3f75b48ff9e90f89cc77b560a6
   "outputs": [],
   "source": [
    "#Test this function, see if it is working properly\n",
    "W,alpha, errors = perceptron_train(x,y,d=2)"
   ]
  },
  {
   "cell_type": "code",
<<<<<<< HEAD
   "execution_count": 135,
   "metadata": {
    "collapsed": true
   },
   "outputs": [],
=======
   "execution_count": 8,
   "metadata": {},
   "outputs": [
    {
     "name": "stdout",
     "output_type": "stream",
     "text": [
      "err is  0.09281565928156593\n"
     ]
    }
   ],
>>>>>>> 19634adc08721e3f75b48ff9e90f89cc77b560a6
   "source": [
    "#Plot number of misclassfication versus the number of training sets reviewed. \n",
    "ratio = errors/np.arange(1,x.shape[0]+1)\n",
    "err = errors[-1]/x.shape[0]\n",
    "print(\"err is \", err)"
   ]
  },
  {
   "cell_type": "code",
   "execution_count": 9,
   "metadata": {},
   "outputs": [
    {
     "data": {
      "text/plain": [
       "Text(0.5, 1.0, 'Proportion of misclassified data points out of data points reviewed')"
      ]
     },
     "execution_count": 9,
     "metadata": {},
     "output_type": "execute_result"
    },
    {
     "data": {
      "image/png": "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\n",
      "text/plain": [
       "<Figure size 432x288 with 1 Axes>"
      ]
     },
     "metadata": {
      "needs_background": "light"
     },
     "output_type": "display_data"
    }
   ],
   "source": [
    "plt.plot(ratio)\n",
    "plt.ylabel('Proportion of misclassfication')\n",
    "plt.xlabel('Number of data points reviewed')\n",
    "plt.title('Proportion of misclassified data points out of data points reviewed')"
   ]
  },
  {
   "cell_type": "markdown",
   "metadata": {},
   "source": [
    "# Q1 - Basic Results"
   ]
  },
  {
   "cell_type": "code",
<<<<<<< HEAD
   "execution_count": 4,
   "metadata": {
    "collapsed": true
   },
=======
   "execution_count": 10,
   "metadata": {},
>>>>>>> 19634adc08721e3f75b48ff9e90f89cc77b560a6
   "outputs": [],
   "source": [
    "from sklearn.model_selection import KFold\n",
    "from sklearn.model_selection import train_test_split\n",
    "import pandas as pd\n",
    "\n",
    "def allocate_training_test_sets(data,r =1/5):\n",
    "    X= data[:,1:]\n",
    "    y= data[:,0]\n",
    "    X_train, X_test, y_train, y_test = train_test_split(X, y, test_size=r)\n",
    "    return X_train, X_test, y_train, y_test"
   ]
  },
  {
   "cell_type": "code",
<<<<<<< HEAD
   "execution_count": 167,
   "metadata": {
    "collapsed": true
   },
=======
   "execution_count": 11,
   "metadata": {},
>>>>>>> 19634adc08721e3f75b48ff9e90f89cc77b560a6
   "outputs": [],
   "source": [
    "def perceptron_test(x_test,x_train,y_test,W, alphas, d):\n",
    "    K_test = Polynomial_Kernel(x_train, x_test, d)\n",
    "    confidence = (alphas.T @ K_test).T\n",
    "    preds = np.zeros(confidence.shape)\n",
    "    mistakes = 0\n",
    "    for i in range(len(y_test)):\n",
    "        y_hat = confidence[i].argmax()\n",
    "        preds[i,y_hat] = 1\n",
    "        if y_hat != y_test[i]:\n",
    "            mistakes += 1\n",
    "    return mistakes, preds, confidence"
   ]
  },
  {
   "cell_type": "code",
   "execution_count": 12,
   "metadata": {},
   "outputs": [
    {
     "name": "stdout",
     "output_type": "stream",
     "text": [
      "Number of mistakes:  104 , sample size:  1860\n",
      "Ratio mistakes/size:  0.05591397849462366\n"
     ]
    }
   ],
   "source": [
    "X_train, X_test, y_train, y_test = allocate_training_test_sets(data,r =1/5)\n",
    "W, alphas, train_errors = perceptron_train(X_train,y_train, 3)\n",
    "mistakes,_,_ = perceptron_test(X_test, X_train, y_test, W, alphas, 3)\n",
    "    \n",
    "print(\"Number of mistakes: \", mistakes, \", sample size: \", len(y_test))\n",
    "print(\"Ratio mistakes/size: \", mistakes/len(y_test))"
   ]
  },
  {
   "cell_type": "code",
<<<<<<< HEAD
   "execution_count": 3,
=======
   "execution_count": 13,
>>>>>>> 19634adc08721e3f75b48ff9e90f89cc77b560a6
   "metadata": {},
   "outputs": [
    {
     "name": "stdout",
     "output_type": "stream",
     "text": [
<<<<<<< HEAD
      "shape of errors:  (7, 20) , d_arr [1 2 3 4 5 6 7]\n"
     ]
    },
    {
     "ename": "NameError",
     "evalue": "name 'allocate_training_test_sets' is not defined",
     "output_type": "error",
     "traceback": [
      "\u001b[0;31m---------------------------------------------------------------------------\u001b[0m",
      "\u001b[0;31mNameError\u001b[0m                                 Traceback (most recent call last)",
      "\u001b[0;32m<ipython-input-3-a73c15b6df97>\u001b[0m in \u001b[0;36m<module>\u001b[0;34m\u001b[0m\n\u001b[1;32m      9\u001b[0m     \u001b[0mstartTime\u001b[0m \u001b[0;34m=\u001b[0m \u001b[0mdatetime\u001b[0m\u001b[0;34m.\u001b[0m\u001b[0mnow\u001b[0m\u001b[0;34m(\u001b[0m\u001b[0;34m)\u001b[0m\u001b[0;34m\u001b[0m\u001b[0m\n\u001b[1;32m     10\u001b[0m     \u001b[0;32mfor\u001b[0m \u001b[0mi\u001b[0m \u001b[0;32min\u001b[0m \u001b[0mrange\u001b[0m\u001b[0;34m(\u001b[0m\u001b[0mruns\u001b[0m\u001b[0;34m)\u001b[0m\u001b[0;34m:\u001b[0m\u001b[0;34m\u001b[0m\u001b[0m\n\u001b[0;32m---> 11\u001b[0;31m         \u001b[0mX_train\u001b[0m\u001b[0;34m,\u001b[0m \u001b[0mX_test\u001b[0m\u001b[0;34m,\u001b[0m \u001b[0my_train\u001b[0m\u001b[0;34m,\u001b[0m \u001b[0my_test\u001b[0m \u001b[0;34m=\u001b[0m \u001b[0mallocate_training_test_sets\u001b[0m\u001b[0;34m(\u001b[0m\u001b[0mdata\u001b[0m\u001b[0;34m,\u001b[0m \u001b[0mr\u001b[0m\u001b[0;34m=\u001b[0m\u001b[0;36m1\u001b[0m\u001b[0;34m/\u001b[0m\u001b[0;36m5\u001b[0m\u001b[0;34m)\u001b[0m\u001b[0;34m\u001b[0m\u001b[0m\n\u001b[0m\u001b[1;32m     12\u001b[0m         \u001b[0mW\u001b[0m\u001b[0;34m,\u001b[0m \u001b[0malphas\u001b[0m\u001b[0;34m,\u001b[0m \u001b[0mtrain_errors\u001b[0m \u001b[0;34m=\u001b[0m \u001b[0mperceptron_train\u001b[0m\u001b[0;34m(\u001b[0m\u001b[0mX_train\u001b[0m\u001b[0;34m,\u001b[0m\u001b[0my_train\u001b[0m\u001b[0;34m,\u001b[0m \u001b[0md\u001b[0m\u001b[0;34m)\u001b[0m\u001b[0;34m\u001b[0m\u001b[0m\n\u001b[1;32m     13\u001b[0m         \u001b[0mmistakes\u001b[0m \u001b[0;34m=\u001b[0m \u001b[0mperceptron_test\u001b[0m\u001b[0;34m(\u001b[0m\u001b[0mX_test\u001b[0m\u001b[0;34m,\u001b[0m\u001b[0mX_train\u001b[0m\u001b[0;34m,\u001b[0m \u001b[0my_test\u001b[0m\u001b[0;34m,\u001b[0m\u001b[0mW\u001b[0m\u001b[0;34m,\u001b[0m \u001b[0malphas\u001b[0m\u001b[0;34m,\u001b[0m\u001b[0md\u001b[0m\u001b[0;34m)\u001b[0m\u001b[0;34m\u001b[0m\u001b[0m\n",
      "\u001b[0;31mNameError\u001b[0m: name 'allocate_training_test_sets' is not defined"
=======
      "shape of errors:  (9298,) , d_arr [1 2 3 4 5 6 7]\n",
      "Now doing run  19 / 20  for d= 7 .........\r"
>>>>>>> 19634adc08721e3f75b48ff9e90f89cc77b560a6
     ]
    }
   ],
   "source": [
    "import datetime as dt\n",
    "from datetime import datetime\n",
    "\n",
    "d_arr = np.arange(1,8)\n",
    "runs = 20\n",
    "training_set_errors = np.zeros((len(d_arr),runs))\n",
    "test_set_errors = np.zeros((len(d_arr),runs))\n",
    "print(\"shape of errors: \", errors.shape, \", d_arr\", d_arr)\n",
    "for d in d_arr:\n",
    "    startTime = datetime.now()\n",
    "    for i in range(runs):\n",
    "        X_train, X_test, y_train, y_test = allocate_training_test_sets(data, r=1/5)\n",
    "        W, alphas,train_errors = perceptron_train(X_train,y_train, d)\n",
    "        \n",
    "        test_errors,_,_ = perceptron_test(X_test,X_train, y_test,W, alphas,d)\n",
    "        \n",
<<<<<<< HEAD
    "        errors[d-1, i] = mistakes\n",
    "        print(\"Now doing run \", i, \"/\", runs, \" for d=\", d)\n",
    "        print('Time taken for CV',datetime.now() - startTime)"
=======
    "        training_set_errors[d-1, i] = train_errors[-1]\n",
    "        test_set_errors[d-1, i] = test_errors\n",
    "        print(\"Now doing run \", i, \"/\", runs, \" for d=\", d,\".........\", end='\\r')"
>>>>>>> 19634adc08721e3f75b48ff9e90f89cc77b560a6
   ]
  },
  {
   "cell_type": "code",
   "execution_count": 14,
   "metadata": {},
   "outputs": [
    {
     "data": {
      "text/html": [
       "<div>\n",
       "<style scoped>\n",
       "    .dataframe tbody tr th:only-of-type {\n",
       "        vertical-align: middle;\n",
       "    }\n",
       "\n",
       "    .dataframe tbody tr th {\n",
       "        vertical-align: top;\n",
       "    }\n",
       "\n",
       "    .dataframe thead th {\n",
       "        text-align: right;\n",
       "    }\n",
       "</style>\n",
       "<table border=\"1\" class=\"dataframe\">\n",
       "  <thead>\n",
       "    <tr style=\"text-align: right;\">\n",
       "      <th></th>\n",
       "      <th>Training set error rate</th>\n",
       "      <th>Test set error rate</th>\n",
       "    </tr>\n",
       "  </thead>\n",
       "  <tbody>\n",
       "    <tr>\n",
       "      <th>1</th>\n",
       "      <td>0.1510 +- 0.0024</td>\n",
       "      <td>0.1155 +- 0.0183</td>\n",
       "    </tr>\n",
       "    <tr>\n",
       "      <th>2</th>\n",
       "      <td>0.1054 +- 0.0018</td>\n",
       "      <td>0.0714 +- 0.0155</td>\n",
       "    </tr>\n",
       "    <tr>\n",
       "      <th>3</th>\n",
       "      <td>0.0913 +- 0.0022</td>\n",
       "      <td>0.0565 +- 0.0069</td>\n",
       "    </tr>\n",
       "    <tr>\n",
       "      <th>4</th>\n",
       "      <td>0.0837 +- 0.0019</td>\n",
       "      <td>0.0530 +- 0.0056</td>\n",
       "    </tr>\n",
       "    <tr>\n",
       "      <th>5</th>\n",
       "      <td>0.0813 +- 0.0022</td>\n",
       "      <td>0.0483 +- 0.0064</td>\n",
       "    </tr>\n",
       "    <tr>\n",
       "      <th>6</th>\n",
       "      <td>0.0798 +- 0.0016</td>\n",
       "      <td>0.0478 +- 0.0069</td>\n",
       "    </tr>\n",
       "    <tr>\n",
       "      <th>7</th>\n",
       "      <td>0.0789 +- 0.0018</td>\n",
       "      <td>0.0462 +- 0.0057</td>\n",
       "    </tr>\n",
       "  </tbody>\n",
       "</table>\n",
       "</div>"
      ],
      "text/plain": [
       "  Training set error rate Test set error rate\n",
       "1        0.1510 +- 0.0024    0.1155 +- 0.0183\n",
       "2        0.1054 +- 0.0018    0.0714 +- 0.0155\n",
       "3        0.0913 +- 0.0022    0.0565 +- 0.0069\n",
       "4        0.0837 +- 0.0019    0.0530 +- 0.0056\n",
       "5        0.0813 +- 0.0022    0.0483 +- 0.0064\n",
       "6        0.0798 +- 0.0016    0.0478 +- 0.0069\n",
       "7        0.0789 +- 0.0018    0.0462 +- 0.0057"
      ]
     },
     "execution_count": 14,
     "metadata": {},
     "output_type": "execute_result"
    }
   ],
   "source": [
    "means_std = []\n",
    "for d in d_arr:\n",
    "    data_t = []\n",
    "    data_t.append(\"{0:.4f} +- {1:.4f}\".format(training_set_errors[d-1].mean() / len(y_train), \\\n",
    "                                            np.std(training_set_errors[d-1]) / len(y_train)))\n",
    "    data_t.append(\"{0:.4f} +- {1:.4f}\".format(test_set_errors[d-1].mean() / len(y_test), \\\n",
    "                                            np.std(test_set_errors[d-1]) / len(y_test)))\n",
    "    means_std.append(data_t)\n",
    "    \n",
    "df = pd.DataFrame(data=means_std, index=d_arr, columns=['Training set error rate', 'Test set error rate'])\n",
    "df"
   ]
  },
  {
   "cell_type": "markdown",
   "metadata": {},
   "source": [
    "# Q2 - Cross Validation"
   ]
  },
  {
   "cell_type": "markdown",
   "metadata": {},
   "source": [
    "Having already allocated x_train, now perform cross validation on x_train"
   ]
  },
  {
   "cell_type": "code",
   "execution_count": 15,
   "metadata": {},
   "outputs": [],
   "source": [
    "def cross_validation(X, y, d, k):\n",
    "    kf = KFold(n_splits=k, shuffle=True)\n",
    "    MSE_cv_arr = np.zeros(k)\n",
    "    i = 0\n",
    "    for train_index, cv_index in kf.split(X):\n",
    "        # Spit the matrix using the indices gained by the CV method and construct X and Y arrays\n",
    "        X_train = X[train_index]\n",
    "        X_cv = X[cv_index]\n",
    "        y_train = y[train_index]\n",
    "        y_cv = y[cv_index]\n",
    "    \n",
    "        # We are only interested in the alphas and not the MSE on the training set\n",
    "        W, alphas, errors = perceptron_train(X_train, y_train, d)\n",
    "        mistakes,_,_ = perceptron_test(X_cv, X_train, y_cv, W, alphas, d)\n",
    "        MSE_cv_arr[i] = mistakes / len(y_cv)\n",
    "#         print(\"Error rate: \", MSE_cv_arr[i])\n",
    "        i += 1\n",
    "        \n",
    "    return MSE_cv_arr.mean(), np.std(MSE_cv_arr)"
   ]
  },
  {
   "cell_type": "code",
   "execution_count": 16,
   "metadata": {},
   "outputs": [],
   "source": [
    "# This might need to be cleared up\n",
    "class Confusion:\n",
    "    def __init__(self, x, y, pred):\n",
    "        self.x = x\n",
    "        self.y = y\n",
    "        self.pred = pred"
   ]
  },
  {
   "cell_type": "code",
   "execution_count": 17,
   "metadata": {},
   "outputs": [
    {
     "name": "stdout",
     "output_type": "stream",
     "text": [
      "WARNING: Change the number of runs to 20!!!\n",
      "WARNING: Change the number of runs to 20!!!\n",
      "WARNING: Change the number of runs to 20!!!\n",
      "WARNING: Change the number of runs to 20!!!\n",
      "WARNING: Change the number of runs to 20!!!\n",
      "WARNING: Change the number of runs to 20!!!\n",
      "WARNING: Change the number of runs to 20!!!\n",
      "WARNING: Change the number of runs to 20!!!\n",
      "WARNING: Change the number of runs to 20!!!\n",
      "WARNING: Change the number of runs to 20!!!\n",
      "Now doing run  9 / 10  for d= 7 .........\r"
     ]
    }
   ],
   "source": [
    "runs = 10\n",
    "\n",
    "d_stars = np.zeros(runs)\n",
    "test_errors = np.zeros(runs)\n",
    "confusion = np.zeros((10, 10))\n",
    "\n",
    "confusion_examples = dict()\n",
    "for i in range(10):\n",
    "    confusion_examples[i] = []\n",
    "\n",
    "mistakes_per_run = np.zeros(x.shape[0])\n",
    "    \n",
    "for j in range(runs):\n",
    "    print(\"WARNING: Change the number of runs to 20!!!\")\n",
    "    # In each run we will iterate through the d array and use all possible values of d\n",
    "    \n",
    "    # Allocate 80/20 percent for training and test set\n",
    "    X_train, X_test, y_train, y_test = allocate_training_test_sets(data, r=1/5)\n",
    "\n",
    "    CV_means = np.zeros(len(d_arr))\n",
    "    for i in range(len(d_arr)):\n",
    "        print(\"Now doing run \", j, \"/\", runs, \" for d=\", d_arr[i], \".........\", end='\\r')\n",
    "        MSE_CV_mean, _ = cross_validation(X_train, y_train, d_arr[i], k=5)\n",
    "        CV_means[i] = MSE_CV_mean\n",
    "\n",
    "    # Train in whole 80% now with d_star\n",
    "    d_stars[j] = CV_means.argmin()\n",
    "    W, alphas, errors = perceptron_train(X_train, y_train, d_stars[j])\n",
    "    \n",
    "    # WRONG: I think this part can be removed\n",
    "    _, preds_train, confidences = perceptron_test(X_train, X_train, y_train, W, alphas, d_stars[j])\n",
    "    for i in range(len(y_train)):\n",
    "        pred_label = preds_train[i].argmax()\n",
    "        if pred_label != y_train[i]:\n",
    "            confusion[int(y_train[i]), pred_label] += 1\n",
    "            confusion_examples[int(y_train[i])].append(Confusion(X_train[i], y_train[i], pred_label))\n",
    "    # END WRONG\n",
    "    \n",
    "    mistakes,_,_ = perceptron_test(X_test, X_train, y_test, W, alphas, d_stars[j])\n",
    "    test_errors[j] = mistakes / len(y_test)\n",
    "    \n",
    "    # Test in all the data set, so that we know which ones\n",
    "    # are the \"toughest\" to predict in the whole data set. We can't really just do it on \n",
    "    # either the training or test set, as it is randomly split so order will not be pertained.\n",
    "    _, preds_all, confidences = perceptron_test(x, X_train, y, W, alphas, d_stars[j])\n",
    "    for i in range(x.shape[0]):\n",
    "        pred_label = preds_all[i].argmax()\n",
    "        if pred_label != y[i]:\n",
    "            mistakes_per_run[i] += 1"
   ]
  },
  {
   "cell_type": "code",
   "execution_count": 18,
   "metadata": {},
   "outputs": [
    {
     "name": "stdout",
     "output_type": "stream",
     "text": [
      "Mean d*:  5.5  with std:  0.6708203932499369\n",
      "Mean test error:  0.04897849462365591  with std:  0.007198882571527675\n"
     ]
    }
   ],
   "source": [
    "print(\"Mean d*: \", d_stars.mean(), \" with std: \", np.std(d_stars))\n",
    "print(\"Mean test error: \", test_errors.mean(), \" with std: \", np.std(test_errors))"
   ]
  },
  {
   "cell_type": "markdown",
   "metadata": {},
   "source": [
    "# Q3 - Confusion Matrix"
   ]
  },
  {
   "cell_type": "code",
   "execution_count": 19,
   "metadata": {},
   "outputs": [
    {
     "data": {
      "text/html": [
       "<div>\n",
       "<style scoped>\n",
       "    .dataframe tbody tr th:only-of-type {\n",
       "        vertical-align: middle;\n",
       "    }\n",
       "\n",
       "    .dataframe tbody tr th {\n",
       "        vertical-align: top;\n",
       "    }\n",
       "\n",
       "    .dataframe thead th {\n",
       "        text-align: right;\n",
       "    }\n",
       "</style>\n",
       "<table border=\"1\" class=\"dataframe\">\n",
       "  <thead>\n",
       "    <tr style=\"text-align: right;\">\n",
       "      <th></th>\n",
       "      <th>0</th>\n",
       "      <th>1</th>\n",
       "      <th>2</th>\n",
       "      <th>3</th>\n",
       "      <th>4</th>\n",
       "      <th>5</th>\n",
       "      <th>6</th>\n",
       "      <th>7</th>\n",
       "      <th>8</th>\n",
       "      <th>9</th>\n",
       "    </tr>\n",
       "  </thead>\n",
       "  <tbody>\n",
       "    <tr>\n",
       "      <th>0</th>\n",
       "      <td>0.0</td>\n",
       "      <td>1.0</td>\n",
       "      <td>8.0</td>\n",
       "      <td>11.0</td>\n",
       "      <td>4.0</td>\n",
       "      <td>68.0</td>\n",
       "      <td>28.0</td>\n",
       "      <td>0.0</td>\n",
       "      <td>7.0</td>\n",
       "      <td>2.0</td>\n",
       "    </tr>\n",
       "    <tr>\n",
       "      <th>1</th>\n",
       "      <td>1.0</td>\n",
       "      <td>0.0</td>\n",
       "      <td>6.0</td>\n",
       "      <td>3.0</td>\n",
       "      <td>84.0</td>\n",
       "      <td>2.0</td>\n",
       "      <td>28.0</td>\n",
       "      <td>9.0</td>\n",
       "      <td>7.0</td>\n",
       "      <td>10.0</td>\n",
       "    </tr>\n",
       "    <tr>\n",
       "      <th>2</th>\n",
       "      <td>20.0</td>\n",
       "      <td>1.0</td>\n",
       "      <td>0.0</td>\n",
       "      <td>32.0</td>\n",
       "      <td>26.0</td>\n",
       "      <td>14.0</td>\n",
       "      <td>10.0</td>\n",
       "      <td>15.0</td>\n",
       "      <td>14.0</td>\n",
       "      <td>10.0</td>\n",
       "    </tr>\n",
       "    <tr>\n",
       "      <th>3</th>\n",
       "      <td>3.0</td>\n",
       "      <td>1.0</td>\n",
       "      <td>21.0</td>\n",
       "      <td>0.0</td>\n",
       "      <td>0.0</td>\n",
       "      <td>115.0</td>\n",
       "      <td>0.0</td>\n",
       "      <td>3.0</td>\n",
       "      <td>30.0</td>\n",
       "      <td>5.0</td>\n",
       "    </tr>\n",
       "    <tr>\n",
       "      <th>4</th>\n",
       "      <td>2.0</td>\n",
       "      <td>41.0</td>\n",
       "      <td>36.0</td>\n",
       "      <td>6.0</td>\n",
       "      <td>0.0</td>\n",
       "      <td>13.0</td>\n",
       "      <td>18.0</td>\n",
       "      <td>24.0</td>\n",
       "      <td>17.0</td>\n",
       "      <td>99.0</td>\n",
       "    </tr>\n",
       "    <tr>\n",
       "      <th>5</th>\n",
       "      <td>21.0</td>\n",
       "      <td>0.0</td>\n",
       "      <td>2.0</td>\n",
       "      <td>42.0</td>\n",
       "      <td>4.0</td>\n",
       "      <td>0.0</td>\n",
       "      <td>17.0</td>\n",
       "      <td>1.0</td>\n",
       "      <td>30.0</td>\n",
       "      <td>6.0</td>\n",
       "    </tr>\n",
       "    <tr>\n",
       "      <th>6</th>\n",
       "      <td>30.0</td>\n",
       "      <td>0.0</td>\n",
       "      <td>5.0</td>\n",
       "      <td>0.0</td>\n",
       "      <td>6.0</td>\n",
       "      <td>37.0</td>\n",
       "      <td>0.0</td>\n",
       "      <td>0.0</td>\n",
       "      <td>6.0</td>\n",
       "      <td>1.0</td>\n",
       "    </tr>\n",
       "    <tr>\n",
       "      <th>7</th>\n",
       "      <td>0.0</td>\n",
       "      <td>8.0</td>\n",
       "      <td>21.0</td>\n",
       "      <td>8.0</td>\n",
       "      <td>31.0</td>\n",
       "      <td>5.0</td>\n",
       "      <td>0.0</td>\n",
       "      <td>0.0</td>\n",
       "      <td>4.0</td>\n",
       "      <td>128.0</td>\n",
       "    </tr>\n",
       "    <tr>\n",
       "      <th>8</th>\n",
       "      <td>13.0</td>\n",
       "      <td>9.0</td>\n",
       "      <td>37.0</td>\n",
       "      <td>52.0</td>\n",
       "      <td>9.0</td>\n",
       "      <td>27.0</td>\n",
       "      <td>16.0</td>\n",
       "      <td>17.0</td>\n",
       "      <td>0.0</td>\n",
       "      <td>25.0</td>\n",
       "    </tr>\n",
       "    <tr>\n",
       "      <th>9</th>\n",
       "      <td>2.0</td>\n",
       "      <td>4.0</td>\n",
       "      <td>0.0</td>\n",
       "      <td>6.0</td>\n",
       "      <td>28.0</td>\n",
       "      <td>9.0</td>\n",
       "      <td>0.0</td>\n",
       "      <td>31.0</td>\n",
       "      <td>18.0</td>\n",
       "      <td>0.0</td>\n",
       "    </tr>\n",
       "  </tbody>\n",
       "</table>\n",
       "</div>"
      ],
      "text/plain": [
       "      0     1     2     3     4      5     6     7     8      9\n",
       "0   0.0   1.0   8.0  11.0   4.0   68.0  28.0   0.0   7.0    2.0\n",
       "1   1.0   0.0   6.0   3.0  84.0    2.0  28.0   9.0   7.0   10.0\n",
       "2  20.0   1.0   0.0  32.0  26.0   14.0  10.0  15.0  14.0   10.0\n",
       "3   3.0   1.0  21.0   0.0   0.0  115.0   0.0   3.0  30.0    5.0\n",
       "4   2.0  41.0  36.0   6.0   0.0   13.0  18.0  24.0  17.0   99.0\n",
       "5  21.0   0.0   2.0  42.0   4.0    0.0  17.0   1.0  30.0    6.0\n",
       "6  30.0   0.0   5.0   0.0   6.0   37.0   0.0   0.0   6.0    1.0\n",
       "7   0.0   8.0  21.0   8.0  31.0    5.0   0.0   0.0   4.0  128.0\n",
       "8  13.0   9.0  37.0  52.0   9.0   27.0  16.0  17.0   0.0   25.0\n",
       "9   2.0   4.0   0.0   6.0  28.0    9.0   0.0  31.0  18.0    0.0"
      ]
     },
     "execution_count": 19,
     "metadata": {},
     "output_type": "execute_result"
    }
   ],
   "source": [
    "#Might need to use pandas for it\n",
    "df = pd.DataFrame(data=confusion)\n",
    "df"
   ]
  },
  {
   "cell_type": "markdown",
   "metadata": {},
   "source": [
    "# Q4 - Hardest numbers to predict"
   ]
  },
  {
   "cell_type": "code",
   "execution_count": 20,
   "metadata": {},
   "outputs": [
    {
     "data": {
      "image/png": "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\n",
      "text/plain": [
       "<Figure size 2160x2160 with 5 Axes>"
      ]
     },
     "metadata": {
      "needs_background": "light"
     },
     "output_type": "display_data"
    },
    {
     "data": {
      "image/png": "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\n",
      "text/plain": [
       "<Figure size 2160x2160 with 5 Axes>"
      ]
     },
     "metadata": {
      "needs_background": "light"
     },
     "output_type": "display_data"
    },
    {
     "data": {
      "image/png": "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\n",
      "text/plain": [
       "<Figure size 2160x2160 with 5 Axes>"
      ]
     },
     "metadata": {
      "needs_background": "light"
     },
     "output_type": "display_data"
    },
    {
     "data": {
      "image/png": "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\n",
      "text/plain": [
       "<Figure size 2160x2160 with 5 Axes>"
      ]
     },
     "metadata": {
      "needs_background": "light"
     },
     "output_type": "display_data"
    },
    {
     "data": {
      "image/png": "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\n",
      "text/plain": [
       "<Figure size 2160x2160 with 5 Axes>"
      ]
     },
     "metadata": {
      "needs_background": "light"
     },
     "output_type": "display_data"
    }
   ],
   "source": [
    "# WRONG: I think this is wrong based on the pdf\n",
    "sums_of_confusions = np.sum(confusion, axis=1)\n",
    "indices = np.flip(np.argsort(sums_of_confusions))[:5]\n",
    "\n",
    "for i in indices:\n",
    "    examples = confusion_examples[i]\n",
    "    plt.figure(figsize=(30,30))\n",
    "    for k in range(5):\n",
    "        a1 = plt.subplot(i+1, 5, k+1)\n",
    "        pixels = np.array(examples[k].x, dtype='uint8')\n",
    "        pixels = pixels.reshape((16, 16))\n",
    "        plt.title(\"Real: {0}, Pred:{1}\".format(examples[k].y, examples[k].pred))\n",
    "        a1.imshow(pixels, cmap='gray')"
   ]
  },
  {
   "cell_type": "code",
   "execution_count": 21,
   "metadata": {},
   "outputs": [
    {
     "data": {
      "image/png": "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\n",
      "text/plain": [
       "<Figure size 2160x2160 with 10 Axes>"
      ]
     },
     "metadata": {
      "needs_background": "light"
     },
     "output_type": "display_data"
    }
   ],
   "source": [
    "# The real way\n",
    "\n",
    "# We only have to show 5, but let's show 10 for the purposes of seeingthat indeed the first 5 are the worst\n",
    "indices = np.flip(np.argsort(mistakes_per_run))[:10]\n",
    "\n",
    "plt.figure(figsize=(30,30))\n",
    "\n",
    "k = 1\n",
    "for i in indices:\n",
    "    a1 = plt.subplot(1, 10, k)\n",
    "    pixels = np.array(x[i], dtype='uint8')\n",
    "    pixels = pixels.reshape((16, 16))\n",
    "    plt.title(\"Real: {0}\".format(y[i]))\n",
    "    a1.imshow(pixels, cmap='gray')\n",
    "    k+=1"
   ]
  },
  {
   "cell_type": "markdown",
   "metadata": {},
   "source": [
    "# Q5 - Gaussian Kernel"
   ]
  },
  {
   "cell_type": "code",
   "execution_count": 230,
   "metadata": {
    "collapsed": true
   },
   "outputs": [],
   "source": [
    "def pairwise_distance_single(X): # distances of X training data, single X matrix\n",
    "    m =X.shape[0]\n",
    "    n = X.shape[1]\n",
    "    G = np.matmul(X,X.T)\n",
    "    DG = np.diag(G).reshape(G.shape[0],1)\n",
    "    distances_sq = np.matmul(DG,np.ones((G.shape[0],1)).T)+ np.matmul(np.ones((G.shape[1],1)),DG.T)-2.0*G\n",
    "    return distances_sq\n",
    "\n",
    "def pairwise_distance_double(X1,X2): # distances of X training data, double matrices, X1 and X2\n",
    "    X1_pow = (X1**2).sum(axis=1).reshape(X1.shape[0],1) #sum the rows, size m1 array\n",
    "    X2_pow = (X2**2).sum(axis=1).reshape(X2.shape[0],1) #sum the rows, size m2 array\n",
    "    G = np.matmul(X1,X2.T)\n",
    "    m1,m2 =G.shape[0],G.shape[1] \n",
    "    distances_sq = np.matmul(X1_pow,np.ones((m2,1)).T)+ np.matmul(np.ones((m1,1)),X2_pow.T)-2.0*G\n",
    "    return distances_sq\n",
    "\n",
    "def Gaussian_Kernel(distances_sq,c=1):\n",
    "    K = np.exp(-c*distances_sq)\n",
    "    return K"
   ]
  },
  {
   "cell_type": "code",
   "execution_count": 226,
   "metadata": {},
   "outputs": [
    {
     "name": "stdout",
     "output_type": "stream",
     "text": [
      "t= 0\n",
      "label= 6.0\n",
      "alpha_t-1 []\n",
      "predicted label= 0\n",
      "prediction= [0. 0. 0. 0. 0. 0. 0. 0. 0. 0.]\n",
      "gamma_t= 0.0\n",
      "t= 2000\n",
      "label= 0.0\n",
      "alpha_t-1 [[-1. -1. -1. ... -1. -1. -1.]\n",
      " [ 0.  0.  0. ...  0.  0.  0.]\n",
      " [ 0.  0.  0. ...  0.  0.  0.]\n",
      " ...\n",
      " [ 0.  0.  0. ...  0.  0.  0.]\n",
      " [ 0.  0.  0. ...  0.  0.  0.]\n",
      " [ 0.  0.  0. ...  0.  0.  0.]]\n",
      "predicted label= 0\n",
      "prediction= [ 2.65827827e-31 -1.31022204e-48  2.84360679e-37 -1.50853874e-34\n",
      " -1.66918465e-40  3.59497565e-43  1.87382962e-38 -1.16290401e-42\n",
      " -2.65677277e-31  4.96633451e-46]\n",
      "gamma_t= 5.3165565497897784e-31\n",
      "t= 4000\n",
      "label= 0.0\n",
      "alpha_t-1 [[-1. -1. -1. ... -1. -1. -1.]\n",
      " [ 0.  0.  0. ...  0.  0.  0.]\n",
      " [ 0.  0.  0. ...  0.  0.  0.]\n",
      " ...\n",
      " [ 0.  0.  0. ...  0.  0.  0.]\n",
      " [ 0.  0.  0. ...  0.  0.  0.]\n",
      " [ 0.  0.  0. ...  0.  0.  0.]]\n",
      "predicted label= 0\n",
      "prediction= [ 2.80539063e-22 -8.70231539e-39 -1.10615619e-38 -9.78799230e-39\n",
      " -1.18839710e-37 -8.80437045e-39 -3.84603424e-27 -8.70231487e-39\n",
      " -2.80535207e-22 -9.61730222e-30]\n",
      "gamma_t= 5.610781251168945e-22\n",
      "t= 6000\n",
      "label= 5.0\n",
      "alpha_t-1 [[-1. -1. -1. ... -1. -1. -1.]\n",
      " [ 0.  0.  0. ...  0.  0.  0.]\n",
      " [ 0.  0.  0. ...  0.  0.  0.]\n",
      " ...\n",
      " [ 0.  0.  0. ...  0.  0.  0.]\n",
      " [ 0.  0.  0. ...  0.  0.  0.]\n",
      " [ 0.  0.  0. ...  0.  0.  0.]]\n",
      "predicted label= 4\n",
      "prediction= [ 7.93505224e-22 -2.18949255e-27 -1.81669205e-28 -1.20267712e-23\n",
      "  6.44049138e-21  1.20595579e-23 -7.93537203e-22 -3.43081891e-26\n",
      " -6.15003386e-29 -6.44045545e-21]\n",
      "gamma_t= 2.4119115763665528e-23\n",
      "t= 8000\n",
      "label= 9.0\n",
      "alpha_t-1 [[-1. -1. -1. ... -1. -1. -1.]\n",
      " [ 0.  0.  0. ...  0.  0.  0.]\n",
      " [ 0.  0.  0. ...  0.  0.  0.]\n",
      " ...\n",
      " [ 0.  0.  0. ...  0.  0.  0.]\n",
      " [ 0.  0.  0. ...  0.  0.  0.]\n",
      " [ 0.  0.  0. ...  0.  0.  0.]]\n",
      "predicted label= 9\n",
      "prediction= [-1.62923249e-24 -8.13872285e-22  3.99794779e-28  9.81063344e-25\n",
      " -1.15322412e-11 -8.77676228e-17  8.77676244e-17 -4.11808303e-07\n",
      "  6.15621972e-17  4.11819836e-07]\n",
      "gamma_t= 8.236396713017316e-07\n"
     ]
    }
   ],
   "source": [
    "#Train with Gaussian Kernel\n",
    "Wt,train_errorst = perceptron_train(x,y,d,kernel_choice='Gaussian')"
   ]
  },
  {
   "cell_type": "code",
   "execution_count": null,
   "metadata": {
    "collapsed": true
   },
   "outputs": [],
   "source": [
    "#Test with Gaussian Kernel\n",
    "d_arr = np.arange(1,8)\n",
    "for d in d_arr:\n",
    "    for i in range(20):\n",
    "        X_train, X_test, y_train, y_test = allocate_training_test_sets(data,r =1/5)\n",
    "        W,train_errors = perceptron_train(X_train,y_train,d,kernel_choice='Gaussian')\n",
    "        test_error = perceptron_test(X_test,X_train, y_test,W,d,kernel_choice='Gaussian')"
   ]
  },
  {
   "cell_type": "code",
   "execution_count": null,
   "metadata": {
    "collapsed": true
   },
   "outputs": [],
   "source": [
    "#Cross Validation with Gaussian Kernel, find c_star\n",
    "d_arr = np.arange(1,8)\n",
    "for d in d_arr:\n",
    "    for i in range(20):\n",
    "        X_train, X_test, y_train, y_test = allocate_training_test_sets(data,r =1/5)\n",
    "        W,train_errors = perceptron_train(X_train,y_train,d)\n",
    "        test_error = perceptron_test(X_test,X_train, y_test,W,d)"
   ]
  },
  {
   "cell_type": "markdown",
   "metadata": {},
   "source": [
    "# Q6 - Choose an alternative method to generalise k-classes"
   ]
  },
  {
   "cell_type": "code",
   "execution_count": null,
   "metadata": {
    "collapsed": true
   },
   "outputs": [],
   "source": []
  },
  {
   "cell_type": "markdown",
   "metadata": {},
   "source": [
    "# Q7 - Choose two more algorithms to compare"
   ]
  },
  {
   "cell_type": "markdown",
   "metadata": {},
   "source": [
    "### Multinomial Logistic Regression "
   ]
  },
  {
   "cell_type": "code",
   "execution_count": 238,
   "metadata": {
    "collapsed": true
   },
   "outputs": [],
   "source": [
    "#One against rest approach\n",
    "#Problem: What is the hyperparameter to be tuned? C-value: C = 1/lambda, which is the regularization coefficient. \n",
    "#https://stackoverflow.com/questions/21816346/fine-tuning-parameters-in-logistic-regression\n",
    "#http://dataaspirant.com/2017/05/15/implement-multinomial-logistic-regression-python/\n",
    "from sklearn.linear_model import LogisticRegression\n",
    "\n",
    "X_train, X_test, y_train, y_test = allocate_training_test_sets(data,r =1/5)\n",
    "# Train multi-classification model with logistic regression\n",
    "lr = LogisticRegression(C=1,random_state=0, solver='newton-cg',multi_class='multinomial').fit(X_train, y_train)"
   ]
  },
  {
   "cell_type": "code",
   "execution_count": 245,
   "metadata": {},
   "outputs": [
    {
     "name": "stdout",
     "output_type": "stream",
     "text": [
      "Multinomial Logistic regression Train Accuracy ::  0.9904544232320516\n",
      "Multinomial Logistic regression Test Accuracy ::  0.9354838709677419\n"
     ]
    }
   ],
   "source": [
    "from sklearn import metrics\n",
    "#print (\"Logistic regression Train Accuracy :: \", metrics.accuracy_score(y_train, lr.predict(x_train)))\n",
    "#print (\"Logistic regression Test Accuracy :: \", metrics.accuracy_score(y_test, lr.predict(x_test)))\n",
    "print (\"Multinomial Logistic regression Train Accuracy :: \", metrics.accuracy_score(y_train, lr.predict(X_train)))\n",
    "print (\"Multinomial Logistic regression Test Accuracy :: \", metrics.accuracy_score(y_test, lr.predict(X_test)))\n",
    " "
   ]
  },
  {
   "cell_type": "code",
   "execution_count": null,
   "metadata": {
    "collapsed": true
   },
   "outputs": [],
   "source": [
    "# Different ideas - LR uses probability theory, it'd be interest to compare with perceptron which is simply geometric. "
   ]
  },
  {
   "cell_type": "markdown",
   "metadata": {},
   "source": [
    "### Support Vector"
   ]
  },
  {
   "cell_type": "code",
   "execution_count": null,
   "metadata": {
    "collapsed": true
   },
   "outputs": [],
   "source": [
    "#One against one approach, or One against All approach? "
   ]
  },
  {
   "cell_type": "code",
   "execution_count": null,
   "metadata": {
    "collapsed": true
   },
   "outputs": [],
   "source": [
    "#Maybe logistic regression and SVM. \n"
   ]
  },
  {
   "cell_type": "code",
   "execution_count": null,
   "metadata": {
    "collapsed": true
   },
   "outputs": [],
   "source": []
  },
  {
   "cell_type": "code",
   "execution_count": null,
   "metadata": {
    "collapsed": true
   },
   "outputs": [],
   "source": []
  }
 ],
 "metadata": {
  "kernelspec": {
   "display_name": "Python 3",
   "language": "python",
   "name": "python3"
  },
  "language_info": {
   "codemirror_mode": {
    "name": "ipython",
    "version": 3
   },
   "file_extension": ".py",
   "mimetype": "text/x-python",
   "name": "python",
   "nbconvert_exporter": "python",
   "pygments_lexer": "ipython3",
   "version": "3.6.6"
  }
 },
 "nbformat": 4,
 "nbformat_minor": 2
}
