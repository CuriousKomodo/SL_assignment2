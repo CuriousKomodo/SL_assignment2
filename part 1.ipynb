{
 "cells": [
  {
   "cell_type": "markdown",
   "metadata": {},
   "source": [
    "# Part I: Supervised Learining "
   ]
  },
  {
   "cell_type": "code",
   "execution_count": 6,
   "metadata": {},
   "outputs": [],
   "source": [
    "import os\n",
    "import time\n",
    "import numpy as np\n",
    "import matplotlib.pyplot as plt \n",
    "import scipy\n",
    "import scipy.io as spio\n",
    "import pandas as pd\n",
    "from sklearn.model_selection import KFold\n",
    "from sklearn.model_selection import train_test_split\n",
    "import math\n",
    "import urllib\n",
    "from urllib.request import urlopen\n",
    "%matplotlib inline\n",
    "import urllib.request"
   ]
  },
  {
   "cell_type": "code",
   "execution_count": 7,
   "metadata": {},
   "outputs": [],
   "source": [
    "#Extract data as an array from the url\n",
    "# link = \"http://www0.cs.ucl.ac.uk/staff/M.Herbster/SL/misc/zipcombo.dat\"\n",
    "filename = 'zipcombo.dat'\n",
    "training_filename = 'dtrain123.dat'\n",
    "test_filename = 'dtest123.dat'\n",
    "# urllib.request.urlretrieve(link, filename)\n",
    "data = np.loadtxt(filename)     # read numpy array from file\n",
    "# data = np.loadtxt(training_filename)     # read numpy array from file"
   ]
  },
  {
   "cell_type": "code",
   "execution_count": 8,
   "metadata": {},
   "outputs": [
    {
     "data": {
      "text/plain": [
       "(9298, 257)"
      ]
     },
     "execution_count": 8,
     "metadata": {},
     "output_type": "execute_result"
    }
   ],
   "source": [
    "data.shape"
   ]
  },
  {
   "cell_type": "markdown",
   "metadata": {},
   "source": [
    "## Multiclass Perceptron with Polynomial Kernel"
   ]
  },
  {
   "cell_type": "code",
   "execution_count": 9,
   "metadata": {},
   "outputs": [],
   "source": [
    "y = data[:,0]\n",
    "x = data[:,1:]"
   ]
  },
  {
   "cell_type": "code",
   "execution_count": 10,
   "metadata": {},
   "outputs": [],
   "source": [
    "#Not sure if I should include bias before computing the Kernel? \n",
    "def add_bias(x):\n",
    "    x_with_bias = np.ones((x.shape[0],x.shape[1]+1))\n",
    "    x_with_bias[:,:-1] = x\n",
    "    return x_with_bias\n",
    "\n",
    "#Discuss the use of the this kernel. i.e. talk about non-linear seperability. \n",
    "def Polynomial_Kernel(x1,x2,d):\n",
    "    K = (x1 @ x2.T)**d\n",
    "    return K\n",
    "\n",
    "def transform_y(y):\n",
    "    #classes_num = len(y.unique())\n",
    "    #assuming that training set has all the numbers between min(y) and max(y)\n",
    "    classes_num = 10\n",
    "    m = len(y)\n",
    "    y_matrix = np.ones((m,classes_num))*(-1)\n",
    "    for i in range(m):\n",
    "        y_matrix[i,int(y[i])] = 1\n",
    "    return y_matrix"
   ]
  },
  {
   "cell_type": "code",
   "execution_count": 14,
   "metadata": {},
   "outputs": [],
   "source": [
    "#One vs. rest: train k classifiers to identify k classes\n",
    "def perceptron_train(x,y,d=2,kernel_choice='Polynomial',max_epoch=10):\n",
    "    m = x.shape[0] #number of examples\n",
    "    n = x.shape[1] #number of features\n",
    "    classes_num = 10 #number of classes \n",
    "     \n",
    "    error_per_epoch = np.zeros(max_epoch)\n",
    "    y_arr = transform_y(y) \n",
    "    alpha = np.zeros((m,classes_num)) #Need to store alpha array at all iteration, as we need it to compute confidence\n",
    "    \n",
    "    if kernel_choice=='Polynomial':\n",
    "        K_train = Polynomial_Kernel(x,x,d)\n",
    "    elif kernel_choice=='Gaussian':\n",
    "        pairwise_distances = pairwise_distance_single(x)\n",
    "        K_train = Gaussian_Kernel(pairwise_distances,c=d)\n",
    "    \n",
    "    W = np.zeros((m,classes_num)) #with bias?\n",
    "    \n",
    "    for epoch in range(max_epoch):\n",
    "        errors = np.zeros(m)\n",
    "        num_errors = 0 #This should be bounded..? Maybe calculate the bound in the explanation\n",
    "        \n",
    "        for t in range(m):\n",
    "            if t <1:\n",
    "                alpha_prev = alpha[0,:] #when t=0, the previous alpha is set to be 0     \n",
    "            else:\n",
    "                alpha_prev = alpha[t-1,:] #\n",
    "\n",
    "            #find our training set\n",
    "            x_t = x[t,:] #of size (1,n)\n",
    "            y_t = y[t]\n",
    "            y_arr_t = y_arr[t,:] #of size (1,10) \n",
    "\n",
    "            #pred_t computes \\sum^{t-1}_{i=0} {(alpha_i K(x_t, x_i))}, which is regarded as the confidence in each class\n",
    "            pred_t = (alpha[:,:].T @K_train[t,:]).T \n",
    "            \n",
    "            y_hat_t = np.where(pred_t==max(pred_t),1,0) #map the confidence to arrays of 1 and 0 for class\n",
    "            gamma_t = y_arr_t.T @ y_hat_t\n",
    "\n",
    "            #if gamma_t < 0.01:\n",
    "            if pred_t.argmax()!=y_t:\n",
    "                #print('misclassification:',gamma_t)\n",
    "                #update the alpha, and weights, for all the classes that not the true class\n",
    "                num_errors +=1\n",
    "\n",
    "                #since we only want to update the weights related to first t-1 training data.\n",
    "                #note that alpha_t is np.zeros(10,1), \n",
    "                #and alpha_t is updated according to the real class, and the misclassified class.\n",
    "                #this version is not updated with alpha_prev\n",
    "\n",
    "                alpha_t = alpha[t,:] + np.where(y_arr_t> 0,1,0) + np.where(y_hat_t>0,-1,0) #(1,10)\n",
    "\n",
    "                #store alpha_t into the matrix for future reference\n",
    "                alpha[t,:] = alpha_t\n",
    "\n",
    "                #sandwich K(x_t, x_i) for i in [1,t-1] in a zeros array of size(m). \n",
    "                #reason being weight for one class is of size(m), but we only 'have enough data' to update the first t-1 terms.  \n",
    "                K_update = np.zeros((1,m))\n",
    "                K_update[:,:t] = K_train[t,:t] \n",
    "\n",
    "                #Note that W is a weight matrix of size (m, 10)\n",
    "                #K_update.T @alpha_t is the update for weight matrix, for every class and every training set that has been reviewed. \n",
    "                W = W+ K_update.T @(alpha_t.reshape(1,10)) #(1, 10) * (1,m), want (m,10)\n",
    "            else:\n",
    "                W = W \n",
    "        \n",
    "            errors[t] = num_errors\n",
    "        error_per_epoch[epoch] = errors[-1]\n",
    "\n",
    "    return W,alpha, error_per_epoch"
   ]
  },
  {
   "cell_type": "code",
   "execution_count": 16,
   "metadata": {},
   "outputs": [],
   "source": [
    "#Test this function, see if it is working properly\n",
    "W,alpha, error_per_epoch = perceptron_train(x,y,d=2)"
   ]
  },
  {
   "cell_type": "code",
   "execution_count": 19,
   "metadata": {},
   "outputs": [
    {
     "name": "stdout",
     "output_type": "stream",
     "text": [
      "err is  0.006668100666810067\n"
     ]
    }
   ],
   "source": [
    "#Plot number of misclassfication versus the number of training sets reviewed. \n",
    "ratio = error_per_epoch/x.shape[0]\n",
    "err = error_per_epoch[-1]/x.shape[0]\n",
    "print(\"err is \", err)"
   ]
  },
  {
   "cell_type": "code",
   "execution_count": 20,
   "metadata": {},
   "outputs": [
    {
     "data": {
      "text/plain": [
       "Text(0.5, 1.0, 'Proportion of misclassified data points out of data points reviewed')"
      ]
     },
     "execution_count": 20,
     "metadata": {},
     "output_type": "execute_result"
    },
    {
     "data": {
      "image/png": "[encoded data removed]",
      "text/plain": [
       "<Figure size 432x288 with 1 Axes>"
      ]
     },
     "metadata": {
      "needs_background": "light"
     },
     "output_type": "display_data"
    }
   ],
   "source": [
    "plt.plot(ratio)\n",
    "plt.ylabel('Proportion of misclassfication')\n",
    "plt.xlabel('Number of data points reviewed')\n",
    "plt.title('Proportion of misclassified data points out of data points reviewed')"
   ]
  },
  {
   "cell_type": "markdown",
   "metadata": {},
   "source": [
    "# Q1 - Basic Results"
   ]
  },
  {
   "cell_type": "code",
   "execution_count": 10,
   "metadata": {},
   "outputs": [],
   "source": [
    "from sklearn.model_selection import KFold\n",
    "from sklearn.model_selection import train_test_split\n",
    "import pandas as pd\n",
    "\n",
    "def allocate_training_test_sets(data,r =1/5):\n",
    "    X= data[:,1:]\n",
    "    y= data[:,0]\n",
    "    X_train, X_test, y_train, y_test = train_test_split(X, y, test_size=r)\n",
    "    return X_train, X_test, y_train, y_test"
   ]
  },
  {
   "cell_type": "code",
   "execution_count": 11,
   "metadata": {},
   "outputs": [],
   "source": [
    "def perceptron_test(x_test,x_train,y_test,W, alphas, d):\n",
    "    K_test = Polynomial_Kernel(x_train, x_test, d)\n",
    "    confidence = (alphas.T @ K_test).T\n",
    "    preds = np.zeros(confidence.shape)\n",
    "    mistakes = 0\n",
    "    for i in range(len(y_test)):\n",
    "        y_hat = confidence[i].argmax()\n",
    "        preds[i,y_hat] = 1\n",
    "        if y_hat != y_test[i]:\n",
    "            mistakes += 1\n",
    "    return mistakes, preds, confidence"
   ]
  },
  {
   "cell_type": "code",
   "execution_count": 12,
   "metadata": {},
   "outputs": [
    {
     "name": "stdout",
     "output_type": "stream",
     "text": [
      "Number of mistakes:  104 , sample size:  1860\n",
      "Ratio mistakes/size:  0.05591397849462366\n"
     ]
    }
   ],
   "source": [
    "X_train, X_test, y_train, y_test = allocate_training_test_sets(data,r =1/5)\n",
    "W, alphas, train_errors = perceptron_train(X_train,y_train, 3)\n",
    "mistakes,_,_ = perceptron_test(X_test, X_train, y_test, W, alphas, 3)\n",
    "    \n",
    "print(\"Number of mistakes: \", mistakes, \", sample size: \", len(y_test))\n",
    "print(\"Ratio mistakes/size: \", mistakes/len(y_test))"
   ]
  },
  {
   "cell_type": "code",
   "execution_count": 13,
   "metadata": {},
   "outputs": [
    {
     "name": "stdout",
     "output_type": "stream",
     "text": [
      "shape of errors:  (9298,) , d_arr [1 2 3 4 5 6 7]\n",
      "Now doing run  19 / 20  for d= 7 .........\r"
     ]
    }
   ],
   "source": [
    "d_arr = np.arange(1,8)\n",
    "runs = 20\n",
    "training_set_errors = np.zeros((len(d_arr),runs))\n",
    "test_set_errors = np.zeros((len(d_arr),runs))\n",
    "print(\"shape of errors: \", errors.shape, \", d_arr\", d_arr)\n",
    "for d in d_arr:\n",
    "    for i in range(runs):\n",
    "        X_train, X_test, y_train, y_test = allocate_training_test_sets(data, r=1/5)\n",
    "        W, alphas,train_errors = perceptron_train(X_train,y_train, d)\n",
    "        \n",
    "        test_errors,_,_ = perceptron_test(X_test,X_train, y_test,W, alphas,d)\n",
    "        \n",
    "        training_set_errors[d-1, i] = train_errors[-1]\n",
    "        test_set_errors[d-1, i] = test_errors\n",
    "        print(\"Now doing run \", i, \"/\", runs, \" for d=\", d,\".........\", end='\\r')"
   ]
  },
  {
   "cell_type": "code",
   "execution_count": 14,
   "metadata": {},
   "outputs": [
    {
     "data": {
      "text/html": [
       "<div>\n",
       "<style scoped>\n",
       "    .dataframe tbody tr th:only-of-type {\n",
       "        vertical-align: middle;\n",
       "    }\n",
       "\n",
       "    .dataframe tbody tr th {\n",
       "        vertical-align: top;\n",
       "    }\n",
       "\n",
       "    .dataframe thead th {\n",
       "        text-align: right;\n",
       "    }\n",
       "</style>\n",
       "<table border=\"1\" class=\"dataframe\">\n",
       "  <thead>\n",
       "    <tr style=\"text-align: right;\">\n",
       "      <th></th>\n",
       "      <th>Training set error rate</th>\n",
       "      <th>Test set error rate</th>\n",
       "    </tr>\n",
       "  </thead>\n",
       "  <tbody>\n",
       "    <tr>\n",
       "      <th>1</th>\n",
       "      <td>0.1510 +- 0.0024</td>\n",
       "      <td>0.1155 +- 0.0183</td>\n",
       "    </tr>\n",
       "    <tr>\n",
       "      <th>2</th>\n",
       "      <td>0.1054 +- 0.0018</td>\n",
       "      <td>0.0714 +- 0.0155</td>\n",
       "    </tr>\n",
       "    <tr>\n",
       "      <th>3</th>\n",
       "      <td>0.0913 +- 0.0022</td>\n",
       "      <td>0.0565 +- 0.0069</td>\n",
       "    </tr>\n",
       "    <tr>\n",
       "      <th>4</th>\n",
       "      <td>0.0837 +- 0.0019</td>\n",
       "      <td>0.0530 +- 0.0056</td>\n",
       "    </tr>\n",
       "    <tr>\n",
       "      <th>5</th>\n",
       "      <td>0.0813 +- 0.0022</td>\n",
       "      <td>0.0483 +- 0.0064</td>\n",
       "    </tr>\n",
       "    <tr>\n",
       "      <th>6</th>\n",
       "      <td>0.0798 +- 0.0016</td>\n",
       "      <td>0.0478 +- 0.0069</td>\n",
       "    </tr>\n",
       "    <tr>\n",
       "      <th>7</th>\n",
       "      <td>0.0789 +- 0.0018</td>\n",
       "      <td>0.0462 +- 0.0057</td>\n",
       "    </tr>\n",
       "  </tbody>\n",
       "</table>\n",
       "</div>"
      ],
      "text/plain": [
       "  Training set error rate Test set error rate\n",
       "1        0.1510 +- 0.0024    0.1155 +- 0.0183\n",
       "2        0.1054 +- 0.0018    0.0714 +- 0.0155\n",
       "3        0.0913 +- 0.0022    0.0565 +- 0.0069\n",
       "4        0.0837 +- 0.0019    0.0530 +- 0.0056\n",
       "5        0.0813 +- 0.0022    0.0483 +- 0.0064\n",
       "6        0.0798 +- 0.0016    0.0478 +- 0.0069\n",
       "7        0.0789 +- 0.0018    0.0462 +- 0.0057"
      ]
     },
     "execution_count": 14,
     "metadata": {},
     "output_type": "execute_result"
    }
   ],
   "source": [
    "means_std = []\n",
    "for d in d_arr:\n",
    "    data_t = []\n",
    "    data_t.append(\"{0:.4f} +- {1:.4f}\".format(training_set_errors[d-1].mean() / len(y_train), \\\n",
    "                                            np.std(training_set_errors[d-1]) / len(y_train)))\n",
    "    data_t.append(\"{0:.4f} +- {1:.4f}\".format(test_set_errors[d-1].mean() / len(y_test), \\\n",
    "                                            np.std(test_set_errors[d-1]) / len(y_test)))\n",
    "    means_std.append(data_t)\n",
    "    \n",
    "df = pd.DataFrame(data=means_std, index=d_arr, columns=['Training set error rate', 'Test set error rate'])\n",
    "df"
   ]
  },
  {
   "cell_type": "markdown",
   "metadata": {},
   "source": [
    "# Q2 - Cross Validation"
   ]
  },
  {
   "cell_type": "markdown",
   "metadata": {},
   "source": [
    "Having already allocated x_train, now perform cross validation on x_train"
   ]
  },
  {
   "cell_type": "code",
   "execution_count": 15,
   "metadata": {},
   "outputs": [],
   "source": [
    "def cross_validation(X, y, d, k):\n",
    "    kf = KFold(n_splits=k, shuffle=True)\n",
    "    MSE_cv_arr = np.zeros(k)\n",
    "    i = 0\n",
    "    for train_index, cv_index in kf.split(X):\n",
    "        # Spit the matrix using the indices gained by the CV method and construct X and Y arrays\n",
    "        X_train = X[train_index]\n",
    "        X_cv = X[cv_index]\n",
    "        y_train = y[train_index]\n",
    "        y_cv = y[cv_index]\n",
    "    \n",
    "        # We are only interested in the alphas and not the MSE on the training set\n",
    "        W, alphas, errors = perceptron_train(X_train, y_train, d)\n",
    "        mistakes,_,_ = perceptron_test(X_cv, X_train, y_cv, W, alphas, d)\n",
    "        MSE_cv_arr[i] = mistakes / len(y_cv)\n",
    "#         print(\"Error rate: \", MSE_cv_arr[i])\n",
    "        i += 1\n",
    "        \n",
    "    return MSE_cv_arr.mean(), np.std(MSE_cv_arr)"
   ]
  },
  {
   "cell_type": "code",
   "execution_count": 16,
   "metadata": {},
   "outputs": [],
   "source": [
    "# This might need to be cleared up\n",
    "class Confusion:\n",
    "    def __init__(self, x, y, pred):\n",
    "        self.x = x\n",
    "        self.y = y\n",
    "        self.pred = pred"
   ]
  },
  {
   "cell_type": "code",
   "execution_count": 17,
   "metadata": {},
   "outputs": [
    {
     "name": "stdout",
     "output_type": "stream",
     "text": [
      "WARNING: Change the number of runs to 20!!!\n",
      "WARNING: Change the number of runs to 20!!!\n",
      "WARNING: Change the number of runs to 20!!!\n",
      "WARNING: Change the number of runs to 20!!!\n",
      "WARNING: Change the number of runs to 20!!!\n",
      "WARNING: Change the number of runs to 20!!!\n",
      "WARNING: Change the number of runs to 20!!!\n",
      "WARNING: Change the number of runs to 20!!!\n",
      "WARNING: Change the number of runs to 20!!!\n",
      "WARNING: Change the number of runs to 20!!!\n",
      "Now doing run  9 / 10  for d= 7 .........\r"
     ]
    }
   ],
   "source": [
    "runs = 10\n",
    "\n",
    "d_stars = np.zeros(runs)\n",
    "test_errors = np.zeros(runs)\n",
    "confusion = np.zeros((10, 10))\n",
    "\n",
    "confusion_examples = dict()\n",
    "for i in range(10):\n",
    "    confusion_examples[i] = []\n",
    "\n",
    "mistakes_per_run = np.zeros(x.shape[0])\n",
    "    \n",
    "for j in range(runs):\n",
    "    print(\"WARNING: Change the number of runs to 20!!!\")\n",
    "    # In each run we will iterate through the d array and use all possible values of d\n",
    "    \n",
    "    # Allocate 80/20 percent for training and test set\n",
    "    X_train, X_test, y_train, y_test = allocate_training_test_sets(data, r=1/5)\n",
    "\n",
    "    CV_means = np.zeros(len(d_arr))\n",
    "    for i in range(len(d_arr)):\n",
    "        print(\"Now doing run \", j, \"/\", runs, \" for d=\", d_arr[i], \".........\", end='\\r')\n",
    "        MSE_CV_mean, _ = cross_validation(X_train, y_train, d_arr[i], k=5)\n",
    "        CV_means[i] = MSE_CV_mean\n",
    "\n",
    "    # Train in whole 80% now with d_star\n",
    "    d_stars[j] = CV_means.argmin()\n",
    "    W, alphas, errors = perceptron_train(X_train, y_train, d_stars[j])\n",
    "    \n",
    "    # WRONG: I think this part can be removed\n",
    "    _, preds_train, confidences = perceptron_test(X_train, X_train, y_train, W, alphas, d_stars[j])\n",
    "    for i in range(len(y_train)):\n",
    "        pred_label = preds_train[i].argmax()\n",
    "        if pred_label != y_train[i]:\n",
    "            confusion[int(y_train[i]), pred_label] += 1\n",
    "            confusion_examples[int(y_train[i])].append(Confusion(X_train[i], y_train[i], pred_label))\n",
    "    # END WRONG\n",
    "    \n",
    "    mistakes,_,_ = perceptron_test(X_test, X_train, y_test, W, alphas, d_stars[j])\n",
    "    test_errors[j] = mistakes / len(y_test)\n",
    "    \n",
    "    # Test in all the data set, so that we know which ones\n",
    "    # are the \"toughest\" to predict in the whole data set. We can't really just do it on \n",
    "    # either the training or test set, as it is randomly split so order will not be pertained.\n",
    "    _, preds_all, confidences = perceptron_test(x, X_train, y, W, alphas, d_stars[j])\n",
    "    for i in range(x.shape[0]):\n",
    "        pred_label = preds_all[i].argmax()\n",
    "        if pred_label != y[i]:\n",
    "            mistakes_per_run[i] += 1"
   ]
  },
  {
   "cell_type": "code",
   "execution_count": 18,
   "metadata": {},
   "outputs": [
    {
     "name": "stdout",
     "output_type": "stream",
     "text": [
      "Mean d*:  5.5  with std:  0.6708203932499369\n",
      "Mean test error:  0.04897849462365591  with std:  0.007198882571527675\n"
     ]
    }
   ],
   "source": [
    "print(\"Mean d*: \", d_stars.mean(), \" with std: \", np.std(d_stars))\n",
    "print(\"Mean test error: \", test_errors.mean(), \" with std: \", np.std(test_errors))"
   ]
  },
  {
   "cell_type": "markdown",
   "metadata": {},
   "source": [
    "# Q3 - Confusion Matrix"
   ]
  },
  {
   "cell_type": "code",
   "execution_count": 19,
   "metadata": {},
   "outputs": [
    {
     "data": {
      "text/html": [
       "<div>\n",
       "<style scoped>\n",
       "    .dataframe tbody tr th:only-of-type {\n",
       "        vertical-align: middle;\n",
       "    }\n",
       "\n",
       "    .dataframe tbody tr th {\n",
       "        vertical-align: top;\n",
       "    }\n",
       "\n",
       "    .dataframe thead th {\n",
       "        text-align: right;\n",
       "    }\n",
       "</style>\n",
       "<table border=\"1\" class=\"dataframe\">\n",
       "  <thead>\n",
       "    <tr style=\"text-align: right;\">\n",
       "      <th></th>\n",
       "      <th>0</th>\n",
       "      <th>1</th>\n",
       "      <th>2</th>\n",
       "      <th>3</th>\n",
       "      <th>4</th>\n",
       "      <th>5</th>\n",
       "      <th>6</th>\n",
       "      <th>7</th>\n",
       "      <th>8</th>\n",
       "      <th>9</th>\n",
       "    </tr>\n",
       "  </thead>\n",
       "  <tbody>\n",
       "    <tr>\n",
       "      <th>0</th>\n",
       "      <td>0.0</td>\n",
       "      <td>1.0</td>\n",
       "      <td>8.0</td>\n",
       "      <td>11.0</td>\n",
       "      <td>4.0</td>\n",
       "      <td>68.0</td>\n",
       "      <td>28.0</td>\n",
       "      <td>0.0</td>\n",
       "      <td>7.0</td>\n",
       "      <td>2.0</td>\n",
       "    </tr>\n",
       "    <tr>\n",
       "      <th>1</th>\n",
       "      <td>1.0</td>\n",
       "      <td>0.0</td>\n",
       "      <td>6.0</td>\n",
       "      <td>3.0</td>\n",
       "      <td>84.0</td>\n",
       "      <td>2.0</td>\n",
       "      <td>28.0</td>\n",
       "      <td>9.0</td>\n",
       "      <td>7.0</td>\n",
       "      <td>10.0</td>\n",
       "    </tr>\n",
       "    <tr>\n",
       "      <th>2</th>\n",
       "      <td>20.0</td>\n",
       "      <td>1.0</td>\n",
       "      <td>0.0</td>\n",
       "      <td>32.0</td>\n",
       "      <td>26.0</td>\n",
       "      <td>14.0</td>\n",
       "      <td>10.0</td>\n",
       "      <td>15.0</td>\n",
       "      <td>14.0</td>\n",
       "      <td>10.0</td>\n",
       "    </tr>\n",
       "    <tr>\n",
       "      <th>3</th>\n",
       "      <td>3.0</td>\n",
       "      <td>1.0</td>\n",
       "      <td>21.0</td>\n",
       "      <td>0.0</td>\n",
       "      <td>0.0</td>\n",
       "      <td>115.0</td>\n",
       "      <td>0.0</td>\n",
       "      <td>3.0</td>\n",
       "      <td>30.0</td>\n",
       "      <td>5.0</td>\n",
       "    </tr>\n",
       "    <tr>\n",
       "      <th>4</th>\n",
       "      <td>2.0</td>\n",
       "      <td>41.0</td>\n",
       "      <td>36.0</td>\n",
       "      <td>6.0</td>\n",
       "      <td>0.0</td>\n",
       "      <td>13.0</td>\n",
       "      <td>18.0</td>\n",
       "      <td>24.0</td>\n",
       "      <td>17.0</td>\n",
       "      <td>99.0</td>\n",
       "    </tr>\n",
       "    <tr>\n",
       "      <th>5</th>\n",
       "      <td>21.0</td>\n",
       "      <td>0.0</td>\n",
       "      <td>2.0</td>\n",
       "      <td>42.0</td>\n",
       "      <td>4.0</td>\n",
       "      <td>0.0</td>\n",
       "      <td>17.0</td>\n",
       "      <td>1.0</td>\n",
       "      <td>30.0</td>\n",
       "      <td>6.0</td>\n",
       "    </tr>\n",
       "    <tr>\n",
       "      <th>6</th>\n",
       "      <td>30.0</td>\n",
       "      <td>0.0</td>\n",
       "      <td>5.0</td>\n",
       "      <td>0.0</td>\n",
       "      <td>6.0</td>\n",
       "      <td>37.0</td>\n",
       "      <td>0.0</td>\n",
       "      <td>0.0</td>\n",
       "      <td>6.0</td>\n",
       "      <td>1.0</td>\n",
       "    </tr>\n",
       "    <tr>\n",
       "      <th>7</th>\n",
       "      <td>0.0</td>\n",
       "      <td>8.0</td>\n",
       "      <td>21.0</td>\n",
       "      <td>8.0</td>\n",
       "      <td>31.0</td>\n",
       "      <td>5.0</td>\n",
       "      <td>0.0</td>\n",
       "      <td>0.0</td>\n",
       "      <td>4.0</td>\n",
       "      <td>128.0</td>\n",
       "    </tr>\n",
       "    <tr>\n",
       "      <th>8</th>\n",
       "      <td>13.0</td>\n",
       "      <td>9.0</td>\n",
       "      <td>37.0</td>\n",
       "      <td>52.0</td>\n",
       "      <td>9.0</td>\n",
       "      <td>27.0</td>\n",
       "      <td>16.0</td>\n",
       "      <td>17.0</td>\n",
       "      <td>0.0</td>\n",
       "      <td>25.0</td>\n",
       "    </tr>\n",
       "    <tr>\n",
       "      <th>9</th>\n",
       "      <td>2.0</td>\n",
       "      <td>4.0</td>\n",
       "      <td>0.0</td>\n",
       "      <td>6.0</td>\n",
       "      <td>28.0</td>\n",
       "      <td>9.0</td>\n",
       "      <td>0.0</td>\n",
       "      <td>31.0</td>\n",
       "      <td>18.0</td>\n",
       "      <td>0.0</td>\n",
       "    </tr>\n",
       "  </tbody>\n",
       "</table>\n",
       "</div>"
      ],
      "text/plain": [
       "      0     1     2     3     4      5     6     7     8      9\n",
       "0   0.0   1.0   8.0  11.0   4.0   68.0  28.0   0.0   7.0    2.0\n",
       "1   1.0   0.0   6.0   3.0  84.0    2.0  28.0   9.0   7.0   10.0\n",
       "2  20.0   1.0   0.0  32.0  26.0   14.0  10.0  15.0  14.0   10.0\n",
       "3   3.0   1.0  21.0   0.0   0.0  115.0   0.0   3.0  30.0    5.0\n",
       "4   2.0  41.0  36.0   6.0   0.0   13.0  18.0  24.0  17.0   99.0\n",
       "5  21.0   0.0   2.0  42.0   4.0    0.0  17.0   1.0  30.0    6.0\n",
       "6  30.0   0.0   5.0   0.0   6.0   37.0   0.0   0.0   6.0    1.0\n",
       "7   0.0   8.0  21.0   8.0  31.0    5.0   0.0   0.0   4.0  128.0\n",
       "8  13.0   9.0  37.0  52.0   9.0   27.0  16.0  17.0   0.0   25.0\n",
       "9   2.0   4.0   0.0   6.0  28.0    9.0   0.0  31.0  18.0    0.0"
      ]
     },
     "execution_count": 19,
     "metadata": {},
     "output_type": "execute_result"
    }
   ],
   "source": [
    "#Might need to use pandas for it\n",
    "df = pd.DataFrame(data=confusion)\n",
    "df"
   ]
  },
  {
   "cell_type": "markdown",
   "metadata": {},
   "source": [
    "# Q4 - Hardest numbers to predict"
   ]
  },
  {
   "cell_type": "code",
   "execution_count": 20,
   "metadata": {},
   "outputs": [
    {
     "data": {
      "image/png": "[encoded data removed]",
      "text/plain": [
       "<Figure size 2160x2160 with 5 Axes>"
      ]
     },
     "metadata": {
      "needs_background": "light"
     },
     "output_type": "display_data"
    },
    {
     "data": {
      "image/png": "[encoded data removed]",
      "text/plain": [
       "<Figure size 2160x2160 with 5 Axes>"
      ]
     },
     "metadata": {
      "needs_background": "light"
     },
     "output_type": "display_data"
    },
    {
     "data": {
      "image/png": "[encoded data removed]",
      "text/plain": [
       "<Figure size 2160x2160 with 5 Axes>"
      ]
     },
     "metadata": {
      "needs_background": "light"
     },
     "output_type": "display_data"
    },
    {
     "data": {
      "image/png": "[encoded data removed]",
      "text/plain": [
       "<Figure size 2160x2160 with 5 Axes>"
      ]
     },
     "metadata": {
      "needs_background": "light"
     },
     "output_type": "display_data"
    },
    {
     "data": {
      "image/png": "[encoded data removed]",
      "text/plain": [
       "<Figure size 2160x2160 with 5 Axes>"
      ]
     },
     "metadata": {
      "needs_background": "light"
     },
     "output_type": "display_data"
    }
   ],
   "source": [
    "# WRONG: I think this is wrong based on the pdf\n",
    "sums_of_confusions = np.sum(confusion, axis=1)\n",
    "indices = np.flip(np.argsort(sums_of_confusions))[:5]\n",
    "\n",
    "for i in indices:\n",
    "    examples = confusion_examples[i]\n",
    "    plt.figure(figsize=(30,30))\n",
    "    for k in range(5):\n",
    "        a1 = plt.subplot(i+1, 5, k+1)\n",
    "        pixels = np.array(examples[k].x, dtype='uint8')\n",
    "        pixels = pixels.reshape((16, 16))\n",
    "        plt.title(\"Real: {0}, Pred:{1}\".format(examples[k].y, examples[k].pred))\n",
    "        a1.imshow(pixels, cmap='gray')"
   ]
  },
  {
   "cell_type": "code",
   "execution_count": 21,
   "metadata": {},
   "outputs": [
    {
     "data": {
      "image/png": "[encoded data removed]",
      "text/plain": [
       "<Figure size 2160x2160 with 10 Axes>"
      ]
     },
     "metadata": {
      "needs_background": "light"
     },
     "output_type": "display_data"
    }
   ],
   "source": [
    "# The real way\n",
    "\n",
    "# We only have to show 5, but let's show 10 for the purposes of seeingthat indeed the first 5 are the worst\n",
    "indices = np.flip(np.argsort(mistakes_per_run))[:10]\n",
    "\n",
    "plt.figure(figsize=(30,30))\n",
    "\n",
    "k = 1\n",
    "for i in indices:\n",
    "    a1 = plt.subplot(1, 10, k)\n",
    "    pixels = np.array(x[i], dtype='uint8')\n",
    "    pixels = pixels.reshape((16, 16))\n",
    "    plt.title(\"Real: {0}\".format(y[i]))\n",
    "    a1.imshow(pixels, cmap='gray')\n",
    "    k+=1"
   ]
  },
  {
   "cell_type": "markdown",
   "metadata": {},
   "source": [
    "# Q5 - Gaussian Kernel"
   ]
  },
  {
   "cell_type": "code",
   "execution_count": 230,
   "metadata": {
    "collapsed": true
   },
   "outputs": [],
   "source": [
    "def pairwise_distance_single(X): # distances of X training data, single X matrix\n",
    "    m =X.shape[0]\n",
    "    n = X.shape[1]\n",
    "    G = np.matmul(X,X.T)\n",
    "    DG = np.diag(G).reshape(G.shape[0],1)\n",
    "    distances_sq = np.matmul(DG,np.ones((G.shape[0],1)).T)+ np.matmul(np.ones((G.shape[1],1)),DG.T)-2.0*G\n",
    "    return distances_sq\n",
    "\n",
    "def pairwise_distance_double(X1,X2): # distances of X training data, double matrices, X1 and X2\n",
    "    X1_pow = (X1**2).sum(axis=1).reshape(X1.shape[0],1) #sum the rows, size m1 array\n",
    "    X2_pow = (X2**2).sum(axis=1).reshape(X2.shape[0],1) #sum the rows, size m2 array\n",
    "    G = np.matmul(X1,X2.T)\n",
    "    m1,m2 =G.shape[0],G.shape[1] \n",
    "    distances_sq = np.matmul(X1_pow,np.ones((m2,1)).T)+ np.matmul(np.ones((m1,1)),X2_pow.T)-2.0*G\n",
    "    return distances_sq\n",
    "\n",
    "def Gaussian_Kernel(distances_sq,c=1):\n",
    "    K = np.exp(-c*distances_sq)\n",
    "    return K"
   ]
  },
  {
   "cell_type": "code",
   "execution_count": 226,
   "metadata": {},
   "outputs": [
    {
     "name": "stdout",
     "output_type": "stream",
     "text": [
      "t= 0\n",
      "label= 6.0\n",
      "alpha_t-1 []\n",
      "predicted label= 0\n",
      "prediction= [0. 0. 0. 0. 0. 0. 0. 0. 0. 0.]\n",
      "gamma_t= 0.0\n",
      "t= 2000\n",
      "label= 0.0\n",
      "alpha_t-1 [[-1. -1. -1. ... -1. -1. -1.]\n",
      " [ 0.  0.  0. ...  0.  0.  0.]\n",
      " [ 0.  0.  0. ...  0.  0.  0.]\n",
      " ...\n",
      " [ 0.  0.  0. ...  0.  0.  0.]\n",
      " [ 0.  0.  0. ...  0.  0.  0.]\n",
      " [ 0.  0.  0. ...  0.  0.  0.]]\n",
      "predicted label= 0\n",
      "prediction= [ 2.65827827e-31 -1.31022204e-48  2.84360679e-37 -1.50853874e-34\n",
      " -1.66918465e-40  3.59497565e-43  1.87382962e-38 -1.16290401e-42\n",
      " -2.65677277e-31  4.96633451e-46]\n",
      "gamma_t= 5.3165565497897784e-31\n",
      "t= 4000\n",
      "label= 0.0\n",
      "alpha_t-1 [[-1. -1. -1. ... -1. -1. -1.]\n",
      " [ 0.  0.  0. ...  0.  0.  0.]\n",
      " [ 0.  0.  0. ...  0.  0.  0.]\n",
      " ...\n",
      " [ 0.  0.  0. ...  0.  0.  0.]\n",
      " [ 0.  0.  0. ...  0.  0.  0.]\n",
      " [ 0.  0.  0. ...  0.  0.  0.]]\n",
      "predicted label= 0\n",
      "prediction= [ 2.80539063e-22 -8.70231539e-39 -1.10615619e-38 -9.78799230e-39\n",
      " -1.18839710e-37 -8.80437045e-39 -3.84603424e-27 -8.70231487e-39\n",
      " -2.80535207e-22 -9.61730222e-30]\n",
      "gamma_t= 5.610781251168945e-22\n",
      "t= 6000\n",
      "label= 5.0\n",
      "alpha_t-1 [[-1. -1. -1. ... -1. -1. -1.]\n",
      " [ 0.  0.  0. ...  0.  0.  0.]\n",
      " [ 0.  0.  0. ...  0.  0.  0.]\n",
      " ...\n",
      " [ 0.  0.  0. ...  0.  0.  0.]\n",
      " [ 0.  0.  0. ...  0.  0.  0.]\n",
      " [ 0.  0.  0. ...  0.  0.  0.]]\n",
      "predicted label= 4\n",
      "prediction= [ 7.93505224e-22 -2.18949255e-27 -1.81669205e-28 -1.20267712e-23\n",
      "  6.44049138e-21  1.20595579e-23 -7.93537203e-22 -3.43081891e-26\n",
      " -6.15003386e-29 -6.44045545e-21]\n",
      "gamma_t= 2.4119115763665528e-23\n",
      "t= 8000\n",
      "label= 9.0\n",
      "alpha_t-1 [[-1. -1. -1. ... -1. -1. -1.]\n",
      " [ 0.  0.  0. ...  0.  0.  0.]\n",
      " [ 0.  0.  0. ...  0.  0.  0.]\n",
      " ...\n",
      " [ 0.  0.  0. ...  0.  0.  0.]\n",
      " [ 0.  0.  0. ...  0.  0.  0.]\n",
      " [ 0.  0.  0. ...  0.  0.  0.]]\n",
      "predicted label= 9\n",
      "prediction= [-1.62923249e-24 -8.13872285e-22  3.99794779e-28  9.81063344e-25\n",
      " -1.15322412e-11 -8.77676228e-17  8.77676244e-17 -4.11808303e-07\n",
      "  6.15621972e-17  4.11819836e-07]\n",
      "gamma_t= 8.236396713017316e-07\n"
     ]
    }
   ],
   "source": [
    "#Train with Gaussian Kernel\n",
    "Wt,train_errorst = perceptron_train(x,y,d,kernel_choice='Gaussian')"
   ]
  },
  {
   "cell_type": "code",
   "execution_count": null,
   "metadata": {
    "collapsed": true
   },
   "outputs": [],
   "source": [
    "#Test with Gaussian Kernel\n",
    "d_arr = np.arange(1,8)\n",
    "for d in d_arr:\n",
    "    for i in range(20):\n",
    "        X_train, X_test, y_train, y_test = allocate_training_test_sets(data,r =1/5)\n",
    "        W,train_errors = perceptron_train(X_train,y_train,d,kernel_choice='Gaussian')\n",
    "        test_error = perceptron_test(X_test,X_train, y_test,W,d,kernel_choice='Gaussian')"
   ]
  },
  {
   "cell_type": "code",
   "execution_count": null,
   "metadata": {
    "collapsed": true
   },
   "outputs": [],
   "source": [
    "#Cross Validation with Gaussian Kernel, find c_star\n",
    "d_arr = np.arange(1,8)\n",
    "for d in d_arr:\n",
    "    for i in range(20):\n",
    "        X_train, X_test, y_train, y_test = allocate_training_test_sets(data,r =1/5)\n",
    "        W,train_errors = perceptron_train(X_train,y_train,d)\n",
    "        test_error = perceptron_test(X_test,X_train, y_test,W,d)"
   ]
  },
  {
   "cell_type": "markdown",
   "metadata": {},
   "source": [
    "# Q6 - Choose an alternative method to generalise k-classes"
   ]
  },
  {
   "cell_type": "code",
   "execution_count": null,
   "metadata": {
    "collapsed": true
   },
   "outputs": [],
   "source": []
  },
  {
   "cell_type": "markdown",
   "metadata": {},
   "source": [
    "# Q7 - Choose two more algorithms to compare"
   ]
  },
  {
   "cell_type": "markdown",
   "metadata": {},
   "source": [
    "### Multinomial Logistic Regression "
   ]
  },
  {
   "cell_type": "code",
   "execution_count": 238,
   "metadata": {},
   "outputs": [],
   "source": [
    "#One against rest approach\n",
    "#Problem: What is the hyperparameter to be tuned? C-value: C = 1/lambda, which is the regularization coefficient. \n",
    "#https://stackoverflow.com/questions/21816346/fine-tuning-parameters-in-logistic-regression\n",
    "#http://dataaspirant.com/2017/05/15/implement-multinomial-logistic-regression-python/\n",
    "from sklearn.linear_model import LogisticRegression\n",
    "\n",
    "X_train, X_test, y_train, y_test = allocate_training_test_sets(data,r =1/5)\n",
    "# Train multi-classification model with logistic regression\n",
    "lr = LogisticRegression(C=1,random_state=0, solver='newton-cg',multi_class='multinomial').fit(X_train, y_train)"
   ]
  },
  {
   "cell_type": "code",
   "execution_count": 245,
   "metadata": {},
   "outputs": [
    {
     "name": "stdout",
     "output_type": "stream",
     "text": [
      "Multinomial Logistic regression Train Accuracy ::  0.9904544232320516\n",
      "Multinomial Logistic regression Test Accuracy ::  0.9354838709677419\n"
     ]
    }
   ],
   "source": [
    "from sklearn import metrics\n",
    "#print (\"Logistic regression Train Accuracy :: \", metrics.accuracy_score(y_train, lr.predict(x_train)))\n",
    "#print (\"Logistic regression Test Accuracy :: \", metrics.accuracy_score(y_test, lr.predict(x_test)))\n",
    "print (\"Multinomial Logistic regression Train Accuracy :: \", metrics.accuracy_score(y_train, lr.predict(X_train)))\n",
    "print (\"Multinomial Logistic regression Test Accuracy :: \", metrics.accuracy_score(y_test, lr.predict(X_test)))\n",
    " "
   ]
  },
  {
   "cell_type": "code",
   "execution_count": null,
   "metadata": {
    "collapsed": true
   },
   "outputs": [],
   "source": [
    "# Different ideas - LR uses probability theory, it'd be interest to compare with perceptron which is simply geometric. "
   ]
  },
  {
   "cell_type": "markdown",
   "metadata": {},
   "source": [
    "### Support Vector"
   ]
  },
  {
   "cell_type": "code",
   "execution_count": null,
   "metadata": {
    "collapsed": true
   },
   "outputs": [],
   "source": [
    "#One against one approach, or One against All approach? "
   ]
  },
  {
   "cell_type": "code",
   "execution_count": null,
   "metadata": {
    "collapsed": true
   },
   "outputs": [],
   "source": [
    "#Maybe logistic regression and SVM. \n"
   ]
  },
  {
   "cell_type": "code",
   "execution_count": null,
   "metadata": {
    "collapsed": true
   },
   "outputs": [],
   "source": []
  },
  {
   "cell_type": "code",
   "execution_count": null,
   "metadata": {
    "collapsed": true
   },
   "outputs": [],
   "source": []
  }
 ],
 "metadata": {
  "kernelspec": {
   "display_name": "Python 3",
   "language": "python",
   "name": "python3"
  },
  "language_info": {
   "codemirror_mode": {
    "name": "ipython",
    "version": 3
   },
   "file_extension": ".py",
   "mimetype": "text/x-python",
   "name": "python",
   "nbconvert_exporter": "python",
   "pygments_lexer": "ipython3",
   "version": "3.6.6"
  }
 },
 "nbformat": 4,
 "nbformat_minor": 2
}
