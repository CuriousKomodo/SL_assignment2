{
 "cells": [
  {
   "cell_type": "markdown",
   "metadata": {},
   "source": [
    "# Part 2"
   ]
  },
  {
   "cell_type": "code",
   "execution_count": 1,
   "metadata": {
    "collapsed": true
   },
   "outputs": [],
   "source": [
    "import os\n",
    "import time\n",
    "import numpy as np\n",
    "import matplotlib.pyplot as plt \n",
    "import scipy\n",
    "import scipy.io as spio\n",
    "import pandas as pd\n",
    "from sklearn.model_selection import KFold\n",
    "from sklearn.model_selection import train_test_split\n",
    "import math\n",
    "import urllib\n",
    "from urllib.request import urlopen\n",
    "%matplotlib inline\n",
    "import urllib.request\n",
    "import datetime as dt\n",
    "from datetime import datetime\n",
    "from sklearn.model_selection import KFold\n",
    "from sklearn.model_selection import train_test_split\n",
    "import pandas as pd"
   ]
  },
  {
   "cell_type": "code",
   "execution_count": 484,
   "metadata": {
    "collapsed": true
   },
   "outputs": [],
   "source": [
    "def generate_data(m,n,winnow=False):\n",
    "    if winnow:\n",
    "        data = np.random.randint(2, size=(m,(n+1)))\n",
    "        data = np.sign(data)\n",
    "    else:\n",
    "        data = np.random.uniform(low=-1, high=1, size=(m,(n+1)))\n",
    "        data = np.sign(data)\n",
    "    x = data\n",
    "    y = data[:,0]\n",
    "    return x,y\n",
    "\n",
    "def generate_data_winnow(m,n):\n",
    "    data = np.random.randint(2, size=(m,(n+1)))\n",
    "    data = np.sign(data)\n",
    "    return data\n",
    "\n",
    "def add_bias(x):\n",
    "    x_with_bias = np.ones((x.shape[0],x.shape[1]+1))\n",
    "    x_with_bias[:,:-1] = x\n",
    "    return x_with_bias"
   ]
  },
  {
   "cell_type": "markdown",
   "metadata": {},
   "source": [
    "## Binary Perceptron"
   ]
  },
  {
   "cell_type": "code",
   "execution_count": 537,
   "metadata": {},
   "outputs": [],
   "source": [
    "# Binary perceptron algorithm \n",
    "# Learning rate? \n",
    "def perceptron_train(x,y,max_epoch=20, tol=0.01, learning_rate=1,random_select=False):\n",
    "    m_train = x.shape[0] #number of examples\n",
    "    n = x.shape[1] #number of features\n",
    "    x = add_bias(x)\n",
    "    error_per_epoch = np.zeros(max_epoch)\n",
    "    errors = np.zeros(m_train)\n",
    "    W = np.zeros(n+1)\n",
    "    \n",
    "    num_errors = 0 \n",
    "    \n",
    "    if random_select:\n",
    "        max_epoch =1\n",
    "        m = np.random.randint(low=0, high=m_train) #select random number of times to train the perceptron. \n",
    "    else:\n",
    "        m = m_train\n",
    "        \n",
    "    for epoch in range(max_epoch):\n",
    "        #print('epoch=',epoch)\n",
    "        errors = np.zeros(m)\n",
    "        num_errors = 0 #This should be bounded..? Maybe calculate the bound in the explanation\n",
    "    \n",
    "        #iterate through training set\n",
    "        for t in range(m):\n",
    "            x_t = x[t,:]\n",
    "            y_t = y[t]\n",
    "            pred_t = np.sign(W@x_t) #0 to begin with \n",
    "    \n",
    "            if pred_t*y_t<=0:\n",
    "                #print('t=',t)\n",
    "                #print('error! y_lab=', y_t)\n",
    "                num_errors +=1\n",
    "                W = W + learning_rate*x_t.T*y_t\n",
    "                errors[t] = num_errors \n",
    "                #print('W=',W)\n",
    "                \n",
    "        error_per_epoch[epoch] = num_errors\n",
    "        #print(epoch, 'error=',errors[-1])\n",
    "        \n",
    "        #print('current_error_rate', error_per_epoch)\n",
    "        \n",
    "        if epoch>1:\n",
    "            #print('old_error=',error_per_epoch[epoch-1])\n",
    "            #print('new_error=',error_per_epoch[epoch])\n",
    "            diff_rates = (error_per_epoch[epoch-1] - error_per_epoch[epoch])/m\n",
    " \n",
    "            #Stop if the error rate has increased, \n",
    "            #or the difference in error rate between the previous one and the current one < tolerance. \n",
    "            if error_per_epoch[epoch]/m < 0.05:\n",
    "                print('error rate< 10%')\n",
    "                if diff_rates<tol:\n",
    "                    print('converging')\n",
    "                    break\n",
    "                elif diff_rates<0:\n",
    "                    print('error increased')\n",
    "                    break\n",
    "                elif error_per_epoch[epoch]==0:\n",
    "                    print('no error')\n",
    "                    break\n",
    "        \n",
    "    return W, error_per_epoch[:epoch+1]\n",
    "\n",
    "\n",
    "def perceptron_test(x_test,y_test,W):\n",
    "    x_test = add_bias(x_test)\n",
    "    m_test = x_test.shape[0]\n",
    "    pred = np.sign(x_test@W) #(n,1) x (m_test,n)\n",
    "    diff = pred - y_test\n",
    "    mistakes = len(diff[diff!=0])   \n",
    "    return mistakes,pred"
   ]
  },
  {
   "cell_type": "code",
   "execution_count": 409,
   "metadata": {},
   "outputs": [
    {
     "name": "stdout",
     "output_type": "stream",
     "text": [
      "error rate< 10%\n",
      "no error\n"
     ]
    }
   ],
   "source": [
    "x,y = generate_data(20,30)\n",
    "W, error_per_epoch = perceptron_train(x,y,max_epoch=30, tol=0.01, learning_rate=1)"
   ]
  },
  {
   "cell_type": "code",
   "execution_count": 132,
   "metadata": {},
   "outputs": [],
   "source": [
    "mistakes,pred = perceptron_test(x[:10],y[:10],W)"
   ]
  },
  {
   "cell_type": "code",
   "execution_count": 410,
   "metadata": {},
   "outputs": [
    {
     "data": {
      "text/plain": [
       "array([9., 3., 0.])"
      ]
     },
     "execution_count": 410,
     "metadata": {},
     "output_type": "execute_result"
    }
   ],
   "source": [
    "error_per_epoch\n",
    "### Does not seem to converge for some combination of x and y. "
   ]
  },
  {
   "cell_type": "markdown",
   "metadata": {},
   "source": [
    "## Winnow"
   ]
  },
  {
   "cell_type": "code",
   "execution_count": 478,
   "metadata": {
    "collapsed": true
   },
   "outputs": [],
   "source": [
    "def winnow_train(x,y,max_epoch=20,tol=0.01, learning_rate=1):\n",
    "    m = x.shape[0] #number of examples\n",
    "    n = x.shape[1] #number of features\n",
    "    error_per_epoch = np.zeros(max_epoch)\n",
    "    errors = np.zeros(m)\n",
    "    W = np.ones(n)\n",
    "    #x = add_bias(x)\n",
    "    gamma_bound = n/2\n",
    "    mistake_bound = (n/gamma_bound)**2\n",
    "    #print(mistake_bound)\n",
    "    num_errors = 0 \n",
    "    \n",
    "    #for epoch in range(max_epoch):\n",
    "    epoch = 0\n",
    "    while epoch < max_epoch:   \n",
    "        errors = np.zeros(m)\n",
    "        num_errors = 0 #This should be bounded..? Maybe calculate the bound in the explanation\n",
    "        #print('epoch=',epoch)\n",
    "        #iterate through training set\n",
    "        for t in range(m):\n",
    "            \n",
    "            x_t = x[t,:]\n",
    "            y_t = y[t]\n",
    "            gamma = W@x_t\n",
    "            \n",
    "            if gamma>= gamma_bound:\n",
    "                pred_t = 1\n",
    "            else:\n",
    "                pred_t = 0\n",
    "            \n",
    "            if pred_t != y_t:\n",
    "#                 print('error!')\n",
    "                #print('pred=',pred_t)\n",
    "#                 print('y_t=',y_t)\n",
    "                num_errors+=1\n",
    "                #print('x_t=',x_t)\n",
    "                #print('y_t=',y_t)\n",
    "                power = (y_t - pred_t)*x_t/1.0 #1 when error made on positive class, -1 when error made on negative class\n",
    "                #print('ratio of update of W',power)\n",
    "                W = W*(2**power) #element wise multiplication, and element wise power\n",
    "                #print('W=',W)\n",
    "                #Once weight>n, it should no longer change. \n",
    "                W[W>n] = n\n",
    "#                 print(W)\n",
    "                errors[t] = num_errors\n",
    "#                 print('current error',num_errors)\n",
    "                #print('W=',W)\n",
    "                \n",
    "        error_per_epoch[epoch] = num_errors\n",
    "        \n",
    "        if epoch>1:\n",
    "            diff_rates = (error_per_epoch[epoch-1] - error_per_epoch[epoch])/m\n",
    "            #print(\"Error rate is now \", error_per_epoch[epoch]/m )\n",
    "            #Stop if the error rate has increased, \n",
    "            #or the difference in error rate between the previous one and the current one < tolerance. \n",
    "            if error_per_epoch[epoch]/m < 0.05:\n",
    "                #print('error rate< 5%')\n",
    "                if diff_rates<tol:\n",
    "                    print('converging')\n",
    "                    break\n",
    "                elif diff_rates<0:\n",
    "                    print('error increased')\n",
    "                    break\n",
    "                elif error_per_epoch[epoch]==0:\n",
    "                    print('no error')  \n",
    "                    break\n",
    "        epoch += 1\n",
    "    return W, error_per_epoch[:epoch+1]\n",
    "\n",
    "\n",
    "def winnow_test(x_test,y_test,W):\n",
    "    m_test = x_test.shape[0]\n",
    "    n = x_test.shape[1]\n",
    "    gamma = x_test@W\n",
    "    pred = np.zeros(m_test)\n",
    "    pred[gamma>=n/2] = 1\n",
    "    diff = pred - y_test\n",
    "    mistakes = len(diff[diff!=0])  \n",
    "    return mistakes,pred"
   ]
  },
  {
   "cell_type": "code",
   "execution_count": 481,
   "metadata": {},
   "outputs": [
    {
     "name": "stdout",
     "output_type": "stream",
     "text": [
      "converging\n"
     ]
    },
    {
     "data": {
      "text/plain": [
       "0"
      ]
     },
     "execution_count": 481,
     "metadata": {},
     "output_type": "execute_result"
    }
   ],
   "source": [
    "x,y = generate_data(40,20,winnow=True)\n",
    "W, error_per_epoch = winnow_train(x,y,max_epoch=15,tol=0.01, learning_rate=1)\n",
    "mistakes,pred = winnow_test(x[:20],y[:20],W)\n",
    "mistakes"
   ]
  },
  {
   "cell_type": "code",
   "execution_count": null,
   "metadata": {
    "collapsed": true
   },
   "outputs": [],
   "source": [
    "# Least Squares Regression"
   ]
  },
  {
   "cell_type": "code",
   "execution_count": null,
   "metadata": {
    "collapsed": true
   },
   "outputs": [],
   "source": []
  },
  {
   "cell_type": "code",
   "execution_count": null,
   "metadata": {
    "collapsed": true
   },
   "outputs": [],
   "source": [
    "# 1 Nearest Neighbors"
   ]
  },
  {
   "cell_type": "code",
   "execution_count": null,
   "metadata": {
    "collapsed": true
   },
   "outputs": [],
   "source": []
  },
  {
   "cell_type": "markdown",
   "metadata": {},
   "source": [
    "## Estimate Sample Complexity"
   ]
  },
  {
   "cell_type": "markdown",
   "metadata": {},
   "source": [
    "Justifying the choice of sample size: when n < log_2(1000), there is a possbility that the sample contains all possible combinations of n agents' outcomes. Igore this "
   ]
  },
  {
   "cell_type": "code",
   "execution_count": 558,
   "metadata": {},
   "outputs": [],
   "source": [
    "#Compute by brute force, the sample complexity of each training algorithms\n",
    "#Might derive a lower bound for m for a fixed n. Refer to lecture notes. \n",
    "\n",
    "def estimate_sample_complexity(max_m,max_n,function_choice):\n",
    "    sample_complexity = np.zeros(max_n)\n",
    "    \n",
    "    for n in np.arange(1,max_n):\n",
    "        test_size = min(2**n, 10000) #research for a better test size, curse of dimensionality\n",
    "        #m_lower_bound = lower_bound_m(n,function_choice)\n",
    "        min_m_per_run = np.zeros(20) #stores the minimum m found each run. \n",
    "        \n",
    "        #Repeat for 20 runs. \n",
    "        for run in range(20):\n",
    "            found_minimum_m=False \n",
    "            m = max(1, n-30) #initialize m. \n",
    "            \n",
    "            #Iterate through increasing values of m. \n",
    "            while found_minimum_m==False:\n",
    "                if function_choice=='winnow':\n",
    "                    x,y = generate_data(m,n,True)\n",
    "                    W, _ = winnow_train(x,y,max_epoch=1,tol=0.01, learning_rate=1)\n",
    "                    x_test,y_test = generate_data(test_size,n,True)\n",
    "                    test_mistakes,_ = winnow_test(x_test,y_test,W)\n",
    "\n",
    "                elif function_choice == 'perceptron':\n",
    "                    x,y = generate_data(m,n)\n",
    "                    W, _ = perceptron_train(x,y,max_epoch=1, tol=0.01, learning_rate=1,random_select=True)\n",
    "                    x_test,y_test = generate_data(test_size,n)\n",
    "                    test_mistakes,_= perceptron_test(x_test,y_test,W)\n",
    "                    \n",
    "                    \n",
    "                #Generalisation error is upper bound of training mistakes over total number of observations in D\n",
    "                gen_error = (1.0/test_size) * test_mistakes\n",
    "                \n",
    "                if gen_error<0.1:\n",
    "                    #print('n=',n, ' run=',run, ' min m=',m)\n",
    "                    min_m_per_run[run] = m\n",
    "                    found_minimum_m = True\n",
    "                else:\n",
    "                    m +=1\n",
    "\n",
    "        sample_complexity[n] = min_m_per_run.mean()\n",
    "        \n",
    "    return sample_complexity"
   ]
  },
  {
   "cell_type": "code",
   "execution_count": 555,
   "metadata": {
    "scrolled": false
   },
   "outputs": [],
   "source": [
    "sample_complexity = estimate_sample_complexity(50,50,'winnow')"
   ]
  },
  {
   "cell_type": "code",
   "execution_count": 556,
   "metadata": {},
   "outputs": [
    {
     "data": {
      "text/plain": [
       "[<matplotlib.lines.Line2D at 0x102c4b128>]"
      ]
     },
     "execution_count": 556,
     "metadata": {},
     "output_type": "execute_result"
    },
    {
     "data": {
      "image/png": "[encoded data removed]",
      "text/plain": [
       "<Figure size 432x288 with 1 Axes>"
      ]
     },
     "metadata": {
      "needs_background": "light"
     },
     "output_type": "display_data"
    }
   ],
   "source": [
    "plt.plot(sample_complexity)"
   ]
  },
  {
   "cell_type": "code",
   "execution_count": 559,
   "metadata": {},
   "outputs": [],
   "source": [
    "sample_complexity_p = estimate_sample_complexity(20,20,'perceptron') #a bit slower, for some reason. "
   ]
  },
  {
   "cell_type": "code",
   "execution_count": 560,
   "metadata": {},
   "outputs": [
    {
     "data": {
      "text/plain": [
       "[<matplotlib.lines.Line2D at 0x1a16cb7b00>]"
      ]
     },
     "execution_count": 560,
     "metadata": {},
     "output_type": "execute_result"
    },
    {
     "data": {
      "image/png": "[encoded data removed]",
      "text/plain": [
       "<Figure size 432x288 with 1 Axes>"
      ]
     },
     "metadata": {
      "needs_background": "light"
     },
     "output_type": "display_data"
    }
   ],
   "source": [
    "plt.plot(sample_complexity_p)"
   ]
  },
  {
   "cell_type": "code",
   "execution_count": null,
   "metadata": {
    "collapsed": true
   },
   "outputs": [],
   "source": [
    "## Could potentially use Binary search method"
   ]
  },
  {
   "cell_type": "code",
   "execution_count": null,
   "metadata": {
    "collapsed": true
   },
   "outputs": [],
   "source": [
    "#m <= nplog(H_size/delta)/epsilon\n",
    "#H_size restricted on S <= 2^m "
   ]
  },
  {
   "cell_type": "code",
   "execution_count": null,
   "metadata": {
    "collapsed": true
   },
   "outputs": [],
   "source": []
  },
  {
   "cell_type": "code",
   "execution_count": null,
   "metadata": {
    "collapsed": true
   },
   "outputs": [],
   "source": []
  }
 ],
 "metadata": {
  "kernelspec": {
   "display_name": "Python 3",
   "language": "python",
   "name": "python3"
  },
  "language_info": {
   "codemirror_mode": {
    "name": "ipython",
    "version": 3
   },
   "file_extension": ".py",
   "mimetype": "text/x-python",
   "name": "python",
   "nbconvert_exporter": "python",
   "pygments_lexer": "ipython3",
   "version": "3.6.6"
  }
 },
 "nbformat": 4,
 "nbformat_minor": 2
}
